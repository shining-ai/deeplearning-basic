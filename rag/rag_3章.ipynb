{
 "cells": [
  {
   "cell_type": "markdown",
   "id": "699f1113",
   "metadata": {},
   "source": [
    "# LangChainとLangGraphによる RAG・AIエージェント\n",
    "3章：プロンプトエンジニアリング"
   ]
  },
  {
   "cell_type": "code",
   "execution_count": null,
   "id": "46c3f8ca",
   "metadata": {},
   "outputs": [],
   "source": [
    "import os\n",
    "\n",
    "os.environ[\"OPENAI_API_KEY\"] = \"xxx\""
   ]
  },
  {
   "cell_type": "code",
   "execution_count": 8,
   "id": "27bebb76",
   "metadata": {},
   "outputs": [],
   "source": [
    "from openai import OpenAI\n",
    "\n",
    "client = OpenAI()"
   ]
  },
  {
   "cell_type": "markdown",
   "id": "7d69c87e",
   "metadata": {},
   "source": [
    "## プロンプトのテンプレート化"
   ]
  },
  {
   "cell_type": "code",
   "execution_count": 5,
   "id": "da4aa00c",
   "metadata": {},
   "outputs": [],
   "source": [
    "prompt = \"\"\"\\\n",
    "ユーザーが入力した料理のレシピを考えてください。\n",
    "\n",
    "料理名: '''\n",
    "{dish}\n",
    "'''\n",
    "\"\"\""
   ]
  },
  {
   "cell_type": "code",
   "execution_count": 6,
   "id": "628cf43c",
   "metadata": {},
   "outputs": [
    {
     "data": {
      "text/plain": [
       "\"ユーザーが入力した料理のレシピを考えてください。\\n\\n料理名: '''\\nカレー\\n'''\\n\""
      ]
     },
     "execution_count": 6,
     "metadata": {},
     "output_type": "execute_result"
    }
   ],
   "source": [
    "dish = \"カレー\"\n",
    "prompt.format(dish=dish)"
   ]
  },
  {
   "cell_type": "code",
   "execution_count": 9,
   "id": "5d13c8a2",
   "metadata": {},
   "outputs": [
    {
     "name": "stdout",
     "output_type": "stream",
     "text": [
      "もちろん、カレーのレシピを提案します。基本的なチキンカレーのレシピで、あなたのお好みでアレンジも可能です。\n",
      "\n",
      "### 材料 (4人分)\n",
      "\n",
      "- 鶏肉（もも肉または胸肉） 400g\n",
      "- 玉ねぎ 2個\n",
      "- にんにく 2かけ\n",
      "- 生姜 1かけ\n",
      "- トマト 1個（またはホールトマト缶 1缶）\n",
      "- カレーパウダー 大さじ2～3（お好みで調整）\n",
      "- クミンシード 小さじ1\n",
      "- ココナッツミルク 200ml（お好みで）\n",
      "- サラダ油 大さじ2\n",
      "- 塩 適量\n",
      "- 胡椒 適量\n",
      "- 水 300ml\n",
      "- パクチー（飾り用、オプション）\n",
      "\n",
      "### 作り方\n",
      "\n",
      "1. **下ごしらえ**:\n",
      "   - 鶏肉は一口大に切り、塩と胡椒を振って下味をつけておきます。\n",
      "   - 玉ねぎ、にんにく、生姜はそれぞれみじん切りにします。\n",
      "   - トマトは角切りにします（缶詰を使用する場合はそのまま使います）。\n",
      "\n",
      "2. **炒める**:\n",
      "   - 大きめの鍋にサラダ油を熱し、クミンシードを加えて香りが立つまで炒めます。\n",
      "   - 次に、みじん切りにした玉ねぎを加えて透明になるまで炒めます。\n",
      "\n",
      "3. **香辛料の追加**:\n",
      "   - にんにくと生姜を加え、さらに1～2分炒めます。\n",
      "   - カレーパウダーを加え、全体に香辛料の香りが立つまでしっかり混ぜて炒めます。\n",
      "\n",
      "4. **鶏肉を加える**:\n",
      "   - 鶏肉を加え、表面が白くなるまで炒めます。\n",
      "\n",
      "5. **煮込む**:\n",
      "   - トマトと水を加え、沸騰させたら火を弱めて蓋をし、15～20分煮込みます。\n",
      "   - ココナッツミルクを加え、さらに5分ほど煮込みます。お好みで塩と胡椒で味を調えてください。\n",
      "\n",
      "6. **盛り付け**:\n",
      "   - 皿にご飯を盛り、その上にカレーをかけます。お好みでパクチーを飾って完成です。\n",
      "\n",
      "### サーブのアイデア\n",
      "- ナンやライスと一緒にサーブすると美味しいです。\n",
      "- サラダやラッシーと合わせると、バランスの良い食事になります。\n",
      "\n",
      "楽しんでお料理してください！\n"
     ]
    }
   ],
   "source": [
    "def generate_recipe(dish: str) -> str:\n",
    "    response = client.chat.completions.create(\n",
    "        model=\"gpt-4o-mini\",\n",
    "        messages=[\n",
    "            {\"role\": \"system\", \"content\": \"ユーザーが入力した料理のレシピを考えてください。\"},\n",
    "            {\"role\": \"user\", \"content\": f\"{dish}\"},\n",
    "        ],\n",
    "    )\n",
    "    return response.choices[0].message.content\n",
    "\n",
    "\n",
    "recipe = generate_recipe(\"カレー\")\n",
    "print(recipe)"
   ]
  },
  {
   "cell_type": "markdown",
   "id": "50866ded",
   "metadata": {},
   "source": [
    "### 出力方法を指定"
   ]
  },
  {
   "cell_type": "code",
   "execution_count": 11,
   "id": "6008dd2b",
   "metadata": {},
   "outputs": [
    {
     "name": "stdout",
     "output_type": "stream",
     "text": [
      "```json\n",
      "{\n",
      "  \"材料\": [\"玉ねぎ\", \"にんじん\", \"じゃがいも\", \"鶏肉\", \"カレールー\", \"水\", \"サラダ油\", \"塩\"],\n",
      "  \"手順\": [\n",
      "    \"玉ねぎ、にんじん、じゃがいもをそれぞれいちょう切りにする。\",\n",
      "    \"フライパンにサラダ油を熱し、玉ねぎをしんなりするまで炒める。\",\n",
      "    \"鶏肉を加えて表面が白くなるまで炒める。\",\n",
      "    \"にんじんとじゃがいもを加え、軽く炒める。\",\n",
      "    \"水を加えて沸騰させ、アクを取る。\",\n",
      "    \"弱火にして、野菜が柔らかくなるまで煮る。\",\n",
      "    \"カレールーを加えてよく溶かし、さらに10分ほど煮込む。\",\n",
      "    \"塩で味を調整して完成。\"\n",
      "  ]\n",
      "}\n",
      "```\n"
     ]
    }
   ],
   "source": [
    "system_prompt = \"\"\"\\\n",
    "ユーザーが入力した料理のレシピを考えてください。\n",
    "\n",
    "出力は以下のJSON形式にしてください。\n",
    "\n",
    "```\n",
    "{\n",
    "  \"材料\": [\"材料1\", \"材料2\"],\n",
    "  \"手順\": [\"手順1\", \"手順2\"]\n",
    "}\n",
    "```\n",
    "\"\"\"\n",
    "\n",
    "response = client.chat.completions.create(\n",
    "    model=\"gpt-4o-mini\",\n",
    "    messages=[\n",
    "        {\"role\": \"system\", \"content\": system_prompt},\n",
    "        {\"role\": \"user\", \"content\": \"カレー\"},\n",
    "    ],\n",
    ")\n",
    "print(response.choices[0].message.content)\n"
   ]
  },
  {
   "cell_type": "markdown",
   "id": "5b861f62",
   "metadata": {},
   "source": [
    "## Zero-shot プロンプティング"
   ]
  },
  {
   "cell_type": "code",
   "execution_count": 12,
   "id": "e1727136",
   "metadata": {},
   "outputs": [
    {
     "name": "stdout",
     "output_type": "stream",
     "text": [
      "ポジティブ\n"
     ]
    }
   ],
   "source": [
    "response = client.chat.completions.create(\n",
    "    model=\"gpt-4o-mini\",\n",
    "    messages=[\n",
    "        {\n",
    "            \"role\": \"system\",\n",
    "            \"content\": \"入力をポジティブ・ネガティブ・中立のどれかに分類してください。\",\n",
    "        },\n",
    "        {\n",
    "            \"role\": \"user\",\n",
    "            \"content\": \"ChatGPTはとても便利だ\",\n",
    "        },\n",
    "    ],\n",
    ")\n",
    "print(response.choices[0].message.content)"
   ]
  },
  {
   "cell_type": "markdown",
   "id": "95b9f2eb",
   "metadata": {},
   "source": [
    "## Few-shot プロンプティング"
   ]
  },
  {
   "cell_type": "code",
   "execution_count": 13,
   "id": "6e131aab",
   "metadata": {},
   "outputs": [
    {
     "name": "stdout",
     "output_type": "stream",
     "text": [
      "はい、ChatGPTは多くの用途に役立つ便利なツールです。情報提供、質問への回答、アイデアの提案、会話のサポートなど、さまざまな目的で利用されています。何か具体的にお手伝いできることがありますか？\n"
     ]
    }
   ],
   "source": [
    "response = client.chat.completions.create(\n",
    "    model=\"gpt-4o-mini\",\n",
    "    messages=[\n",
    "        {\"role\": \"system\", \"content\": \"入力がAIに関係するか回答してください。\"},\n",
    "        {\"role\": \"user\", \"content\": \"ChatGPTはとても便利だ\"},\n",
    "    ],\n",
    ")\n",
    "print(response.choices[0].message.content)"
   ]
  },
  {
   "cell_type": "code",
   "execution_count": 14,
   "id": "f672e33b",
   "metadata": {},
   "outputs": [
    {
     "name": "stdout",
     "output_type": "stream",
     "text": [
      "true\n"
     ]
    }
   ],
   "source": [
    "response = client.chat.completions.create(\n",
    "    model=\"gpt-4o-mini\",\n",
    "    messages=[\n",
    "        {\"role\": \"system\", \"content\": \"入力がAIに関係するか回答してください。\"},\n",
    "        {\"role\": \"user\", \"content\": \"AIの進化はすごい\"},\n",
    "        {\"role\": \"assistant\", \"content\": \"true\"},\n",
    "        {\"role\": \"user\", \"content\": \"今日は良い天気だ\"},\n",
    "        {\"role\": \"assistant\", \"content\": \"false\"},\n",
    "        {\"role\": \"user\", \"content\": \"ChatGPTはとても便利だ\"},\n",
    "    ],\n",
    ")\n",
    "print(response.choices[0].message.content)"
   ]
  },
  {
   "cell_type": "markdown",
   "id": "74da2a19",
   "metadata": {},
   "source": [
    "## Zero-shot Chain-of-Thought プロンプティング"
   ]
  },
  {
   "cell_type": "code",
   "execution_count": 15,
   "id": "5a0c0f65",
   "metadata": {},
   "outputs": [
    {
     "name": "stdout",
     "output_type": "stream",
     "text": [
      "10\n"
     ]
    }
   ],
   "source": [
    "response = client.chat.completions.create(\n",
    "    model=\"gpt-4o-mini\",\n",
    "    messages=[\n",
    "        {\"role\": \"system\", \"content\": \"回答だけ一言で出力してください。\"},\n",
    "        {\"role\": \"user\", \"content\": \"10 + 2 * 3 - 4 * 2\"},\n",
    "    ],\n",
    ")\n",
    "print(response.choices[0].message.content)"
   ]
  },
  {
   "cell_type": "code",
   "execution_count": 16,
   "id": "93625e8d",
   "metadata": {},
   "outputs": [
    {
     "name": "stdout",
     "output_type": "stream",
     "text": [
      "計算をステップバイステップで行います。\n",
      "\n",
      "1. まず、乗算を先に計算します。\n",
      "   - \\(2 * 3 = 6\\)\n",
      "   - \\(4 * 2 = 8\\)\n",
      "\n",
      "2. これらをもとの式に戻します。\n",
      "   - \\(10 + 6 - 8\\)\n",
      "\n",
      "3. 次に、左から右へと加算と減算を行います。\n",
      "   - \\(10 + 6 = 16\\)\n",
      "   - \\(16 - 8 = 8\\)\n",
      "\n",
      "したがって、最終的な答えは \\(8\\) です。\n"
     ]
    }
   ],
   "source": [
    "response = client.chat.completions.create(\n",
    "    model=\"gpt-4o-mini\",\n",
    "    messages=[\n",
    "        {\"role\": \"system\", \"content\": \"ステップバイステップで考えてください。\"},\n",
    "        {\"role\": \"user\", \"content\": \"10 + 2 * 3 - 4 * 2\"},\n",
    "    ],\n",
    ")\n",
    "print(response.choices[0].message.content)"
   ]
  }
 ],
 "metadata": {
  "kernelspec": {
   "display_name": ".venv",
   "language": "python",
   "name": "python3"
  },
  "language_info": {
   "codemirror_mode": {
    "name": "ipython",
    "version": 3
   },
   "file_extension": ".py",
   "mimetype": "text/x-python",
   "name": "python",
   "nbconvert_exporter": "python",
   "pygments_lexer": "ipython3",
   "version": "3.12.3"
  }
 },
 "nbformat": 4,
 "nbformat_minor": 5
}
