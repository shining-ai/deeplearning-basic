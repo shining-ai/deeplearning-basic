{
 "cells": [
  {
   "cell_type": "code",
   "execution_count": null,
   "id": "92ecd2c3",
   "metadata": {},
   "outputs": [],
   "source": [
    "import os\n",
    "os.environ[\"LANGCHAIN_TRACING_V2\"] = \"true\"\n",
    "os.environ[\"LANGCHAIN_ENDPOINT\"] = \"https://api.smith.langchain.com\"\n",
    "os.environ[\"LANGCHAIN_API_KEY\"] = \"xxxx\"\n",
    "os.environ[\"LANGCHAIN_PROJECT\"] = \"agent-book\"\n",
    "\n",
    "os.environ[\"OPENAI_API_KEY\"] = \"xxxx\"\n",
    "\n",
    "os.environ[\"TAVILY_API_KEY\"] = \"xxxx\""
   ]
  },
  {
   "cell_type": "code",
   "execution_count": 2,
   "id": "5756849e",
   "metadata": {},
   "outputs": [
    {
     "name": "stdout",
     "output_type": "stream",
     "text": [
      "Requirement already satisfied: numpy==1.26.4 in /work/python_coding/.venv/lib/python3.12/site-packages (1.26.4)\n"
     ]
    }
   ],
   "source": [
    "!pip install numpy==1.26.4"
   ]
  },
  {
   "cell_type": "code",
   "execution_count": 3,
   "id": "8d38f7a7",
   "metadata": {},
   "outputs": [
    {
     "name": "stdout",
     "output_type": "stream",
     "text": [
      "1.26.4\n"
     ]
    }
   ],
   "source": [
    "import numpy as np\n",
    "\n",
    "print(np.__version__)\n",
    "assert np.__version__ == \"1.26.4\""
   ]
  },
  {
   "cell_type": "code",
   "execution_count": 4,
   "id": "71574b9c",
   "metadata": {},
   "outputs": [
    {
     "name": "stdout",
     "output_type": "stream",
     "text": [
      "Requirement already satisfied: langchain-core==0.3.0 in /work/python_coding/.venv/lib/python3.12/site-packages (0.3.0)\n",
      "Requirement already satisfied: langchain-openai==0.2.0 in /work/python_coding/.venv/lib/python3.12/site-packages (0.2.0)\n",
      "Requirement already satisfied: langchain-community==0.3.0 in /work/python_coding/.venv/lib/python3.12/site-packages (0.3.0)\n",
      "Requirement already satisfied: GitPython==3.1.43 in /work/python_coding/.venv/lib/python3.12/site-packages (3.1.43)\n",
      "Requirement already satisfied: langchain-chroma==0.1.4 in /work/python_coding/.venv/lib/python3.12/site-packages (0.1.4)\n",
      "Requirement already satisfied: tavily-python==0.5.0 in /work/python_coding/.venv/lib/python3.12/site-packages (0.5.0)\n",
      "Requirement already satisfied: pydantic==2.10.6 in /work/python_coding/.venv/lib/python3.12/site-packages (2.10.6)\n",
      "Requirement already satisfied: PyYAML>=5.3 in /work/python_coding/.venv/lib/python3.12/site-packages (from langchain-core==0.3.0) (6.0.2)\n",
      "Requirement already satisfied: jsonpatch<2.0,>=1.33 in /work/python_coding/.venv/lib/python3.12/site-packages (from langchain-core==0.3.0) (1.33)\n",
      "Requirement already satisfied: langsmith<0.2.0,>=0.1.117 in /work/python_coding/.venv/lib/python3.12/site-packages (from langchain-core==0.3.0) (0.1.147)\n",
      "Requirement already satisfied: packaging<25,>=23.2 in /work/python_coding/.venv/lib/python3.12/site-packages (from langchain-core==0.3.0) (24.2)\n",
      "Requirement already satisfied: tenacity!=8.4.0,<9.0.0,>=8.1.0 in /work/python_coding/.venv/lib/python3.12/site-packages (from langchain-core==0.3.0) (8.5.0)\n",
      "Requirement already satisfied: typing-extensions>=4.7 in /work/python_coding/.venv/lib/python3.12/site-packages (from langchain-core==0.3.0) (4.14.0)\n",
      "Requirement already satisfied: annotated-types>=0.6.0 in /work/python_coding/.venv/lib/python3.12/site-packages (from pydantic==2.10.6) (0.7.0)\n",
      "Requirement already satisfied: pydantic-core==2.27.2 in /work/python_coding/.venv/lib/python3.12/site-packages (from pydantic==2.10.6) (2.27.2)\n",
      "Requirement already satisfied: openai<2.0.0,>=1.40.0 in /work/python_coding/.venv/lib/python3.12/site-packages (from langchain-openai==0.2.0) (1.86.0)\n",
      "Requirement already satisfied: tiktoken<1,>=0.7 in /work/python_coding/.venv/lib/python3.12/site-packages (from langchain-openai==0.2.0) (0.9.0)\n",
      "Requirement already satisfied: SQLAlchemy<3,>=1.4 in /work/python_coding/.venv/lib/python3.12/site-packages (from langchain-community==0.3.0) (2.0.41)\n",
      "Requirement already satisfied: aiohttp<4.0.0,>=3.8.3 in /work/python_coding/.venv/lib/python3.12/site-packages (from langchain-community==0.3.0) (3.12.13)\n",
      "Requirement already satisfied: dataclasses-json<0.7,>=0.5.7 in /work/python_coding/.venv/lib/python3.12/site-packages (from langchain-community==0.3.0) (0.6.7)\n",
      "Requirement already satisfied: langchain<0.4.0,>=0.3.0 in /work/python_coding/.venv/lib/python3.12/site-packages (from langchain-community==0.3.0) (0.3.0)\n",
      "Requirement already satisfied: numpy<2.0.0,>=1.26.0 in /work/python_coding/.venv/lib/python3.12/site-packages (from langchain-community==0.3.0) (1.26.4)\n",
      "Requirement already satisfied: pydantic-settings<3.0.0,>=2.4.0 in /work/python_coding/.venv/lib/python3.12/site-packages (from langchain-community==0.3.0) (2.9.1)\n",
      "Requirement already satisfied: requests<3,>=2 in /work/python_coding/.venv/lib/python3.12/site-packages (from langchain-community==0.3.0) (2.32.4)\n",
      "Requirement already satisfied: gitdb<5,>=4.0.1 in /work/python_coding/.venv/lib/python3.12/site-packages (from GitPython==3.1.43) (4.0.12)\n",
      "Requirement already satisfied: chromadb!=0.5.4,!=0.5.5,<0.6.0,>=0.4.0 in /work/python_coding/.venv/lib/python3.12/site-packages (from langchain-chroma==0.1.4) (0.5.23)\n",
      "Requirement already satisfied: fastapi<1,>=0.95.2 in /work/python_coding/.venv/lib/python3.12/site-packages (from langchain-chroma==0.1.4) (0.115.13)\n",
      "Requirement already satisfied: httpx in /work/python_coding/.venv/lib/python3.12/site-packages (from tavily-python==0.5.0) (0.28.1)\n",
      "Requirement already satisfied: aiohappyeyeballs>=2.5.0 in /work/python_coding/.venv/lib/python3.12/site-packages (from aiohttp<4.0.0,>=3.8.3->langchain-community==0.3.0) (2.6.1)\n",
      "Requirement already satisfied: aiosignal>=1.1.2 in /work/python_coding/.venv/lib/python3.12/site-packages (from aiohttp<4.0.0,>=3.8.3->langchain-community==0.3.0) (1.3.2)\n",
      "Requirement already satisfied: attrs>=17.3.0 in /work/python_coding/.venv/lib/python3.12/site-packages (from aiohttp<4.0.0,>=3.8.3->langchain-community==0.3.0) (25.3.0)\n",
      "Requirement already satisfied: frozenlist>=1.1.1 in /work/python_coding/.venv/lib/python3.12/site-packages (from aiohttp<4.0.0,>=3.8.3->langchain-community==0.3.0) (1.7.0)\n",
      "Requirement already satisfied: multidict<7.0,>=4.5 in /work/python_coding/.venv/lib/python3.12/site-packages (from aiohttp<4.0.0,>=3.8.3->langchain-community==0.3.0) (6.5.0)\n",
      "Requirement already satisfied: propcache>=0.2.0 in /work/python_coding/.venv/lib/python3.12/site-packages (from aiohttp<4.0.0,>=3.8.3->langchain-community==0.3.0) (0.3.2)\n",
      "Requirement already satisfied: yarl<2.0,>=1.17.0 in /work/python_coding/.venv/lib/python3.12/site-packages (from aiohttp<4.0.0,>=3.8.3->langchain-community==0.3.0) (1.20.1)\n",
      "Requirement already satisfied: build>=1.0.3 in /work/python_coding/.venv/lib/python3.12/site-packages (from chromadb!=0.5.4,!=0.5.5,<0.6.0,>=0.4.0->langchain-chroma==0.1.4) (1.2.2.post1)\n",
      "Requirement already satisfied: chroma-hnswlib==0.7.6 in /work/python_coding/.venv/lib/python3.12/site-packages (from chromadb!=0.5.4,!=0.5.5,<0.6.0,>=0.4.0->langchain-chroma==0.1.4) (0.7.6)\n",
      "Requirement already satisfied: uvicorn>=0.18.3 in /work/python_coding/.venv/lib/python3.12/site-packages (from uvicorn[standard]>=0.18.3->chromadb!=0.5.4,!=0.5.5,<0.6.0,>=0.4.0->langchain-chroma==0.1.4) (0.34.3)\n",
      "Requirement already satisfied: posthog>=2.4.0 in /work/python_coding/.venv/lib/python3.12/site-packages (from chromadb!=0.5.4,!=0.5.5,<0.6.0,>=0.4.0->langchain-chroma==0.1.4) (5.3.0)\n",
      "Requirement already satisfied: onnxruntime>=1.14.1 in /work/python_coding/.venv/lib/python3.12/site-packages (from chromadb!=0.5.4,!=0.5.5,<0.6.0,>=0.4.0->langchain-chroma==0.1.4) (1.22.0)\n",
      "Requirement already satisfied: opentelemetry-api>=1.2.0 in /work/python_coding/.venv/lib/python3.12/site-packages (from chromadb!=0.5.4,!=0.5.5,<0.6.0,>=0.4.0->langchain-chroma==0.1.4) (1.34.1)\n",
      "Requirement already satisfied: opentelemetry-exporter-otlp-proto-grpc>=1.2.0 in /work/python_coding/.venv/lib/python3.12/site-packages (from chromadb!=0.5.4,!=0.5.5,<0.6.0,>=0.4.0->langchain-chroma==0.1.4) (1.34.1)\n",
      "Requirement already satisfied: opentelemetry-instrumentation-fastapi>=0.41b0 in /work/python_coding/.venv/lib/python3.12/site-packages (from chromadb!=0.5.4,!=0.5.5,<0.6.0,>=0.4.0->langchain-chroma==0.1.4) (0.55b1)\n",
      "Requirement already satisfied: opentelemetry-sdk>=1.2.0 in /work/python_coding/.venv/lib/python3.12/site-packages (from chromadb!=0.5.4,!=0.5.5,<0.6.0,>=0.4.0->langchain-chroma==0.1.4) (1.34.1)\n",
      "Requirement already satisfied: tokenizers<=0.20.3,>=0.13.2 in /work/python_coding/.venv/lib/python3.12/site-packages (from chromadb!=0.5.4,!=0.5.5,<0.6.0,>=0.4.0->langchain-chroma==0.1.4) (0.20.3)\n",
      "Requirement already satisfied: pypika>=0.48.9 in /work/python_coding/.venv/lib/python3.12/site-packages (from chromadb!=0.5.4,!=0.5.5,<0.6.0,>=0.4.0->langchain-chroma==0.1.4) (0.48.9)\n",
      "Requirement already satisfied: tqdm>=4.65.0 in /work/python_coding/.venv/lib/python3.12/site-packages (from chromadb!=0.5.4,!=0.5.5,<0.6.0,>=0.4.0->langchain-chroma==0.1.4) (4.67.1)\n",
      "Requirement already satisfied: overrides>=7.3.1 in /work/python_coding/.venv/lib/python3.12/site-packages (from chromadb!=0.5.4,!=0.5.5,<0.6.0,>=0.4.0->langchain-chroma==0.1.4) (7.7.0)\n",
      "Requirement already satisfied: importlib-resources in /work/python_coding/.venv/lib/python3.12/site-packages (from chromadb!=0.5.4,!=0.5.5,<0.6.0,>=0.4.0->langchain-chroma==0.1.4) (6.5.2)\n",
      "Requirement already satisfied: grpcio>=1.58.0 in /work/python_coding/.venv/lib/python3.12/site-packages (from chromadb!=0.5.4,!=0.5.5,<0.6.0,>=0.4.0->langchain-chroma==0.1.4) (1.73.0)\n",
      "Requirement already satisfied: bcrypt>=4.0.1 in /work/python_coding/.venv/lib/python3.12/site-packages (from chromadb!=0.5.4,!=0.5.5,<0.6.0,>=0.4.0->langchain-chroma==0.1.4) (4.3.0)\n",
      "Requirement already satisfied: typer>=0.9.0 in /work/python_coding/.venv/lib/python3.12/site-packages (from chromadb!=0.5.4,!=0.5.5,<0.6.0,>=0.4.0->langchain-chroma==0.1.4) (0.16.0)\n",
      "Requirement already satisfied: kubernetes>=28.1.0 in /work/python_coding/.venv/lib/python3.12/site-packages (from chromadb!=0.5.4,!=0.5.5,<0.6.0,>=0.4.0->langchain-chroma==0.1.4) (33.1.0)\n",
      "Requirement already satisfied: mmh3>=4.0.1 in /work/python_coding/.venv/lib/python3.12/site-packages (from chromadb!=0.5.4,!=0.5.5,<0.6.0,>=0.4.0->langchain-chroma==0.1.4) (5.1.0)\n",
      "Requirement already satisfied: orjson>=3.9.12 in /work/python_coding/.venv/lib/python3.12/site-packages (from chromadb!=0.5.4,!=0.5.5,<0.6.0,>=0.4.0->langchain-chroma==0.1.4) (3.10.18)\n",
      "Requirement already satisfied: rich>=10.11.0 in /work/python_coding/.venv/lib/python3.12/site-packages (from chromadb!=0.5.4,!=0.5.5,<0.6.0,>=0.4.0->langchain-chroma==0.1.4) (14.0.0)\n",
      "Requirement already satisfied: marshmallow<4.0.0,>=3.18.0 in /work/python_coding/.venv/lib/python3.12/site-packages (from dataclasses-json<0.7,>=0.5.7->langchain-community==0.3.0) (3.26.1)\n",
      "Requirement already satisfied: typing-inspect<1,>=0.4.0 in /work/python_coding/.venv/lib/python3.12/site-packages (from dataclasses-json<0.7,>=0.5.7->langchain-community==0.3.0) (0.9.0)\n",
      "Requirement already satisfied: starlette<0.47.0,>=0.40.0 in /work/python_coding/.venv/lib/python3.12/site-packages (from fastapi<1,>=0.95.2->langchain-chroma==0.1.4) (0.46.2)\n",
      "Requirement already satisfied: smmap<6,>=3.0.1 in /work/python_coding/.venv/lib/python3.12/site-packages (from gitdb<5,>=4.0.1->GitPython==3.1.43) (5.0.2)\n",
      "Requirement already satisfied: jsonpointer>=1.9 in /work/python_coding/.venv/lib/python3.12/site-packages (from jsonpatch<2.0,>=1.33->langchain-core==0.3.0) (3.0.0)\n",
      "Requirement already satisfied: langchain-text-splitters<0.4.0,>=0.3.0 in /work/python_coding/.venv/lib/python3.12/site-packages (from langchain<0.4.0,>=0.3.0->langchain-community==0.3.0) (0.3.0)\n",
      "Requirement already satisfied: requests-toolbelt<2.0.0,>=1.0.0 in /work/python_coding/.venv/lib/python3.12/site-packages (from langsmith<0.2.0,>=0.1.117->langchain-core==0.3.0) (1.0.0)\n",
      "Requirement already satisfied: anyio in /work/python_coding/.venv/lib/python3.12/site-packages (from httpx->tavily-python==0.5.0) (4.9.0)\n",
      "Requirement already satisfied: certifi in /work/python_coding/.venv/lib/python3.12/site-packages (from httpx->tavily-python==0.5.0) (2025.6.15)\n",
      "Requirement already satisfied: httpcore==1.* in /work/python_coding/.venv/lib/python3.12/site-packages (from httpx->tavily-python==0.5.0) (1.0.9)\n",
      "Requirement already satisfied: idna in /work/python_coding/.venv/lib/python3.12/site-packages (from httpx->tavily-python==0.5.0) (3.10)\n",
      "Requirement already satisfied: h11>=0.16 in /work/python_coding/.venv/lib/python3.12/site-packages (from httpcore==1.*->httpx->tavily-python==0.5.0) (0.16.0)\n",
      "Requirement already satisfied: distro<2,>=1.7.0 in /work/python_coding/.venv/lib/python3.12/site-packages (from openai<2.0.0,>=1.40.0->langchain-openai==0.2.0) (1.9.0)\n",
      "Requirement already satisfied: jiter<1,>=0.4.0 in /work/python_coding/.venv/lib/python3.12/site-packages (from openai<2.0.0,>=1.40.0->langchain-openai==0.2.0) (0.10.0)\n",
      "Requirement already satisfied: sniffio in /work/python_coding/.venv/lib/python3.12/site-packages (from openai<2.0.0,>=1.40.0->langchain-openai==0.2.0) (1.3.1)\n",
      "Requirement already satisfied: python-dotenv>=0.21.0 in /work/python_coding/.venv/lib/python3.12/site-packages (from pydantic-settings<3.0.0,>=2.4.0->langchain-community==0.3.0) (1.1.0)\n",
      "Requirement already satisfied: typing-inspection>=0.4.0 in /work/python_coding/.venv/lib/python3.12/site-packages (from pydantic-settings<3.0.0,>=2.4.0->langchain-community==0.3.0) (0.4.1)\n",
      "Requirement already satisfied: charset_normalizer<4,>=2 in /work/python_coding/.venv/lib/python3.12/site-packages (from requests<3,>=2->langchain-community==0.3.0) (3.4.2)\n",
      "Requirement already satisfied: urllib3<3,>=1.21.1 in /work/python_coding/.venv/lib/python3.12/site-packages (from requests<3,>=2->langchain-community==0.3.0) (2.4.0)\n",
      "Requirement already satisfied: greenlet>=1 in /work/python_coding/.venv/lib/python3.12/site-packages (from SQLAlchemy<3,>=1.4->langchain-community==0.3.0) (3.2.3)\n",
      "Requirement already satisfied: regex>=2022.1.18 in /work/python_coding/.venv/lib/python3.12/site-packages (from tiktoken<1,>=0.7->langchain-openai==0.2.0) (2024.11.6)\n",
      "Requirement already satisfied: huggingface-hub<1.0,>=0.16.4 in /work/python_coding/.venv/lib/python3.12/site-packages (from tokenizers<=0.20.3,>=0.13.2->chromadb!=0.5.4,!=0.5.5,<0.6.0,>=0.4.0->langchain-chroma==0.1.4) (0.33.0)\n",
      "Requirement already satisfied: filelock in /work/python_coding/.venv/lib/python3.12/site-packages (from huggingface-hub<1.0,>=0.16.4->tokenizers<=0.20.3,>=0.13.2->chromadb!=0.5.4,!=0.5.5,<0.6.0,>=0.4.0->langchain-chroma==0.1.4) (3.18.0)\n",
      "Requirement already satisfied: fsspec>=2023.5.0 in /work/python_coding/.venv/lib/python3.12/site-packages (from huggingface-hub<1.0,>=0.16.4->tokenizers<=0.20.3,>=0.13.2->chromadb!=0.5.4,!=0.5.5,<0.6.0,>=0.4.0->langchain-chroma==0.1.4) (2025.5.1)\n",
      "Requirement already satisfied: hf-xet<2.0.0,>=1.1.2 in /work/python_coding/.venv/lib/python3.12/site-packages (from huggingface-hub<1.0,>=0.16.4->tokenizers<=0.20.3,>=0.13.2->chromadb!=0.5.4,!=0.5.5,<0.6.0,>=0.4.0->langchain-chroma==0.1.4) (1.1.4)\n",
      "Requirement already satisfied: mypy-extensions>=0.3.0 in /work/python_coding/.venv/lib/python3.12/site-packages (from typing-inspect<1,>=0.4.0->dataclasses-json<0.7,>=0.5.7->langchain-community==0.3.0) (1.1.0)\n",
      "Requirement already satisfied: pyproject_hooks in /work/python_coding/.venv/lib/python3.12/site-packages (from build>=1.0.3->chromadb!=0.5.4,!=0.5.5,<0.6.0,>=0.4.0->langchain-chroma==0.1.4) (1.2.0)\n",
      "Requirement already satisfied: six>=1.9.0 in /work/python_coding/.venv/lib/python3.12/site-packages (from kubernetes>=28.1.0->chromadb!=0.5.4,!=0.5.5,<0.6.0,>=0.4.0->langchain-chroma==0.1.4) (1.17.0)\n",
      "Requirement already satisfied: python-dateutil>=2.5.3 in /work/python_coding/.venv/lib/python3.12/site-packages (from kubernetes>=28.1.0->chromadb!=0.5.4,!=0.5.5,<0.6.0,>=0.4.0->langchain-chroma==0.1.4) (2.9.0.post0)\n",
      "Requirement already satisfied: google-auth>=1.0.1 in /work/python_coding/.venv/lib/python3.12/site-packages (from kubernetes>=28.1.0->chromadb!=0.5.4,!=0.5.5,<0.6.0,>=0.4.0->langchain-chroma==0.1.4) (2.40.3)\n",
      "Requirement already satisfied: websocket-client!=0.40.0,!=0.41.*,!=0.42.*,>=0.32.0 in /work/python_coding/.venv/lib/python3.12/site-packages (from kubernetes>=28.1.0->chromadb!=0.5.4,!=0.5.5,<0.6.0,>=0.4.0->langchain-chroma==0.1.4) (1.8.0)\n",
      "Requirement already satisfied: requests-oauthlib in /work/python_coding/.venv/lib/python3.12/site-packages (from kubernetes>=28.1.0->chromadb!=0.5.4,!=0.5.5,<0.6.0,>=0.4.0->langchain-chroma==0.1.4) (2.0.0)\n",
      "Requirement already satisfied: oauthlib>=3.2.2 in /work/python_coding/.venv/lib/python3.12/site-packages (from kubernetes>=28.1.0->chromadb!=0.5.4,!=0.5.5,<0.6.0,>=0.4.0->langchain-chroma==0.1.4) (3.3.1)\n",
      "Requirement already satisfied: durationpy>=0.7 in /work/python_coding/.venv/lib/python3.12/site-packages (from kubernetes>=28.1.0->chromadb!=0.5.4,!=0.5.5,<0.6.0,>=0.4.0->langchain-chroma==0.1.4) (0.10)\n",
      "Requirement already satisfied: cachetools<6.0,>=2.0.0 in /work/python_coding/.venv/lib/python3.12/site-packages (from google-auth>=1.0.1->kubernetes>=28.1.0->chromadb!=0.5.4,!=0.5.5,<0.6.0,>=0.4.0->langchain-chroma==0.1.4) (5.5.2)\n",
      "Requirement already satisfied: pyasn1-modules>=0.2.1 in /work/python_coding/.venv/lib/python3.12/site-packages (from google-auth>=1.0.1->kubernetes>=28.1.0->chromadb!=0.5.4,!=0.5.5,<0.6.0,>=0.4.0->langchain-chroma==0.1.4) (0.4.2)\n",
      "Requirement already satisfied: rsa<5,>=3.1.4 in /work/python_coding/.venv/lib/python3.12/site-packages (from google-auth>=1.0.1->kubernetes>=28.1.0->chromadb!=0.5.4,!=0.5.5,<0.6.0,>=0.4.0->langchain-chroma==0.1.4) (4.9.1)\n",
      "Requirement already satisfied: pyasn1>=0.1.3 in /work/python_coding/.venv/lib/python3.12/site-packages (from rsa<5,>=3.1.4->google-auth>=1.0.1->kubernetes>=28.1.0->chromadb!=0.5.4,!=0.5.5,<0.6.0,>=0.4.0->langchain-chroma==0.1.4) (0.6.1)\n",
      "Requirement already satisfied: coloredlogs in /work/python_coding/.venv/lib/python3.12/site-packages (from onnxruntime>=1.14.1->chromadb!=0.5.4,!=0.5.5,<0.6.0,>=0.4.0->langchain-chroma==0.1.4) (15.0.1)\n",
      "Requirement already satisfied: flatbuffers in /work/python_coding/.venv/lib/python3.12/site-packages (from onnxruntime>=1.14.1->chromadb!=0.5.4,!=0.5.5,<0.6.0,>=0.4.0->langchain-chroma==0.1.4) (25.2.10)\n",
      "Requirement already satisfied: protobuf in /work/python_coding/.venv/lib/python3.12/site-packages (from onnxruntime>=1.14.1->chromadb!=0.5.4,!=0.5.5,<0.6.0,>=0.4.0->langchain-chroma==0.1.4) (5.29.5)\n",
      "Requirement already satisfied: sympy in /work/python_coding/.venv/lib/python3.12/site-packages (from onnxruntime>=1.14.1->chromadb!=0.5.4,!=0.5.5,<0.6.0,>=0.4.0->langchain-chroma==0.1.4) (1.14.0)\n",
      "Requirement already satisfied: importlib-metadata<8.8.0,>=6.0 in /work/python_coding/.venv/lib/python3.12/site-packages (from opentelemetry-api>=1.2.0->chromadb!=0.5.4,!=0.5.5,<0.6.0,>=0.4.0->langchain-chroma==0.1.4) (8.7.0)\n",
      "Requirement already satisfied: zipp>=3.20 in /work/python_coding/.venv/lib/python3.12/site-packages (from importlib-metadata<8.8.0,>=6.0->opentelemetry-api>=1.2.0->chromadb!=0.5.4,!=0.5.5,<0.6.0,>=0.4.0->langchain-chroma==0.1.4) (3.23.0)\n",
      "Requirement already satisfied: googleapis-common-protos~=1.52 in /work/python_coding/.venv/lib/python3.12/site-packages (from opentelemetry-exporter-otlp-proto-grpc>=1.2.0->chromadb!=0.5.4,!=0.5.5,<0.6.0,>=0.4.0->langchain-chroma==0.1.4) (1.70.0)\n",
      "Requirement already satisfied: opentelemetry-exporter-otlp-proto-common==1.34.1 in /work/python_coding/.venv/lib/python3.12/site-packages (from opentelemetry-exporter-otlp-proto-grpc>=1.2.0->chromadb!=0.5.4,!=0.5.5,<0.6.0,>=0.4.0->langchain-chroma==0.1.4) (1.34.1)\n",
      "Requirement already satisfied: opentelemetry-proto==1.34.1 in /work/python_coding/.venv/lib/python3.12/site-packages (from opentelemetry-exporter-otlp-proto-grpc>=1.2.0->chromadb!=0.5.4,!=0.5.5,<0.6.0,>=0.4.0->langchain-chroma==0.1.4) (1.34.1)\n",
      "Requirement already satisfied: opentelemetry-semantic-conventions==0.55b1 in /work/python_coding/.venv/lib/python3.12/site-packages (from opentelemetry-sdk>=1.2.0->chromadb!=0.5.4,!=0.5.5,<0.6.0,>=0.4.0->langchain-chroma==0.1.4) (0.55b1)\n",
      "Requirement already satisfied: opentelemetry-instrumentation-asgi==0.55b1 in /work/python_coding/.venv/lib/python3.12/site-packages (from opentelemetry-instrumentation-fastapi>=0.41b0->chromadb!=0.5.4,!=0.5.5,<0.6.0,>=0.4.0->langchain-chroma==0.1.4) (0.55b1)\n",
      "Requirement already satisfied: opentelemetry-instrumentation==0.55b1 in /work/python_coding/.venv/lib/python3.12/site-packages (from opentelemetry-instrumentation-fastapi>=0.41b0->chromadb!=0.5.4,!=0.5.5,<0.6.0,>=0.4.0->langchain-chroma==0.1.4) (0.55b1)\n",
      "Requirement already satisfied: opentelemetry-util-http==0.55b1 in /work/python_coding/.venv/lib/python3.12/site-packages (from opentelemetry-instrumentation-fastapi>=0.41b0->chromadb!=0.5.4,!=0.5.5,<0.6.0,>=0.4.0->langchain-chroma==0.1.4) (0.55b1)\n",
      "Requirement already satisfied: wrapt<2.0.0,>=1.0.0 in /work/python_coding/.venv/lib/python3.12/site-packages (from opentelemetry-instrumentation==0.55b1->opentelemetry-instrumentation-fastapi>=0.41b0->chromadb!=0.5.4,!=0.5.5,<0.6.0,>=0.4.0->langchain-chroma==0.1.4) (1.17.2)\n",
      "Requirement already satisfied: asgiref~=3.0 in /work/python_coding/.venv/lib/python3.12/site-packages (from opentelemetry-instrumentation-asgi==0.55b1->opentelemetry-instrumentation-fastapi>=0.41b0->chromadb!=0.5.4,!=0.5.5,<0.6.0,>=0.4.0->langchain-chroma==0.1.4) (3.8.1)\n",
      "Requirement already satisfied: backoff>=1.10.0 in /work/python_coding/.venv/lib/python3.12/site-packages (from posthog>=2.4.0->chromadb!=0.5.4,!=0.5.5,<0.6.0,>=0.4.0->langchain-chroma==0.1.4) (2.2.1)\n",
      "Requirement already satisfied: markdown-it-py>=2.2.0 in /work/python_coding/.venv/lib/python3.12/site-packages (from rich>=10.11.0->chromadb!=0.5.4,!=0.5.5,<0.6.0,>=0.4.0->langchain-chroma==0.1.4) (3.0.0)\n",
      "Requirement already satisfied: pygments<3.0.0,>=2.13.0 in /work/python_coding/.venv/lib/python3.12/site-packages (from rich>=10.11.0->chromadb!=0.5.4,!=0.5.5,<0.6.0,>=0.4.0->langchain-chroma==0.1.4) (2.19.1)\n",
      "Requirement already satisfied: mdurl~=0.1 in /work/python_coding/.venv/lib/python3.12/site-packages (from markdown-it-py>=2.2.0->rich>=10.11.0->chromadb!=0.5.4,!=0.5.5,<0.6.0,>=0.4.0->langchain-chroma==0.1.4) (0.1.2)\n",
      "Requirement already satisfied: click>=8.0.0 in /work/python_coding/.venv/lib/python3.12/site-packages (from typer>=0.9.0->chromadb!=0.5.4,!=0.5.5,<0.6.0,>=0.4.0->langchain-chroma==0.1.4) (8.2.1)\n",
      "Requirement already satisfied: shellingham>=1.3.0 in /work/python_coding/.venv/lib/python3.12/site-packages (from typer>=0.9.0->chromadb!=0.5.4,!=0.5.5,<0.6.0,>=0.4.0->langchain-chroma==0.1.4) (1.5.4)\n",
      "Requirement already satisfied: httptools>=0.6.3 in /work/python_coding/.venv/lib/python3.12/site-packages (from uvicorn[standard]>=0.18.3->chromadb!=0.5.4,!=0.5.5,<0.6.0,>=0.4.0->langchain-chroma==0.1.4) (0.6.4)\n",
      "Requirement already satisfied: uvloop>=0.15.1 in /work/python_coding/.venv/lib/python3.12/site-packages (from uvicorn[standard]>=0.18.3->chromadb!=0.5.4,!=0.5.5,<0.6.0,>=0.4.0->langchain-chroma==0.1.4) (0.21.0)\n",
      "Requirement already satisfied: watchfiles>=0.13 in /work/python_coding/.venv/lib/python3.12/site-packages (from uvicorn[standard]>=0.18.3->chromadb!=0.5.4,!=0.5.5,<0.6.0,>=0.4.0->langchain-chroma==0.1.4) (1.1.0)\n",
      "Requirement already satisfied: websockets>=10.4 in /work/python_coding/.venv/lib/python3.12/site-packages (from uvicorn[standard]>=0.18.3->chromadb!=0.5.4,!=0.5.5,<0.6.0,>=0.4.0->langchain-chroma==0.1.4) (15.0.1)\n",
      "Requirement already satisfied: humanfriendly>=9.1 in /work/python_coding/.venv/lib/python3.12/site-packages (from coloredlogs->onnxruntime>=1.14.1->chromadb!=0.5.4,!=0.5.5,<0.6.0,>=0.4.0->langchain-chroma==0.1.4) (10.0)\n",
      "Requirement already satisfied: mpmath<1.4,>=1.1.0 in /work/python_coding/.venv/lib/python3.12/site-packages (from sympy->onnxruntime>=1.14.1->chromadb!=0.5.4,!=0.5.5,<0.6.0,>=0.4.0->langchain-chroma==0.1.4) (1.3.0)\n"
     ]
    }
   ],
   "source": [
    "!pip install langchain-core==0.3.0 langchain-openai==0.2.0 \\\n",
    "    langchain-community==0.3.0 GitPython==3.1.43 \\\n",
    "    langchain-chroma==0.1.4 tavily-python==0.5.0 pydantic==2.10.6"
   ]
  },
  {
   "cell_type": "markdown",
   "id": "13bb5749",
   "metadata": {},
   "source": [
    "## ドキュメントの読み込み"
   ]
  },
  {
   "cell_type": "code",
   "execution_count": 10,
   "id": "0a7240f4",
   "metadata": {},
   "outputs": [
    {
     "name": "stdout",
     "output_type": "stream",
     "text": [
      "172\n"
     ]
    }
   ],
   "source": [
    "from langchain_community.document_loaders import GitLoader\n",
    "\n",
    "\n",
    "def file_filter(file_path: str) -> bool:\n",
    "    return file_path.endswith(\".md\")\n",
    "\n",
    "\n",
    "loader = GitLoader(\n",
    "    clone_url=\"https://github.com/open-mmlab/mmsegmentation\",\n",
    "    repo_path=\"./mmsegmentation\",\n",
    "    branch=\"main\",\n",
    "    file_filter=file_filter,\n",
    ")\n",
    "\n",
    "documents = loader.load()\n",
    "print(len(documents))"
   ]
  },
  {
   "cell_type": "markdown",
   "id": "d4ee9574",
   "metadata": {},
   "source": [
    "## ドキュメントを適切なサイズにチャンク化"
   ]
  },
  {
   "cell_type": "code",
   "execution_count": 20,
   "id": "0dfeea04",
   "metadata": {},
   "outputs": [
    {
     "name": "stdout",
     "output_type": "stream",
     "text": [
      "チャンク数: 2420\n"
     ]
    }
   ],
   "source": [
    "from langchain.text_splitter import RecursiveCharacterTextSplitter\n",
    "\n",
    "text_splitter = RecursiveCharacterTextSplitter(\n",
    "    chunk_size=1000,\n",
    "    chunk_overlap=100,\n",
    ")\n",
    "\n",
    "split_docs = text_splitter.split_documents(documents)\n",
    "print(f\"チャンク数: {len(split_docs)}\")"
   ]
  },
  {
   "cell_type": "markdown",
   "id": "a4bba4a6",
   "metadata": {},
   "source": [
    "## 文書をベクトル化"
   ]
  },
  {
   "cell_type": "code",
   "execution_count": 21,
   "id": "213fc320",
   "metadata": {},
   "outputs": [],
   "source": [
    "from langchain_chroma import Chroma\n",
    "from langchain_openai import OpenAIEmbeddings\n",
    "\n",
    "embeddings = OpenAIEmbeddings(model=\"text-embedding-3-small\")\n",
    "db = Chroma.from_documents(split_docs, embeddings)\n"
   ]
  },
  {
   "cell_type": "markdown",
   "id": "208e1354",
   "metadata": {},
   "source": [
    "## シンプルなRAG"
   ]
  },
  {
   "cell_type": "code",
   "execution_count": 22,
   "id": "644a1c8d",
   "metadata": {},
   "outputs": [
    {
     "data": {
      "text/plain": [
       "'mmsegmentationは、画像セグメンテーションのためのオープンソースライブラリであり、深層学習を用いたセグメンテーション手法を提供します。このライブラリは、さまざまなセグメンテーションモデルをサポートしており、ユーザーが簡単にモデルを訓練、評価、推論できるように設計されています。ドキュメントには、インストール手順や使用方法、FAQなどが含まれており、ユーザーがスムーズに利用を開始できるようにサポートしています。具体的な内容については、[こちらのリンク](https://mmsegmentation.readthedocs.io/en/latest/)から詳細なドキュメントを参照できます。'"
      ]
     },
     "execution_count": 22,
     "metadata": {},
     "output_type": "execute_result"
    }
   ],
   "source": [
    "from langchain_core.output_parsers import StrOutputParser\n",
    "from langchain_core.prompts import ChatPromptTemplate\n",
    "from langchain_core.runnables import RunnablePassthrough\n",
    "from langchain_openai import ChatOpenAI\n",
    "\n",
    "prompt = ChatPromptTemplate.from_template('''\\\n",
    "以下の文脈だけを踏まえて質問に回答してください。\n",
    "\n",
    "文脈: \"\"\"\n",
    "{context}\n",
    "\"\"\"\n",
    "\n",
    "質問: {question}\n",
    "''')\n",
    "\n",
    "model = ChatOpenAI(model=\"gpt-4o-mini\", temperature=0)\n",
    "\n",
    "retriever = db.as_retriever()\n",
    "\n",
    "chain = {\n",
    "    \"question\": RunnablePassthrough(),\n",
    "    \"context\": retriever,\n",
    "} | prompt | model | StrOutputParser()\n",
    "\n",
    "chain.invoke(\"mmsegmentationの概要を教えて\")"
   ]
  },
  {
   "cell_type": "markdown",
   "id": "5b7d581b",
   "metadata": {},
   "source": [
    "## HyDE\n",
    "LLMに仮説的な回答をさせ、それに類似したベクトルを抽出する"
   ]
  },
  {
   "cell_type": "code",
   "execution_count": 23,
   "id": "b7fbb1b5",
   "metadata": {},
   "outputs": [],
   "source": [
    "hypothetical_prompt = ChatPromptTemplate.from_template(\"\"\"\\\n",
    "次の質問に回答する一文を書いてください。\n",
    "\n",
    "質問: {question}\n",
    "\"\"\")\n",
    "\n",
    "hypothetical_chain = hypothetical_prompt | model | StrOutputParser()"
   ]
  },
  {
   "cell_type": "code",
   "execution_count": 24,
   "id": "71c38026",
   "metadata": {},
   "outputs": [
    {
     "data": {
      "text/plain": [
       "'MMSegmentationは、PyTorchに基づいたオープンソースのセマンティックセグメンテーションツールボックスです。OpenMMLabプロジェクトの一部であり、セマンティックセグメンテーション手法の統一された実装と評価のためのフレームワークを提供します。このツールボックスには、人気のあるセマンティックセグメンテーション手法やデータセットの高品質な実装が含まれています。\\n\\nMMSegmentationは、以下の7つの主要部分で構成されています：\\n\\n1. **apis**: モデル推論のための高レベルAPIを提供。\\n2. **structures**: セグメンテーションデータ構造`SegDataSample`を提供。\\n3. **datasets**: セマンティックセグメンテーション用のさまざまなデータセットをサポート。\\n   - **transforms**: 有用なデータ拡張変換を多数含む。\\n4. **models**: セグメンターの最も重要な部分で、セグメンターのさまざまなコンポーネントを含む。\\n   - **segmentors**: すべてのセグメントモデルクラスを定義。\\n   - **data_preprocessors**: モデルの入力データを前処理するためのもの。\\n   - **backbones**: 画像を特徴マップにマッピングするさまざまなバックボーンネットワークを含む。\\n   - **necks**: セグメンテーションヘッドとバックボーンネットワークを接続するためのさまざまなモデルネックコンポーネントを含む。\\n   - **decode_heads**: 特徴マップを入力として受け取り、セグメンテーション結果を予測するさまざまなセグメンテーションヘッドを含む。\\n   - **losses**: さまざまな損失関数を含む。\\n\\nMMSegmentationは、セマンティックセグメンテーションの研究や実装を行うための強力なツールです。'"
      ]
     },
     "execution_count": 24,
     "metadata": {},
     "output_type": "execute_result"
    }
   ],
   "source": [
    "hyde_rag_chain = {\n",
    "    \"question\": RunnablePassthrough(),\n",
    "    \"context\": hypothetical_chain | retriever,\n",
    "} | prompt | model | StrOutputParser()\n",
    "\n",
    "hyde_rag_chain.invoke(\"mmsegmentationの概要を教えて\")"
   ]
  },
  {
   "cell_type": "markdown",
   "id": "b6eb7bf6",
   "metadata": {},
   "source": [
    "### 複数の仮説的な回答を元にベクトル探索をする"
   ]
  },
  {
   "cell_type": "code",
   "execution_count": 25,
   "id": "b6a81da8",
   "metadata": {},
   "outputs": [],
   "source": [
    "from pydantic import BaseModel, Field\n",
    "\n",
    "\n",
    "class QueryGenerationOutput(BaseModel):\n",
    "    queries: list[str] = Field(..., description=\"検索クエリのリスト\")\n",
    "\n",
    "\n",
    "query_generation_prompt = ChatPromptTemplate.from_template(\"\"\"\\\n",
    "質問に対してベクターデータベースから関連文書を検索するために、\n",
    "3つの異なる検索クエリを生成してください。\n",
    "距離ベースの類似性検索の限界を克服するために、\n",
    "ユーザーの質問に対して複数の視点を提供することが目標です。\n",
    "\n",
    "質問: {question}\n",
    "\"\"\")\n",
    "\n",
    "query_generation_chain = (\n",
    "    query_generation_prompt\n",
    "    | model.with_structured_output(QueryGenerationOutput)\n",
    "    | (lambda x: x.queries)\n",
    ")"
   ]
  },
  {
   "cell_type": "code",
   "execution_count": 26,
   "id": "04d75c97",
   "metadata": {},
   "outputs": [
    {
     "data": {
      "text/plain": [
       "'MMSegmentationは、統一された実装と評価のためのフレームワークを提供するツールボックスで、主にセマンティックセグメンテーションの手法を対象としています。このツールボックスには、人気のあるセマンティックセグメンテーション手法やデータセットの高品質な実装が含まれています。\\n\\nMMSegmentationは、以下の7つの主要な部分で構成されています：\\n\\n1. **apis**: モデル推論のための高レベルAPIを提供。\\n2. **structures**: セグメンテーションデータ構造`SegDataSample`を提供。\\n3. **datasets**: セマンティックセグメンテーション用のさまざまなデータセットをサポート。\\n   - **transforms**: 有用なデータ拡張変換を多数含む。\\n4. **models**: セグメンターにとって最も重要な部分で、セグメンターのさまざまなコンポーネントを含む。\\n5. **engine**: モデルのトレーニングや評価を行うエンジン。\\n6. **evaluation**: モデルの評価を行うための機能。\\n7. **visualization**: セグメンテーション結果を視覚化するためのツール。\\n\\nMMSegmentationは、PyTorchに基づいており、OpenMMLabプロジェクトの一部として開発されています。'"
      ]
     },
     "execution_count": 26,
     "metadata": {},
     "output_type": "execute_result"
    }
   ],
   "source": [
    "multi_query_rag_chain = {\n",
    "    \"question\": RunnablePassthrough(),\n",
    "    \"context\": query_generation_chain | retriever.map(),\n",
    "} | prompt | model | StrOutputParser()\n",
    "\n",
    "multi_query_rag_chain.invoke(\"mmsegmentationの概要を教えて\")"
   ]
  },
  {
   "cell_type": "code",
   "execution_count": null,
   "id": "922f0f42",
   "metadata": {},
   "outputs": [],
   "source": []
  }
 ],
 "metadata": {
  "kernelspec": {
   "display_name": ".venv",
   "language": "python",
   "name": "python3"
  },
  "language_info": {
   "codemirror_mode": {
    "name": "ipython",
    "version": 3
   },
   "file_extension": ".py",
   "mimetype": "text/x-python",
   "name": "python",
   "nbconvert_exporter": "python",
   "pygments_lexer": "ipython3",
   "version": "3.12.3"
  }
 },
 "nbformat": 4,
 "nbformat_minor": 5
}
