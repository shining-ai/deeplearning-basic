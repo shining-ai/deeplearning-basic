{
 "cells": [
  {
   "cell_type": "code",
   "execution_count": null,
   "id": "dcd5d01b",
   "metadata": {},
   "outputs": [],
   "source": [
    "import os\n",
    "os.environ[\"LANGCHAIN_TRACING_V2\"] = \"true\"\n",
    "os.environ[\"LANGCHAIN_ENDPOINT\"] = \"https://api.smith.langchain.com\"\n",
    "os.environ[\"LANGCHAIN_API_KEY\"] = \"xxxx\"\n",
    "os.environ[\"LANGCHAIN_PROJECT\"] = \"agent-book\"\n",
    "\n",
    "os.environ[\"OPENAI_API_KEY\"] = \"xxxx\"\n",
    "\n",
    "os.environ[\"TAVILY_API_KEY\"] = \"xxxx\"\n",
    "\n",
    "os.environ[\"COHERE_API_KEY\"] = \"xxxx\""
   ]
  },
  {
   "cell_type": "code",
   "execution_count": 5,
   "id": "682981e3",
   "metadata": {},
   "outputs": [
    {
     "name": "stdout",
     "output_type": "stream",
     "text": [
      "Collecting langchain==0.3.0\n",
      "  Using cached langchain-0.3.0-py3-none-any.whl.metadata (7.1 kB)\n",
      "Collecting langchain-openai==0.2.0\n",
      "  Using cached langchain_openai-0.2.0-py3-none-any.whl.metadata (2.6 kB)\n",
      "Requirement already satisfied: langgraph==0.2.22 in /work/python_coding/.venv/lib/python3.12/site-packages (0.2.22)\n",
      "Requirement already satisfied: pydantic==2.10.6 in /work/python_coding/.venv/lib/python3.12/site-packages (2.10.6)\n",
      "Requirement already satisfied: PyYAML>=5.3 in /work/python_coding/.venv/lib/python3.12/site-packages (from langchain==0.3.0) (6.0.2)\n",
      "Requirement already satisfied: SQLAlchemy<3,>=1.4 in /work/python_coding/.venv/lib/python3.12/site-packages (from langchain==0.3.0) (2.0.41)\n",
      "Requirement already satisfied: aiohttp<4.0.0,>=3.8.3 in /work/python_coding/.venv/lib/python3.12/site-packages (from langchain==0.3.0) (3.12.13)\n",
      "Requirement already satisfied: langchain-core<0.4.0,>=0.3.0 in /work/python_coding/.venv/lib/python3.12/site-packages (from langchain==0.3.0) (0.3.67)\n",
      "Collecting langchain-text-splitters<0.4.0,>=0.3.0 (from langchain==0.3.0)\n",
      "  Using cached langchain_text_splitters-0.3.8-py3-none-any.whl.metadata (1.9 kB)\n",
      "Collecting langsmith<0.2.0,>=0.1.17 (from langchain==0.3.0)\n",
      "  Using cached langsmith-0.1.147-py3-none-any.whl.metadata (14 kB)\n",
      "Requirement already satisfied: numpy<2.0.0,>=1.26.0 in /work/python_coding/.venv/lib/python3.12/site-packages (from langchain==0.3.0) (1.26.4)\n",
      "Requirement already satisfied: requests<3,>=2 in /work/python_coding/.venv/lib/python3.12/site-packages (from langchain==0.3.0) (2.32.4)\n",
      "Requirement already satisfied: tenacity!=8.4.0,<9.0.0,>=8.1.0 in /work/python_coding/.venv/lib/python3.12/site-packages (from langchain==0.3.0) (8.5.0)\n",
      "Requirement already satisfied: annotated-types>=0.6.0 in /work/python_coding/.venv/lib/python3.12/site-packages (from pydantic==2.10.6) (0.7.0)\n",
      "Requirement already satisfied: pydantic-core==2.27.2 in /work/python_coding/.venv/lib/python3.12/site-packages (from pydantic==2.10.6) (2.27.2)\n",
      "Requirement already satisfied: typing-extensions>=4.12.2 in /work/python_coding/.venv/lib/python3.12/site-packages (from pydantic==2.10.6) (4.14.0)\n",
      "Requirement already satisfied: openai<2.0.0,>=1.40.0 in /work/python_coding/.venv/lib/python3.12/site-packages (from langchain-openai==0.2.0) (1.86.0)\n",
      "Requirement already satisfied: tiktoken<1,>=0.7 in /work/python_coding/.venv/lib/python3.12/site-packages (from langchain-openai==0.2.0) (0.9.0)\n",
      "Requirement already satisfied: langgraph-checkpoint<2.0.0,>=1.0.2 in /work/python_coding/.venv/lib/python3.12/site-packages (from langgraph==0.2.22) (1.0.12)\n",
      "Requirement already satisfied: aiohappyeyeballs>=2.5.0 in /work/python_coding/.venv/lib/python3.12/site-packages (from aiohttp<4.0.0,>=3.8.3->langchain==0.3.0) (2.6.1)\n",
      "Requirement already satisfied: aiosignal>=1.1.2 in /work/python_coding/.venv/lib/python3.12/site-packages (from aiohttp<4.0.0,>=3.8.3->langchain==0.3.0) (1.3.2)\n",
      "Requirement already satisfied: attrs>=17.3.0 in /work/python_coding/.venv/lib/python3.12/site-packages (from aiohttp<4.0.0,>=3.8.3->langchain==0.3.0) (25.3.0)\n",
      "Requirement already satisfied: frozenlist>=1.1.1 in /work/python_coding/.venv/lib/python3.12/site-packages (from aiohttp<4.0.0,>=3.8.3->langchain==0.3.0) (1.7.0)\n",
      "Requirement already satisfied: multidict<7.0,>=4.5 in /work/python_coding/.venv/lib/python3.12/site-packages (from aiohttp<4.0.0,>=3.8.3->langchain==0.3.0) (6.5.0)\n",
      "Requirement already satisfied: propcache>=0.2.0 in /work/python_coding/.venv/lib/python3.12/site-packages (from aiohttp<4.0.0,>=3.8.3->langchain==0.3.0) (0.3.2)\n",
      "Requirement already satisfied: yarl<2.0,>=1.17.0 in /work/python_coding/.venv/lib/python3.12/site-packages (from aiohttp<4.0.0,>=3.8.3->langchain==0.3.0) (1.20.1)\n",
      "INFO: pip is looking at multiple versions of langchain-core to determine which version is compatible with other requirements. This could take a while.\n",
      "Collecting langchain-core<0.4.0,>=0.3.0 (from langchain==0.3.0)\n",
      "  Using cached langchain_core-0.3.66-py3-none-any.whl.metadata (5.8 kB)\n",
      "  Using cached langchain_core-0.3.65-py3-none-any.whl.metadata (5.8 kB)\n",
      "  Using cached langchain_core-0.3.64-py3-none-any.whl.metadata (5.8 kB)\n",
      "  Using cached langchain_core-0.3.63-py3-none-any.whl.metadata (5.8 kB)\n",
      "Requirement already satisfied: jsonpatch<2.0,>=1.33 in /work/python_coding/.venv/lib/python3.12/site-packages (from langchain-core<0.4.0,>=0.3.0->langchain==0.3.0) (1.33)\n",
      "Requirement already satisfied: packaging<25,>=23.2 in /work/python_coding/.venv/lib/python3.12/site-packages (from langchain-core<0.4.0,>=0.3.0->langchain==0.3.0) (24.2)\n",
      "Requirement already satisfied: jsonpointer>=1.9 in /work/python_coding/.venv/lib/python3.12/site-packages (from jsonpatch<2.0,>=1.33->langchain-core<0.4.0,>=0.3.0->langchain==0.3.0) (3.0.0)\n",
      "Requirement already satisfied: msgpack<2.0.0,>=1.1.0 in /work/python_coding/.venv/lib/python3.12/site-packages (from langgraph-checkpoint<2.0.0,>=1.0.2->langgraph==0.2.22) (1.1.1)\n",
      "Requirement already satisfied: httpx<1,>=0.23.0 in /work/python_coding/.venv/lib/python3.12/site-packages (from langsmith<0.2.0,>=0.1.17->langchain==0.3.0) (0.28.1)\n",
      "Requirement already satisfied: orjson<4.0.0,>=3.9.14 in /work/python_coding/.venv/lib/python3.12/site-packages (from langsmith<0.2.0,>=0.1.17->langchain==0.3.0) (3.10.18)\n",
      "Requirement already satisfied: requests-toolbelt<2.0.0,>=1.0.0 in /work/python_coding/.venv/lib/python3.12/site-packages (from langsmith<0.2.0,>=0.1.17->langchain==0.3.0) (1.0.0)\n",
      "Requirement already satisfied: anyio in /work/python_coding/.venv/lib/python3.12/site-packages (from httpx<1,>=0.23.0->langsmith<0.2.0,>=0.1.17->langchain==0.3.0) (4.9.0)\n",
      "Requirement already satisfied: certifi in /work/python_coding/.venv/lib/python3.12/site-packages (from httpx<1,>=0.23.0->langsmith<0.2.0,>=0.1.17->langchain==0.3.0) (2025.6.15)\n",
      "Requirement already satisfied: httpcore==1.* in /work/python_coding/.venv/lib/python3.12/site-packages (from httpx<1,>=0.23.0->langsmith<0.2.0,>=0.1.17->langchain==0.3.0) (1.0.9)\n",
      "Requirement already satisfied: idna in /work/python_coding/.venv/lib/python3.12/site-packages (from httpx<1,>=0.23.0->langsmith<0.2.0,>=0.1.17->langchain==0.3.0) (3.10)\n",
      "Requirement already satisfied: h11>=0.16 in /work/python_coding/.venv/lib/python3.12/site-packages (from httpcore==1.*->httpx<1,>=0.23.0->langsmith<0.2.0,>=0.1.17->langchain==0.3.0) (0.16.0)\n",
      "Requirement already satisfied: distro<2,>=1.7.0 in /work/python_coding/.venv/lib/python3.12/site-packages (from openai<2.0.0,>=1.40.0->langchain-openai==0.2.0) (1.9.0)\n",
      "Requirement already satisfied: jiter<1,>=0.4.0 in /work/python_coding/.venv/lib/python3.12/site-packages (from openai<2.0.0,>=1.40.0->langchain-openai==0.2.0) (0.10.0)\n",
      "Requirement already satisfied: sniffio in /work/python_coding/.venv/lib/python3.12/site-packages (from openai<2.0.0,>=1.40.0->langchain-openai==0.2.0) (1.3.1)\n",
      "Requirement already satisfied: tqdm>4 in /work/python_coding/.venv/lib/python3.12/site-packages (from openai<2.0.0,>=1.40.0->langchain-openai==0.2.0) (4.67.1)\n",
      "Requirement already satisfied: charset_normalizer<4,>=2 in /work/python_coding/.venv/lib/python3.12/site-packages (from requests<3,>=2->langchain==0.3.0) (3.4.2)\n",
      "Requirement already satisfied: urllib3<3,>=1.21.1 in /work/python_coding/.venv/lib/python3.12/site-packages (from requests<3,>=2->langchain==0.3.0) (2.4.0)\n",
      "Requirement already satisfied: greenlet>=1 in /work/python_coding/.venv/lib/python3.12/site-packages (from SQLAlchemy<3,>=1.4->langchain==0.3.0) (3.2.3)\n",
      "Requirement already satisfied: regex>=2022.1.18 in /work/python_coding/.venv/lib/python3.12/site-packages (from tiktoken<1,>=0.7->langchain-openai==0.2.0) (2024.11.6)\n",
      "Using cached langchain-0.3.0-py3-none-any.whl (1.0 MB)\n",
      "Using cached langchain_openai-0.2.0-py3-none-any.whl (51 kB)\n",
      "Using cached langchain_core-0.3.63-py3-none-any.whl (438 kB)\n",
      "Using cached langchain_text_splitters-0.3.8-py3-none-any.whl (32 kB)\n",
      "Using cached langsmith-0.1.147-py3-none-any.whl (311 kB)\n",
      "Installing collected packages: langsmith, langchain-core, langchain-text-splitters, langchain-openai, langchain\n",
      "\u001b[2K  Attempting uninstall: langsmith\n",
      "\u001b[2K    Found existing installation: langsmith 0.4.4\n",
      "\u001b[2K    Uninstalling langsmith-0.4.4:\n",
      "\u001b[2K      Successfully uninstalled langsmith-0.4.4\n",
      "\u001b[2K  Attempting uninstall: langchain-core\n",
      "\u001b[2K    Found existing installation: langchain-core 0.3.67\n",
      "\u001b[2K    Uninstalling langchain-core-0.3.67:\n",
      "\u001b[2K      Successfully uninstalled langchain-core-0.3.67\n",
      "\u001b[2K  Attempting uninstall: langchain-text-splitters━━━━━━━━━━━━━━━━━━\u001b[0m \u001b[32m1/5\u001b[0m [langchain-core]\n",
      "\u001b[2K    Found existing installation: langchain-text-splitters 0.2.2[0m \u001b[32m1/5\u001b[0m [langchain-core]\n",
      "\u001b[2K    Uninstalling langchain-text-splitters-0.2.2:━━━━━━━━━━━━━━\u001b[0m \u001b[32m1/5\u001b[0m [langchain-core]\n",
      "\u001b[2K      Successfully uninstalled langchain-text-splitters-0.2.2━\u001b[0m \u001b[32m1/5\u001b[0m [langchain-core]\n",
      "\u001b[2K  Attempting uninstall: langchain-openai━━━━━━━━━━━━━━━━━━━━━━\u001b[0m \u001b[32m1/5\u001b[0m [langchain-core]\n",
      "\u001b[2K    Found existing installation: langchain-openai 0.1.21━━━━━━\u001b[0m \u001b[32m1/5\u001b[0m [langchain-core]\n",
      "\u001b[2K    Uninstalling langchain-openai-0.1.21:━━━━━━━━━━━━━━━━━━━━━\u001b[0m \u001b[32m1/5\u001b[0m [langchain-core]\n",
      "\u001b[2K      Successfully uninstalled langchain-openai-0.1.21━━━━━━━━\u001b[0m \u001b[32m1/5\u001b[0m [langchain-core]\n",
      "\u001b[2K  Attempting uninstall: langchain━━━━━━━━━━━━━━━━━━━━━━━━━━━━━\u001b[0m \u001b[32m1/5\u001b[0m [langchain-core]\n",
      "\u001b[2K    Found existing installation: langchain 0.2.13━━━━━━━━━━━━━\u001b[0m \u001b[32m1/5\u001b[0m [langchain-core]\n",
      "\u001b[2K    Uninstalling langchain-0.2.13:━━━━━━\u001b[0m\u001b[90m╺\u001b[0m\u001b[90m━━━━━━━\u001b[0m \u001b[32m4/5\u001b[0m [langchain]]\n",
      "\u001b[2K      Successfully uninstalled langchain-0.2.13[0m\u001b[90m━━━━━━━\u001b[0m \u001b[32m4/5\u001b[0m [langchain]\n",
      "\u001b[2K   \u001b[90m━━━━━━━━━━━━━━━━━━━━━━━━━━━━━━━━━━━━━━━━\u001b[0m \u001b[32m5/5\u001b[0m [langchain]/5\u001b[0m [langchain]\n",
      "\u001b[1A\u001b[2K\u001b[31mERROR: pip's dependency resolver does not currently take into account all the packages that are installed. This behaviour is the source of the following dependency conflicts.\n",
      "langchain-community 0.2.12 requires langchain<0.3.0,>=0.2.13, but you have langchain 0.3.0 which is incompatible.\n",
      "langchain-community 0.2.12 requires langchain-core<0.3.0,>=0.2.30, but you have langchain-core 0.3.63 which is incompatible.\n",
      "langchain-chroma 0.1.2 requires langchain-core<0.3,>=0.1.40, but you have langchain-core 0.3.63 which is incompatible.\n",
      "langchain-experimental 0.3.4 requires langchain-community<0.4.0,>=0.3.0, but you have langchain-community 0.2.12 which is incompatible.\u001b[0m\u001b[31m\n",
      "\u001b[0mSuccessfully installed langchain-0.3.0 langchain-core-0.3.63 langchain-openai-0.2.0 langchain-text-splitters-0.3.8 langsmith-0.1.147\n"
     ]
    }
   ],
   "source": [
    "!pip install langchain==0.3.0 langchain-openai==0.2.0 langgraph==0.2.22 pydantic==2.10.6"
   ]
  },
  {
   "cell_type": "markdown",
   "id": "fca1c767",
   "metadata": {},
   "source": [
    "## ロールの定義"
   ]
  },
  {
   "cell_type": "code",
   "execution_count": 6,
   "id": "439ac973",
   "metadata": {},
   "outputs": [],
   "source": [
    "ROLES = {\n",
    "    \"1\": {\n",
    "        \"name\": \"一般知識エキスパート\",\n",
    "        \"description\": \"幅広い分野の一般的な質問に答える\",\n",
    "        \"details\": \"幅広い分野の一般的な質問に対して、正確で分かりやすい回答を提供してください。\"\n",
    "    },\n",
    "    \"2\": {\n",
    "        \"name\": \"生成AI製品エキスパート\",\n",
    "        \"description\": \"生成AIや関連製品、技術に関する専門的な質問に答える\",\n",
    "        \"details\": \"生成AIや関連製品、技術に関する専門的な質問に対して、最新の情報と深い洞察を提供してください。\"\n",
    "    },\n",
    "    \"3\": {\n",
    "        \"name\": \"カウンセラー\",\n",
    "        \"description\": \"個人的な悩みや心理的な問題に対してサポートを提供する\",\n",
    "        \"details\": \"個人的な悩みや心理的な問題に対して、共感的で支援的な回答を提供し、可能であれば適切なアドバイスも行ってください。\"\n",
    "    }\n",
    "}"
   ]
  },
  {
   "cell_type": "markdown",
   "id": "87ef4adc",
   "metadata": {},
   "source": [
    "## ステートの定義"
   ]
  },
  {
   "cell_type": "code",
   "execution_count": 7,
   "id": "3a158c66",
   "metadata": {},
   "outputs": [],
   "source": [
    "import operator\n",
    "from typing import Annotated\n",
    "\n",
    "from pydantic import BaseModel, Field\n",
    "\n",
    "\n",
    "class State(BaseModel):\n",
    "    query: str = Field(..., description=\"ユーザーからの質問\")\n",
    "    current_role: str = Field(\n",
    "        default=\"\", description=\"選定された回答ロール\"\n",
    "    )\n",
    "    messages: Annotated[list[str], operator.add] = Field(\n",
    "        default=[], description=\"回答履歴\"\n",
    "    )\n",
    "    current_judge: bool = Field(\n",
    "        default=False, description=\"品質チェックの結果\"\n",
    "    )\n",
    "    judgement_reason: str = Field(\n",
    "        default=\"\", description=\"品質チェックの判定理由\"\n",
    "    )"
   ]
  },
  {
   "cell_type": "markdown",
   "id": "c28b79e9",
   "metadata": {},
   "source": [
    "## チャットモデルの初期化"
   ]
  },
  {
   "cell_type": "code",
   "execution_count": 8,
   "id": "923cb6b8",
   "metadata": {},
   "outputs": [],
   "source": [
    "from langchain_openai import ChatOpenAI\n",
    "from langchain_core.runnables import ConfigurableField\n",
    "\n",
    "llm = ChatOpenAI(model=\"gpt-4o\", temperature=0.0)\n",
    "# 後からmax_tokensの値を変更できるように、変更可能なフィールドを宣言\n",
    "llm = llm.configurable_fields(max_tokens=ConfigurableField(id='max_tokens'))"
   ]
  },
  {
   "cell_type": "markdown",
   "id": "69d88e55",
   "metadata": {},
   "source": [
    "## ノードの定義"
   ]
  },
  {
   "cell_type": "markdown",
   "id": "55d1b36a",
   "metadata": {},
   "source": [
    "### selectionノード\n",
    "回答ノードの選定を行う"
   ]
  },
  {
   "cell_type": "code",
   "execution_count": 9,
   "id": "6a2bab24",
   "metadata": {},
   "outputs": [],
   "source": [
    "from typing import Any\n",
    "\n",
    "from langchain_core.prompts import ChatPromptTemplate\n",
    "from langchain_core.output_parsers import StrOutputParser\n",
    "\n",
    "def selection_node(state: State) -> dict[str, Any]:\n",
    "    query = state.query\n",
    "    role_options = \"\\n\".join([f\"{k}. {v['name']}: {v['description']}\" for k, v in ROLES.items()])\n",
    "    prompt = ChatPromptTemplate.from_template(\n",
    "\"\"\"質問を分析し、最も適切な回答担当ロールを選択してください。\n",
    "\n",
    "選択肢:\n",
    "{role_options}\n",
    "\n",
    "回答は選択肢の番号（1、2、または3）のみを返してください。\n",
    "\n",
    "質問: {query}\n",
    "\"\"\".strip()\n",
    "    )\n",
    "    # 選択肢の番号のみを返すことを期待したいため、max_tokensの値を1に変更\n",
    "    chain = prompt | llm.with_config(configurable=dict(max_tokens=1)) | StrOutputParser()\n",
    "    role_number = chain.invoke({\"role_options\": role_options, \"query\": query})\n",
    "\n",
    "    selected_role = ROLES[role_number.strip()][\"name\"]\n",
    "    return {\"current_role\": selected_role}"
   ]
  },
  {
   "cell_type": "markdown",
   "id": "061bbe34",
   "metadata": {},
   "source": [
    "### answeringノード\n",
    "ロールに基づいて回答を行う"
   ]
  },
  {
   "cell_type": "code",
   "execution_count": 10,
   "id": "89e6d8a1",
   "metadata": {},
   "outputs": [],
   "source": [
    "def answering_node(state: State) -> dict[str, Any]:\n",
    "    query = state.query\n",
    "    role = state.current_role\n",
    "    role_details = \"\\n\".join([f\"- {v['name']}: {v['details']}\" for v in ROLES.values()])\n",
    "    prompt = ChatPromptTemplate.from_template(\n",
    "\"\"\"あなたは{role}として回答してください。以下の質問に対して、あなたの役割に基づいた適切な回答を提供してください。\n",
    "\n",
    "役割の詳細:\n",
    "{role_details}\n",
    "\n",
    "質問: {query}\n",
    "\n",
    "回答:\"\"\".strip()\n",
    "    )\n",
    "    chain = prompt | llm | StrOutputParser()\n",
    "    answer = chain.invoke({\"role\": role, \"role_details\": role_details, \"query\": query})\n",
    "    return {\"messages\": [answer]}"
   ]
  },
  {
   "cell_type": "markdown",
   "id": "b4a69bb2",
   "metadata": {},
   "source": [
    "### checkノード\n",
    "回答の品質をチェックする"
   ]
  },
  {
   "cell_type": "code",
   "execution_count": 11,
   "id": "ed8fa760",
   "metadata": {},
   "outputs": [],
   "source": [
    "class Judgement(BaseModel):\n",
    "    judge: bool = Field(default=False, description=\"判定結果\")\n",
    "    reason: str = Field(default=\"\", description=\"判定理由\")\n",
    "\n",
    "def check_node(state: State) -> dict[str, Any]:\n",
    "    query = state.query\n",
    "    answer = state.messages[-1]\n",
    "    prompt = ChatPromptTemplate.from_template(\n",
    "\"\"\"以下の回答の品質をチェックし、問題がある場合は'False'、問題がない場合は'True'を回答してください。\n",
    "また、その判断理由も説明してください。\n",
    "\n",
    "ユーザーからの質問: {query}\n",
    "回答: {answer}\n",
    "\"\"\".strip()\n",
    "    )\n",
    "    chain = prompt | llm.with_structured_output(Judgement)\n",
    "    result: Judgement = chain.invoke({\"query\": query, \"answer\": answer})\n",
    "\n",
    "    return {\n",
    "        \"current_judge\": result.judge,\n",
    "        \"judgement_reason\": result.reason\n",
    "    }"
   ]
  },
  {
   "cell_type": "markdown",
   "id": "22737d42",
   "metadata": {},
   "source": [
    "## グラフの作成"
   ]
  },
  {
   "cell_type": "code",
   "execution_count": 12,
   "id": "9d111db2",
   "metadata": {},
   "outputs": [],
   "source": [
    "from langgraph.graph import StateGraph\n",
    "\n",
    "workflow = StateGraph(State)"
   ]
  },
  {
   "cell_type": "markdown",
   "id": "faee8e41",
   "metadata": {},
   "source": [
    "## ノードの追加"
   ]
  },
  {
   "cell_type": "code",
   "execution_count": 13,
   "id": "142a581e",
   "metadata": {},
   "outputs": [],
   "source": [
    "workflow.add_node(\"selection\", selection_node)\n",
    "workflow.add_node(\"answering\", answering_node)\n",
    "workflow.add_node(\"check\", check_node)"
   ]
  },
  {
   "cell_type": "markdown",
   "id": "b94abd8b",
   "metadata": {},
   "source": [
    "## エッジの定義"
   ]
  },
  {
   "cell_type": "code",
   "execution_count": 14,
   "id": "8861f9b4",
   "metadata": {},
   "outputs": [],
   "source": [
    "# selectionノードから処理を開始\n",
    "workflow.set_entry_point(\"selection\")\n",
    "\n",
    "# selectionノードからansweringノードへ\n",
    "workflow.add_edge(\"selection\", \"answering\")\n",
    "# answeringノードからcheckノードへ\n",
    "workflow.add_edge(\"answering\", \"check\")"
   ]
  },
  {
   "cell_type": "markdown",
   "id": "a4df8f8e",
   "metadata": {},
   "source": [
    "## 条件付きエッジの定義"
   ]
  },
  {
   "cell_type": "code",
   "execution_count": 15,
   "id": "9f11a4a0",
   "metadata": {},
   "outputs": [],
   "source": [
    "from langgraph.graph import END\n",
    "\n",
    "# checkノードから次のノードへの遷移に条件付きエッジを定義\n",
    "# state.current_judgeの値がTrueならENDノードへ、Falseならselectionノードへ\n",
    "workflow.add_conditional_edges(\n",
    "    \"check\",\n",
    "    lambda state: state.current_judge,\n",
    "    {True: END, False: \"selection\"}\n",
    ")"
   ]
  },
  {
   "cell_type": "markdown",
   "id": "1bf99998",
   "metadata": {},
   "source": [
    "## グラフのコンパイル"
   ]
  },
  {
   "cell_type": "code",
   "execution_count": 16,
   "id": "9cd4072a",
   "metadata": {},
   "outputs": [],
   "source": [
    "compiled = workflow.compile()"
   ]
  },
  {
   "cell_type": "markdown",
   "id": "4d20f1ad",
   "metadata": {},
   "source": [
    "## グラフの実行"
   ]
  },
  {
   "cell_type": "code",
   "execution_count": 17,
   "id": "58efc60e",
   "metadata": {},
   "outputs": [],
   "source": [
    "initial_state = State(query=\"生成AIについて教えてください\")\n",
    "result = compiled.invoke(initial_state)"
   ]
  },
  {
   "cell_type": "markdown",
   "id": "9974cbf6",
   "metadata": {},
   "source": [
    "## 結果確認"
   ]
  },
  {
   "cell_type": "code",
   "execution_count": 18,
   "id": "ed600904",
   "metadata": {},
   "outputs": [
    {
     "data": {
      "text/plain": [
       "{'query': '生成AIについて教えてください',\n",
       " 'current_role': '生成AI製品エキスパート',\n",
       " 'messages': ['生成AI製品エキスパートとしてお答えします。\\n\\n生成AI（生成的人工知能）は、データから新しいコンテンツを生成する能力を持つAI技術の一分野です。これには、テキスト、画像、音声、動画などの生成が含まれます。生成AIの代表的な技術には、以下のようなものがあります。\\n\\n1. **自然言語処理（NLP）モデル**: 例えば、GPT（Generative Pre-trained Transformer）シリーズは、テキストの生成や翻訳、要約などに用いられます。これらのモデルは、大量のテキストデータを学習し、人間のように自然な文章を生成することができます。\\n\\n2. **画像生成モデル**: GAN（Generative Adversarial Networks）やVAE（Variational Autoencoders）などの技術を用いて、新しい画像を生成します。これにより、アート作品の創作や、現実には存在しない人物の顔を生成することが可能です。\\n\\n3. **音声合成**: TTS（Text-to-Speech）技術を用いて、テキストから自然な音声を生成します。これにより、音声アシスタントやナレーションの自動生成が可能になります。\\n\\n生成AIは、クリエイティブな分野やエンターテインメント、教育、医療など、さまざまな分野で活用されています。例えば、広告やマーケティングのコンテンツ生成、教育用の教材作成、医療データの解析などに応用されています。\\n\\nこの技術は急速に進化しており、倫理的な課題やデータの偏りといった問題も議論されています。生成AIを活用する際には、これらの点にも注意を払うことが重要です。'],\n",
       " 'current_judge': True,\n",
       " 'judgement_reason': '回答は生成AIについての基本的な情報を網羅しており、自然言語処理、画像生成、音声合成といった具体的な技術例を挙げています。また、生成AIの応用分野や倫理的な課題についても触れており、全体としてバランスの取れた内容です。専門用語も適切に使用されており、一般的な理解を助ける内容となっています。'}"
      ]
     },
     "execution_count": 18,
     "metadata": {},
     "output_type": "execute_result"
    }
   ],
   "source": [
    "result"
   ]
  },
  {
   "cell_type": "code",
   "execution_count": 19,
   "id": "cded5e10",
   "metadata": {},
   "outputs": [
    {
     "name": "stdout",
     "output_type": "stream",
     "text": [
      "生成AI製品エキスパートとしてお答えします。\n",
      "\n",
      "生成AI（生成的人工知能）は、データから新しいコンテンツを生成する能力を持つAI技術の一分野です。これには、テキスト、画像、音声、動画などの生成が含まれます。生成AIの代表的な技術には、以下のようなものがあります。\n",
      "\n",
      "1. **自然言語処理（NLP）モデル**: 例えば、GPT（Generative Pre-trained Transformer）シリーズは、テキストの生成や翻訳、要約などに用いられます。これらのモデルは、大量のテキストデータを学習し、人間のように自然な文章を生成することができます。\n",
      "\n",
      "2. **画像生成モデル**: GAN（Generative Adversarial Networks）やVAE（Variational Autoencoders）などの技術を用いて、新しい画像を生成します。これにより、アート作品の創作や、現実には存在しない人物の顔を生成することが可能です。\n",
      "\n",
      "3. **音声合成**: TTS（Text-to-Speech）技術を用いて、テキストから自然な音声を生成します。これにより、音声アシスタントやナレーションの自動生成が可能になります。\n",
      "\n",
      "生成AIは、クリエイティブな分野やエンターテインメント、教育、医療など、さまざまな分野で活用されています。例えば、広告やマーケティングのコンテンツ生成、教育用の教材作成、医療データの解析などに応用されています。\n",
      "\n",
      "この技術は急速に進化しており、倫理的な課題やデータの偏りといった問題も議論されています。生成AIを活用する際には、これらの点にも注意を払うことが重要です。\n"
     ]
    }
   ],
   "source": [
    "print(result[\"messages\"][-1])"
   ]
  },
  {
   "cell_type": "markdown",
   "id": "bb1bb0b2",
   "metadata": {},
   "source": [
    "## グラフ構造をビジュアライズ"
   ]
  },
  {
   "cell_type": "code",
   "execution_count": null,
   "id": "c637f9cd",
   "metadata": {},
   "outputs": [
    {
     "name": "stdout",
     "output_type": "stream",
     "text": [
      "Collecting pygraphviz\n",
      "  Using cached pygraphviz-1.14.tar.gz (106 kB)\n",
      "  Installing build dependencies ... \u001b[?25ldone\n",
      "\u001b[?25h  Getting requirements to build wheel ... \u001b[?25ldone\n",
      "\u001b[?25h  Preparing metadata (pyproject.toml) ... \u001b[?25ldone\n",
      "\u001b[?25hBuilding wheels for collected packages: pygraphviz\n",
      "  Building wheel for pygraphviz (pyproject.toml) ... \u001b[?25ldone\n",
      "\u001b[?25h  Created wheel for pygraphviz: filename=pygraphviz-1.14-cp312-cp312-linux_x86_64.whl size=174115 sha256=94773de64eed736ec56d69a25b4f5fbb6b9207a17465c7ecb5df9eb674edf58d\n",
      "  Stored in directory: /home/ubuntu/.cache/pip/wheels/e1/2f/c3/0f7719eda975973b474b79b98e1208e635565c1e4dac777ac8\n",
      "Successfully built pygraphviz\n",
      "Installing collected packages: pygraphviz\n",
      "Successfully installed pygraphviz-1.14\n"
     ]
    }
   ],
   "source": [
    "!apt-get install graphviz libgraphviz-dev pkg-config\n",
    "!pip install pygraphviz"
   ]
  },
  {
   "cell_type": "code",
   "execution_count": 23,
   "id": "504a3428",
   "metadata": {},
   "outputs": [
    {
     "data": {
      "image/png": "[encoded data removed]",
      "text/plain": [
       "<IPython.core.display.Image object>"
      ]
     },
     "execution_count": 23,
     "metadata": {},
     "output_type": "execute_result"
    }
   ],
   "source": [
    "from IPython.display import Image\n",
    "\n",
    "Image(compiled.get_graph().draw_png())"
   ]
  },
  {
   "cell_type": "markdown",
   "id": "6de707ce",
   "metadata": {},
   "source": [
    "## チェックポイント"
   ]
  },
  {
   "cell_type": "code",
   "execution_count": 24,
   "id": "dd54265f",
   "metadata": {},
   "outputs": [
    {
     "name": "stdout",
     "output_type": "stream",
     "text": [
      "Collecting langgraph-checkpoint==1.0.11\n",
      "  Downloading langgraph_checkpoint-1.0.11-py3-none-any.whl.metadata (4.6 kB)\n",
      "Requirement already satisfied: langchain-core<0.4,>=0.2.38 in /work/python_coding/.venv/lib/python3.12/site-packages (from langgraph-checkpoint==1.0.11) (0.3.63)\n",
      "Requirement already satisfied: msgpack<2.0.0,>=1.1.0 in /work/python_coding/.venv/lib/python3.12/site-packages (from langgraph-checkpoint==1.0.11) (1.1.1)\n",
      "Requirement already satisfied: langsmith<0.4,>=0.1.126 in /work/python_coding/.venv/lib/python3.12/site-packages (from langchain-core<0.4,>=0.2.38->langgraph-checkpoint==1.0.11) (0.1.147)\n",
      "Requirement already satisfied: tenacity!=8.4.0,<10.0.0,>=8.1.0 in /work/python_coding/.venv/lib/python3.12/site-packages (from langchain-core<0.4,>=0.2.38->langgraph-checkpoint==1.0.11) (8.5.0)\n",
      "Requirement already satisfied: jsonpatch<2.0,>=1.33 in /work/python_coding/.venv/lib/python3.12/site-packages (from langchain-core<0.4,>=0.2.38->langgraph-checkpoint==1.0.11) (1.33)\n",
      "Requirement already satisfied: PyYAML>=5.3 in /work/python_coding/.venv/lib/python3.12/site-packages (from langchain-core<0.4,>=0.2.38->langgraph-checkpoint==1.0.11) (6.0.2)\n",
      "Requirement already satisfied: packaging<25,>=23.2 in /work/python_coding/.venv/lib/python3.12/site-packages (from langchain-core<0.4,>=0.2.38->langgraph-checkpoint==1.0.11) (24.2)\n",
      "Requirement already satisfied: typing-extensions>=4.7 in /work/python_coding/.venv/lib/python3.12/site-packages (from langchain-core<0.4,>=0.2.38->langgraph-checkpoint==1.0.11) (4.14.0)\n",
      "Requirement already satisfied: pydantic>=2.7.4 in /work/python_coding/.venv/lib/python3.12/site-packages (from langchain-core<0.4,>=0.2.38->langgraph-checkpoint==1.0.11) (2.10.6)\n",
      "Requirement already satisfied: jsonpointer>=1.9 in /work/python_coding/.venv/lib/python3.12/site-packages (from jsonpatch<2.0,>=1.33->langchain-core<0.4,>=0.2.38->langgraph-checkpoint==1.0.11) (3.0.0)\n",
      "Requirement already satisfied: httpx<1,>=0.23.0 in /work/python_coding/.venv/lib/python3.12/site-packages (from langsmith<0.4,>=0.1.126->langchain-core<0.4,>=0.2.38->langgraph-checkpoint==1.0.11) (0.28.1)\n",
      "Requirement already satisfied: orjson<4.0.0,>=3.9.14 in /work/python_coding/.venv/lib/python3.12/site-packages (from langsmith<0.4,>=0.1.126->langchain-core<0.4,>=0.2.38->langgraph-checkpoint==1.0.11) (3.10.18)\n",
      "Requirement already satisfied: requests<3,>=2 in /work/python_coding/.venv/lib/python3.12/site-packages (from langsmith<0.4,>=0.1.126->langchain-core<0.4,>=0.2.38->langgraph-checkpoint==1.0.11) (2.32.4)\n",
      "Requirement already satisfied: requests-toolbelt<2.0.0,>=1.0.0 in /work/python_coding/.venv/lib/python3.12/site-packages (from langsmith<0.4,>=0.1.126->langchain-core<0.4,>=0.2.38->langgraph-checkpoint==1.0.11) (1.0.0)\n",
      "Requirement already satisfied: anyio in /work/python_coding/.venv/lib/python3.12/site-packages (from httpx<1,>=0.23.0->langsmith<0.4,>=0.1.126->langchain-core<0.4,>=0.2.38->langgraph-checkpoint==1.0.11) (4.9.0)\n",
      "Requirement already satisfied: certifi in /work/python_coding/.venv/lib/python3.12/site-packages (from httpx<1,>=0.23.0->langsmith<0.4,>=0.1.126->langchain-core<0.4,>=0.2.38->langgraph-checkpoint==1.0.11) (2025.6.15)\n",
      "Requirement already satisfied: httpcore==1.* in /work/python_coding/.venv/lib/python3.12/site-packages (from httpx<1,>=0.23.0->langsmith<0.4,>=0.1.126->langchain-core<0.4,>=0.2.38->langgraph-checkpoint==1.0.11) (1.0.9)\n",
      "Requirement already satisfied: idna in /work/python_coding/.venv/lib/python3.12/site-packages (from httpx<1,>=0.23.0->langsmith<0.4,>=0.1.126->langchain-core<0.4,>=0.2.38->langgraph-checkpoint==1.0.11) (3.10)\n",
      "Requirement already satisfied: h11>=0.16 in /work/python_coding/.venv/lib/python3.12/site-packages (from httpcore==1.*->httpx<1,>=0.23.0->langsmith<0.4,>=0.1.126->langchain-core<0.4,>=0.2.38->langgraph-checkpoint==1.0.11) (0.16.0)\n",
      "Requirement already satisfied: annotated-types>=0.6.0 in /work/python_coding/.venv/lib/python3.12/site-packages (from pydantic>=2.7.4->langchain-core<0.4,>=0.2.38->langgraph-checkpoint==1.0.11) (0.7.0)\n",
      "Requirement already satisfied: pydantic-core==2.27.2 in /work/python_coding/.venv/lib/python3.12/site-packages (from pydantic>=2.7.4->langchain-core<0.4,>=0.2.38->langgraph-checkpoint==1.0.11) (2.27.2)\n",
      "Requirement already satisfied: charset_normalizer<4,>=2 in /work/python_coding/.venv/lib/python3.12/site-packages (from requests<3,>=2->langsmith<0.4,>=0.1.126->langchain-core<0.4,>=0.2.38->langgraph-checkpoint==1.0.11) (3.4.2)\n",
      "Requirement already satisfied: urllib3<3,>=1.21.1 in /work/python_coding/.venv/lib/python3.12/site-packages (from requests<3,>=2->langsmith<0.4,>=0.1.126->langchain-core<0.4,>=0.2.38->langgraph-checkpoint==1.0.11) (2.4.0)\n",
      "Requirement already satisfied: sniffio>=1.1 in /work/python_coding/.venv/lib/python3.12/site-packages (from anyio->httpx<1,>=0.23.0->langsmith<0.4,>=0.1.126->langchain-core<0.4,>=0.2.38->langgraph-checkpoint==1.0.11) (1.3.1)\n",
      "Downloading langgraph_checkpoint-1.0.11-py3-none-any.whl (17 kB)\n",
      "Installing collected packages: langgraph-checkpoint\n",
      "  Attempting uninstall: langgraph-checkpoint\n",
      "    Found existing installation: langgraph-checkpoint 1.0.12\n",
      "    Uninstalling langgraph-checkpoint-1.0.12:\n",
      "      Successfully uninstalled langgraph-checkpoint-1.0.12\n",
      "Successfully installed langgraph-checkpoint-1.0.11\n"
     ]
    }
   ],
   "source": [
    "!pip install langgraph-checkpoint==1.0.11"
   ]
  },
  {
   "cell_type": "code",
   "execution_count": 25,
   "id": "2dfb9857",
   "metadata": {},
   "outputs": [],
   "source": [
    "import operator\n",
    "from typing import Annotated, Any\n",
    "from langchain_core.messages import SystemMessage, HumanMessage, BaseMessage\n",
    "from langchain_openai import ChatOpenAI\n",
    "from pydantic import BaseModel, Field\n",
    "\n",
    "# グラフのステートを定義\n",
    "class State(BaseModel):\n",
    "    query: str\n",
    "    messages: Annotated[list[BaseMessage], operator.add] = Field(default=[])\n",
    "\n",
    "# メッセージを追加するノード関数\n",
    "def add_message(state: State) -> dict[str, Any]:\n",
    "    additional_messages = []\n",
    "    if not state.messages:\n",
    "        additional_messages.append(\n",
    "            SystemMessage(content=\"あなたは最小限の応答をする対話エージェントです。\")\n",
    "        )\n",
    "    additional_messages.append(HumanMessage(content=state.query))\n",
    "    return {\"messages\": additional_messages}\n",
    "\n",
    "# LLMからの応答を追加するノード関数\n",
    "def llm_response(state: State) -> dict[str, Any]:\n",
    "    llm = ChatOpenAI(model=\"gpt-4o-mini\", temperature=0.5)\n",
    "    ai_message = llm.invoke(state.messages)\n",
    "    return {\"messages\": [ai_message]}"
   ]
  },
  {
   "cell_type": "markdown",
   "id": "55c647e0",
   "metadata": {},
   "source": [
    "### チェックポイントの内容を表示する関数"
   ]
  },
  {
   "cell_type": "code",
   "execution_count": 27,
   "id": "f932b6e7",
   "metadata": {},
   "outputs": [],
   "source": [
    "from pprint import pprint\n",
    "from langchain_core.runnables import RunnableConfig\n",
    "from langgraph.checkpoint.base import BaseCheckpointSaver\n",
    "\n",
    "def print_checkpoint_dump(checkpointer: BaseCheckpointSaver, config: RunnableConfig):\n",
    "    checkpoint_tuple = checkpointer.get_tuple(config)\n",
    "\n",
    "    print(\"チェックポイントデータ:\")\n",
    "    pprint(checkpoint_tuple.checkpoint)\n",
    "    print(\"\\nメタデータ:\")\n",
    "    pprint(checkpoint_tuple.metadata)"
   ]
  },
  {
   "cell_type": "markdown",
   "id": "9ba9445b",
   "metadata": {},
   "source": [
    "### グラフの定義とコンパイル"
   ]
  },
  {
   "cell_type": "code",
   "execution_count": 28,
   "id": "0fdaca55",
   "metadata": {},
   "outputs": [],
   "source": [
    "from langgraph.graph import StateGraph, END\n",
    "from langgraph.checkpoint.memory import MemorySaver\n",
    "\n",
    "# グラフを設定\n",
    "graph = StateGraph(State)\n",
    "graph.add_node(\"add_message\", add_message)\n",
    "graph.add_node(\"llm_response\", llm_response)\n",
    "\n",
    "graph.set_entry_point(\"add_message\")\n",
    "graph.add_edge(\"add_message\", \"llm_response\")\n",
    "graph.add_edge(\"llm_response\", END)\n",
    "\n",
    "# チェックポインターを設定\n",
    "checkpointer = MemorySaver()\n",
    "\n",
    "# グラフをコンパイル\n",
    "compiled_graph = graph.compile(checkpointer=checkpointer)"
   ]
  },
  {
   "cell_type": "markdown",
   "id": "eeb861ca",
   "metadata": {},
   "source": [
    "### 実行"
   ]
  },
  {
   "cell_type": "code",
   "execution_count": 29,
   "id": "ee73fb58",
   "metadata": {},
   "outputs": [
    {
     "data": {
      "text/plain": [
       "{'query': '私の好きなものはずんだ餅です。覚えておいてね。',\n",
       " 'messages': [SystemMessage(content='あなたは最小限の応答をする対話エージェントです。', additional_kwargs={}, response_metadata={}),\n",
       "  HumanMessage(content='私の好きなものはずんだ餅です。覚えておいてね。', additional_kwargs={}, response_metadata={}),\n",
       "  AIMessage(content='わかりました！ずんだ餅ですね。', additional_kwargs={'refusal': None}, response_metadata={'token_usage': {'completion_tokens': 11, 'prompt_tokens': 48, 'total_tokens': 59, 'completion_tokens_details': {'accepted_prediction_tokens': 0, 'audio_tokens': 0, 'reasoning_tokens': 0, 'rejected_prediction_tokens': 0}, 'prompt_tokens_details': {'audio_tokens': 0, 'cached_tokens': 0}}, 'model_name': 'gpt-4o-mini-2024-07-18', 'system_fingerprint': 'fp_34a54ae93c', 'finish_reason': 'stop', 'logprobs': None}, id='run--b2e7b1ce-0c1c-416b-9fb7-ac227b17e5d3-0', usage_metadata={'input_tokens': 48, 'output_tokens': 11, 'total_tokens': 59})]}"
      ]
     },
     "execution_count": 29,
     "metadata": {},
     "output_type": "execute_result"
    }
   ],
   "source": [
    "config = {\"configurable\": {\"thread_id\": \"example-1\"}}\n",
    "user_query = State(query=\"私の好きなものはずんだ餅です。覚えておいてね。\")\n",
    "first_response = compiled_graph.invoke(user_query, config)\n",
    "first_response"
   ]
  },
  {
   "cell_type": "markdown",
   "id": "c87ff7c4",
   "metadata": {},
   "source": [
    "### チェックポイントの変化を確認"
   ]
  },
  {
   "cell_type": "code",
   "execution_count": 30,
   "id": "e8183bd0",
   "metadata": {},
   "outputs": [
    {
     "name": "stdout",
     "output_type": "stream",
     "text": [
      "CheckpointTuple(config={'configurable': {'thread_id': 'example-1', 'checkpoint_ns': '', 'checkpoint_id': '1f058239-ef81-6fbd-8002-f6ac02a71591'}}, checkpoint={'v': 1, 'ts': '2025-07-03T15:37:26.264606+00:00', 'id': '1f058239-ef81-6fbd-8002-f6ac02a71591', 'channel_values': {'query': '私の好きなものはずんだ餅です。覚えておいてね。', 'messages': [SystemMessage(content='あなたは最小限の応答をする対話エージェントです。', additional_kwargs={}, response_metadata={}), HumanMessage(content='私の好きなものはずんだ餅です。覚えておいてね。', additional_kwargs={}, response_metadata={}), AIMessage(content='わかりました！ずんだ餅ですね。', additional_kwargs={'refusal': None}, response_metadata={'token_usage': {'completion_tokens': 11, 'prompt_tokens': 48, 'total_tokens': 59, 'completion_tokens_details': {'accepted_prediction_tokens': 0, 'audio_tokens': 0, 'reasoning_tokens': 0, 'rejected_prediction_tokens': 0}, 'prompt_tokens_details': {'audio_tokens': 0, 'cached_tokens': 0}}, 'model_name': 'gpt-4o-mini-2024-07-18', 'system_fingerprint': 'fp_34a54ae93c', 'finish_reason': 'stop', 'logprobs': None}, id='run--b2e7b1ce-0c1c-416b-9fb7-ac227b17e5d3-0', usage_metadata={'input_tokens': 48, 'output_tokens': 11, 'total_tokens': 59})], 'llm_response': 'llm_response'}, 'channel_versions': {'__start__': '00000000000000000000000000000002.0.9243642099591194', 'query': '00000000000000000000000000000002.0.14904611070404516', 'messages': '00000000000000000000000000000004.0.7040915404686686', 'start:add_message': '00000000000000000000000000000003.0.8795376776612497', 'add_message': '00000000000000000000000000000004.0.5971514212273011', 'llm_response': '00000000000000000000000000000004.0.16832225478984864'}, 'versions_seen': {'__input__': {}, '__start__': {'__start__': '00000000000000000000000000000001.0.8209554748324828'}, 'add_message': {'start:add_message': '00000000000000000000000000000002.0.8192645135685634'}, 'llm_response': {'add_message': '00000000000000000000000000000003.0.29235782342358696'}}, 'pending_sends': []}, metadata={'source': 'loop', 'writes': {'llm_response': {'messages': [AIMessage(content='わかりました！ずんだ餅ですね。', additional_kwargs={'refusal': None}, response_metadata={'token_usage': {'completion_tokens': 11, 'prompt_tokens': 48, 'total_tokens': 59, 'completion_tokens_details': {'accepted_prediction_tokens': 0, 'audio_tokens': 0, 'reasoning_tokens': 0, 'rejected_prediction_tokens': 0}, 'prompt_tokens_details': {'audio_tokens': 0, 'cached_tokens': 0}}, 'model_name': 'gpt-4o-mini-2024-07-18', 'system_fingerprint': 'fp_34a54ae93c', 'finish_reason': 'stop', 'logprobs': None}, id='run--b2e7b1ce-0c1c-416b-9fb7-ac227b17e5d3-0', usage_metadata={'input_tokens': 48, 'output_tokens': 11, 'total_tokens': 59})]}}, 'step': 2, 'parents': {}}, parent_config={'configurable': {'thread_id': 'example-1', 'checkpoint_ns': '', 'checkpoint_id': '1f058239-e5f9-6fb0-8001-a8666a2d6555'}}, pending_writes=[])\n",
      "CheckpointTuple(config={'configurable': {'thread_id': 'example-1', 'checkpoint_ns': '', 'checkpoint_id': '1f058239-e5f9-6fb0-8001-a8666a2d6555'}}, checkpoint={'v': 1, 'ts': '2025-07-03T15:37:25.265180+00:00', 'id': '1f058239-e5f9-6fb0-8001-a8666a2d6555', 'channel_values': {'query': '私の好きなものはずんだ餅です。覚えておいてね。', 'messages': [SystemMessage(content='あなたは最小限の応答をする対話エージェントです。', additional_kwargs={}, response_metadata={}), HumanMessage(content='私の好きなものはずんだ餅です。覚えておいてね。', additional_kwargs={}, response_metadata={})], 'add_message': 'add_message'}, 'channel_versions': {'__start__': '00000000000000000000000000000002.0.9243642099591194', 'query': '00000000000000000000000000000002.0.14904611070404516', 'messages': '00000000000000000000000000000003.0.5283824270483254', 'start:add_message': '00000000000000000000000000000003.0.8795376776612497', 'add_message': '00000000000000000000000000000003.0.29235782342358696'}, 'versions_seen': {'__input__': {}, '__start__': {'__start__': '00000000000000000000000000000001.0.8209554748324828'}, 'add_message': {'start:add_message': '00000000000000000000000000000002.0.8192645135685634'}}, 'pending_sends': []}, metadata={'source': 'loop', 'writes': {'add_message': {'messages': [SystemMessage(content='あなたは最小限の応答をする対話エージェントです。', additional_kwargs={}, response_metadata={}), HumanMessage(content='私の好きなものはずんだ餅です。覚えておいてね。', additional_kwargs={}, response_metadata={})]}}, 'step': 1, 'parents': {}}, parent_config={'configurable': {'thread_id': 'example-1', 'checkpoint_ns': '', 'checkpoint_id': '1f058239-e5f1-6ee9-8000-3793f6873372'}}, pending_writes=[])\n",
      "CheckpointTuple(config={'configurable': {'thread_id': 'example-1', 'checkpoint_ns': '', 'checkpoint_id': '1f058239-e5f1-6ee9-8000-3793f6873372'}}, checkpoint={'v': 1, 'ts': '2025-07-03T15:37:25.261874+00:00', 'id': '1f058239-e5f1-6ee9-8000-3793f6873372', 'channel_values': {'query': '私の好きなものはずんだ餅です。覚えておいてね。', 'messages': [], 'start:add_message': '__start__'}, 'channel_versions': {'__start__': '00000000000000000000000000000002.0.9243642099591194', 'query': '00000000000000000000000000000002.0.14904611070404516', 'messages': '00000000000000000000000000000002.0.46891870297593463', 'start:add_message': '00000000000000000000000000000002.0.8192645135685634'}, 'versions_seen': {'__input__': {}, '__start__': {'__start__': '00000000000000000000000000000001.0.8209554748324828'}}, 'pending_sends': []}, metadata={'source': 'loop', 'writes': None, 'step': 0, 'parents': {}}, parent_config={'configurable': {'thread_id': 'example-1', 'checkpoint_ns': '', 'checkpoint_id': '1f058239-e5e9-680f-bfff-ce3b17a3e9c1'}}, pending_writes=[])\n",
      "CheckpointTuple(config={'configurable': {'thread_id': 'example-1', 'checkpoint_ns': '', 'checkpoint_id': '1f058239-e5e9-680f-bfff-ce3b17a3e9c1'}}, checkpoint={'v': 1, 'ts': '2025-07-03T15:37:25.258436+00:00', 'id': '1f058239-e5e9-680f-bfff-ce3b17a3e9c1', 'channel_values': {'__start__': State(query='私の好きなものはずんだ餅です。覚えておいてね。', messages=[])}, 'channel_versions': {'__start__': '00000000000000000000000000000001.0.8209554748324828'}, 'versions_seen': {'__input__': {}}, 'pending_sends': []}, metadata={'source': 'input', 'writes': {'__start__': State(query='私の好きなものはずんだ餅です。覚えておいてね。', messages=[])}, 'step': -1, 'parents': {}}, parent_config=None, pending_writes=[])\n"
     ]
    }
   ],
   "source": [
    "for checkpoint in checkpointer.list(config):\n",
    "    print(checkpoint)"
   ]
  },
  {
   "cell_type": "code",
   "execution_count": 31,
   "id": "2dd1c2bd",
   "metadata": {},
   "outputs": [
    {
     "name": "stdout",
     "output_type": "stream",
     "text": [
      "チェックポイントデータ:\n",
      "{'channel_values': {'llm_response': 'llm_response',\n",
      "                    'messages': [SystemMessage(content='あなたは最小限の応答をする対話エージェントです。', additional_kwargs={}, response_metadata={}),\n",
      "                                 HumanMessage(content='私の好きなものはずんだ餅です。覚えておいてね。', additional_kwargs={}, response_metadata={}),\n",
      "                                 AIMessage(content='わかりました！ずんだ餅ですね。', additional_kwargs={'refusal': None}, response_metadata={'token_usage': {'completion_tokens': 11, 'prompt_tokens': 48, 'total_tokens': 59, 'completion_tokens_details': {'accepted_prediction_tokens': 0, 'audio_tokens': 0, 'reasoning_tokens': 0, 'rejected_prediction_tokens': 0}, 'prompt_tokens_details': {'audio_tokens': 0, 'cached_tokens': 0}}, 'model_name': 'gpt-4o-mini-2024-07-18', 'system_fingerprint': 'fp_34a54ae93c', 'finish_reason': 'stop', 'logprobs': None}, id='run--b2e7b1ce-0c1c-416b-9fb7-ac227b17e5d3-0', usage_metadata={'input_tokens': 48, 'output_tokens': 11, 'total_tokens': 59})],\n",
      "                    'query': '私の好きなものはずんだ餅です。覚えておいてね。'},\n",
      " 'channel_versions': {'__start__': '00000000000000000000000000000002.0.9243642099591194',\n",
      "                      'add_message': '00000000000000000000000000000004.0.5971514212273011',\n",
      "                      'llm_response': '00000000000000000000000000000004.0.16832225478984864',\n",
      "                      'messages': '00000000000000000000000000000004.0.7040915404686686',\n",
      "                      'query': '00000000000000000000000000000002.0.14904611070404516',\n",
      "                      'start:add_message': '00000000000000000000000000000003.0.8795376776612497'},\n",
      " 'id': '1f058239-ef81-6fbd-8002-f6ac02a71591',\n",
      " 'pending_sends': [],\n",
      " 'ts': '2025-07-03T15:37:26.264606+00:00',\n",
      " 'v': 1,\n",
      " 'versions_seen': {'__input__': {},\n",
      "                   '__start__': {'__start__': '00000000000000000000000000000001.0.8209554748324828'},\n",
      "                   'add_message': {'start:add_message': '00000000000000000000000000000002.0.8192645135685634'},\n",
      "                   'llm_response': {'add_message': '00000000000000000000000000000003.0.29235782342358696'}}}\n",
      "\n",
      "メタデータ:\n",
      "{'parents': {},\n",
      " 'source': 'loop',\n",
      " 'step': 2,\n",
      " 'writes': {'llm_response': {'messages': [AIMessage(content='わかりました！ずんだ餅ですね。', additional_kwargs={'refusal': None}, response_metadata={'token_usage': {'completion_tokens': 11, 'prompt_tokens': 48, 'total_tokens': 59, 'completion_tokens_details': {'accepted_prediction_tokens': 0, 'audio_tokens': 0, 'reasoning_tokens': 0, 'rejected_prediction_tokens': 0}, 'prompt_tokens_details': {'audio_tokens': 0, 'cached_tokens': 0}}, 'model_name': 'gpt-4o-mini-2024-07-18', 'system_fingerprint': 'fp_34a54ae93c', 'finish_reason': 'stop', 'logprobs': None}, id='run--b2e7b1ce-0c1c-416b-9fb7-ac227b17e5d3-0', usage_metadata={'input_tokens': 48, 'output_tokens': 11, 'total_tokens': 59})]}}}\n"
     ]
    }
   ],
   "source": [
    "print_checkpoint_dump(checkpointer, config)"
   ]
  },
  {
   "cell_type": "code",
   "execution_count": 32,
   "id": "b9ea3ac2",
   "metadata": {},
   "outputs": [
    {
     "data": {
      "text/plain": [
       "{'query': '私の好物は何か覚えてる？',\n",
       " 'messages': [SystemMessage(content='あなたは最小限の応答をする対話エージェントです。', additional_kwargs={}, response_metadata={}),\n",
       "  HumanMessage(content='私の好きなものはずんだ餅です。覚えておいてね。', additional_kwargs={}, response_metadata={}),\n",
       "  AIMessage(content='わかりました！ずんだ餅ですね。', additional_kwargs={'refusal': None}, response_metadata={'token_usage': {'completion_tokens': 11, 'prompt_tokens': 48, 'total_tokens': 59, 'completion_tokens_details': {'accepted_prediction_tokens': 0, 'audio_tokens': 0, 'reasoning_tokens': 0, 'rejected_prediction_tokens': 0}, 'prompt_tokens_details': {'audio_tokens': 0, 'cached_tokens': 0}}, 'model_name': 'gpt-4o-mini-2024-07-18', 'system_fingerprint': 'fp_34a54ae93c', 'finish_reason': 'stop', 'logprobs': None}, id='run--b2e7b1ce-0c1c-416b-9fb7-ac227b17e5d3-0', usage_metadata={'input_tokens': 48, 'output_tokens': 11, 'total_tokens': 59}),\n",
       "  HumanMessage(content='私の好物は何か覚えてる？', additional_kwargs={}, response_metadata={}),\n",
       "  AIMessage(content='はい、ずんだ餅です。', additional_kwargs={'refusal': None}, response_metadata={'token_usage': {'completion_tokens': 9, 'prompt_tokens': 78, 'total_tokens': 87, 'completion_tokens_details': {'accepted_prediction_tokens': 0, 'audio_tokens': 0, 'reasoning_tokens': 0, 'rejected_prediction_tokens': 0}, 'prompt_tokens_details': {'audio_tokens': 0, 'cached_tokens': 0}}, 'model_name': 'gpt-4o-mini-2024-07-18', 'system_fingerprint': 'fp_34a54ae93c', 'finish_reason': 'stop', 'logprobs': None}, id='run--58967438-b7b5-4aae-9b93-c885d6a4c6b4-0', usage_metadata={'input_tokens': 78, 'output_tokens': 9, 'total_tokens': 87})]}"
      ]
     },
     "execution_count": 32,
     "metadata": {},
     "output_type": "execute_result"
    }
   ],
   "source": [
    "user_query = State(query=\"私の好物は何か覚えてる？\")\n",
    "second_response = compiled_graph.invoke(user_query, config)\n",
    "second_response"
   ]
  },
  {
   "cell_type": "code",
   "execution_count": 33,
   "id": "386f29f4",
   "metadata": {},
   "outputs": [
    {
     "name": "stdout",
     "output_type": "stream",
     "text": [
      "CheckpointTuple(config={'configurable': {'thread_id': 'example-1', 'checkpoint_ns': '', 'checkpoint_id': '1f05823d-8f6a-6166-8006-aade297c1fd3'}}, checkpoint={'v': 1, 'ts': '2025-07-03T15:39:03.562672+00:00', 'id': '1f05823d-8f6a-6166-8006-aade297c1fd3', 'channel_values': {'query': '私の好物は何か覚えてる？', 'messages': [SystemMessage(content='あなたは最小限の応答をする対話エージェントです。', additional_kwargs={}, response_metadata={}), HumanMessage(content='私の好きなものはずんだ餅です。覚えておいてね。', additional_kwargs={}, response_metadata={}), AIMessage(content='わかりました！ずんだ餅ですね。', additional_kwargs={'refusal': None}, response_metadata={'token_usage': {'completion_tokens': 11, 'prompt_tokens': 48, 'total_tokens': 59, 'completion_tokens_details': {'accepted_prediction_tokens': 0, 'audio_tokens': 0, 'reasoning_tokens': 0, 'rejected_prediction_tokens': 0}, 'prompt_tokens_details': {'audio_tokens': 0, 'cached_tokens': 0}}, 'model_name': 'gpt-4o-mini-2024-07-18', 'system_fingerprint': 'fp_34a54ae93c', 'finish_reason': 'stop', 'logprobs': None}, id='run--b2e7b1ce-0c1c-416b-9fb7-ac227b17e5d3-0', usage_metadata={'input_tokens': 48, 'output_tokens': 11, 'total_tokens': 59}), HumanMessage(content='私の好物は何か覚えてる？', additional_kwargs={}, response_metadata={}), AIMessage(content='はい、ずんだ餅です。', additional_kwargs={'refusal': None}, response_metadata={'token_usage': {'completion_tokens': 9, 'prompt_tokens': 78, 'total_tokens': 87, 'completion_tokens_details': {'accepted_prediction_tokens': 0, 'audio_tokens': 0, 'reasoning_tokens': 0, 'rejected_prediction_tokens': 0}, 'prompt_tokens_details': {'audio_tokens': 0, 'cached_tokens': 0}}, 'model_name': 'gpt-4o-mini-2024-07-18', 'system_fingerprint': 'fp_34a54ae93c', 'finish_reason': 'stop', 'logprobs': None}, id='run--58967438-b7b5-4aae-9b93-c885d6a4c6b4-0', usage_metadata={'input_tokens': 78, 'output_tokens': 9, 'total_tokens': 87})], 'llm_response': 'llm_response'}, 'channel_versions': {'__start__': '00000000000000000000000000000006.0.14557345815988643', 'query': '00000000000000000000000000000006.0.7618663690232689', 'messages': '00000000000000000000000000000008.0.05131448598110089', 'start:add_message': '00000000000000000000000000000007.0.6073505271475516', 'add_message': '00000000000000000000000000000008.0.7632626126837337', 'llm_response': '00000000000000000000000000000008.0.03978818803449913'}, 'versions_seen': {'__input__': {}, '__start__': {'__start__': '00000000000000000000000000000005.0.48985031227168063'}, 'add_message': {'start:add_message': '00000000000000000000000000000006.0.20670788714351562'}, 'llm_response': {'add_message': '00000000000000000000000000000007.0.19240349746844854'}}, 'pending_sends': []}, metadata={'source': 'loop', 'writes': {'llm_response': {'messages': [AIMessage(content='はい、ずんだ餅です。', additional_kwargs={'refusal': None}, response_metadata={'token_usage': {'completion_tokens': 9, 'prompt_tokens': 78, 'total_tokens': 87, 'completion_tokens_details': {'accepted_prediction_tokens': 0, 'audio_tokens': 0, 'reasoning_tokens': 0, 'rejected_prediction_tokens': 0}, 'prompt_tokens_details': {'audio_tokens': 0, 'cached_tokens': 0}}, 'model_name': 'gpt-4o-mini-2024-07-18', 'system_fingerprint': 'fp_34a54ae93c', 'finish_reason': 'stop', 'logprobs': None}, id='run--58967438-b7b5-4aae-9b93-c885d6a4c6b4-0', usage_metadata={'input_tokens': 78, 'output_tokens': 9, 'total_tokens': 87})]}}, 'step': 6, 'parents': {}}, parent_config={'configurable': {'thread_id': 'example-1', 'checkpoint_ns': '', 'checkpoint_id': '1f05823d-8a01-6551-8005-ffcc411a2599'}}, pending_writes=[])\n",
      "CheckpointTuple(config={'configurable': {'thread_id': 'example-1', 'checkpoint_ns': '', 'checkpoint_id': '1f05823d-8a01-6551-8005-ffcc411a2599'}}, checkpoint={'v': 1, 'ts': '2025-07-03T15:39:02.995475+00:00', 'id': '1f05823d-8a01-6551-8005-ffcc411a2599', 'channel_values': {'query': '私の好物は何か覚えてる？', 'messages': [SystemMessage(content='あなたは最小限の応答をする対話エージェントです。', additional_kwargs={}, response_metadata={}), HumanMessage(content='私の好きなものはずんだ餅です。覚えておいてね。', additional_kwargs={}, response_metadata={}), AIMessage(content='わかりました！ずんだ餅ですね。', additional_kwargs={'refusal': None}, response_metadata={'token_usage': {'completion_tokens': 11, 'prompt_tokens': 48, 'total_tokens': 59, 'completion_tokens_details': {'accepted_prediction_tokens': 0, 'audio_tokens': 0, 'reasoning_tokens': 0, 'rejected_prediction_tokens': 0}, 'prompt_tokens_details': {'audio_tokens': 0, 'cached_tokens': 0}}, 'model_name': 'gpt-4o-mini-2024-07-18', 'system_fingerprint': 'fp_34a54ae93c', 'finish_reason': 'stop', 'logprobs': None}, id='run--b2e7b1ce-0c1c-416b-9fb7-ac227b17e5d3-0', usage_metadata={'input_tokens': 48, 'output_tokens': 11, 'total_tokens': 59}), HumanMessage(content='私の好物は何か覚えてる？', additional_kwargs={}, response_metadata={})], 'add_message': 'add_message'}, 'channel_versions': {'__start__': '00000000000000000000000000000006.0.14557345815988643', 'query': '00000000000000000000000000000006.0.7618663690232689', 'messages': '00000000000000000000000000000007.0.8140951613719432', 'start:add_message': '00000000000000000000000000000007.0.6073505271475516', 'add_message': '00000000000000000000000000000007.0.19240349746844854', 'llm_response': '00000000000000000000000000000005.0.7835064904984947'}, 'versions_seen': {'__input__': {}, '__start__': {'__start__': '00000000000000000000000000000005.0.48985031227168063'}, 'add_message': {'start:add_message': '00000000000000000000000000000006.0.20670788714351562'}, 'llm_response': {'add_message': '00000000000000000000000000000003.0.29235782342358696'}}, 'pending_sends': []}, metadata={'source': 'loop', 'writes': {'add_message': {'messages': [HumanMessage(content='私の好物は何か覚えてる？', additional_kwargs={}, response_metadata={})]}}, 'step': 5, 'parents': {}}, parent_config={'configurable': {'thread_id': 'example-1', 'checkpoint_ns': '', 'checkpoint_id': '1f05823d-89fa-6c2f-8004-cf6441bede01'}}, pending_writes=[])\n",
      "CheckpointTuple(config={'configurable': {'thread_id': 'example-1', 'checkpoint_ns': '', 'checkpoint_id': '1f05823d-89fa-6c2f-8004-cf6441bede01'}}, checkpoint={'v': 1, 'ts': '2025-07-03T15:39:02.992780+00:00', 'id': '1f05823d-89fa-6c2f-8004-cf6441bede01', 'channel_values': {'query': '私の好物は何か覚えてる？', 'messages': [SystemMessage(content='あなたは最小限の応答をする対話エージェントです。', additional_kwargs={}, response_metadata={}), HumanMessage(content='私の好きなものはずんだ餅です。覚えておいてね。', additional_kwargs={}, response_metadata={}), AIMessage(content='わかりました！ずんだ餅ですね。', additional_kwargs={'refusal': None}, response_metadata={'token_usage': {'completion_tokens': 11, 'prompt_tokens': 48, 'total_tokens': 59, 'completion_tokens_details': {'accepted_prediction_tokens': 0, 'audio_tokens': 0, 'reasoning_tokens': 0, 'rejected_prediction_tokens': 0}, 'prompt_tokens_details': {'audio_tokens': 0, 'cached_tokens': 0}}, 'model_name': 'gpt-4o-mini-2024-07-18', 'system_fingerprint': 'fp_34a54ae93c', 'finish_reason': 'stop', 'logprobs': None}, id='run--b2e7b1ce-0c1c-416b-9fb7-ac227b17e5d3-0', usage_metadata={'input_tokens': 48, 'output_tokens': 11, 'total_tokens': 59})], 'start:add_message': '__start__'}, 'channel_versions': {'__start__': '00000000000000000000000000000006.0.14557345815988643', 'query': '00000000000000000000000000000006.0.7618663690232689', 'messages': '00000000000000000000000000000006.0.5270749636687458', 'start:add_message': '00000000000000000000000000000006.0.20670788714351562', 'add_message': '00000000000000000000000000000004.0.5971514212273011', 'llm_response': '00000000000000000000000000000005.0.7835064904984947'}, 'versions_seen': {'__input__': {}, '__start__': {'__start__': '00000000000000000000000000000005.0.48985031227168063'}, 'add_message': {'start:add_message': '00000000000000000000000000000002.0.8192645135685634'}, 'llm_response': {'add_message': '00000000000000000000000000000003.0.29235782342358696'}}, 'pending_sends': []}, metadata={'source': 'loop', 'writes': None, 'step': 4, 'parents': {}}, parent_config={'configurable': {'thread_id': 'example-1', 'checkpoint_ns': '', 'checkpoint_id': '1f05823d-89f5-63aa-8003-4787a133527e'}}, pending_writes=[])\n",
      "CheckpointTuple(config={'configurable': {'thread_id': 'example-1', 'checkpoint_ns': '', 'checkpoint_id': '1f05823d-89f5-63aa-8003-4787a133527e'}}, checkpoint={'v': 1, 'ts': '2025-07-03T15:39:02.990516+00:00', 'id': '1f05823d-89f5-63aa-8003-4787a133527e', 'channel_values': {'query': '私の好きなものはずんだ餅です。覚えておいてね。', 'messages': [SystemMessage(content='あなたは最小限の応答をする対話エージェントです。', additional_kwargs={}, response_metadata={}), HumanMessage(content='私の好きなものはずんだ餅です。覚えておいてね。', additional_kwargs={}, response_metadata={}), AIMessage(content='わかりました！ずんだ餅ですね。', additional_kwargs={'refusal': None}, response_metadata={'token_usage': {'completion_tokens': 11, 'prompt_tokens': 48, 'total_tokens': 59, 'completion_tokens_details': {'accepted_prediction_tokens': 0, 'audio_tokens': 0, 'reasoning_tokens': 0, 'rejected_prediction_tokens': 0}, 'prompt_tokens_details': {'audio_tokens': 0, 'cached_tokens': 0}}, 'model_name': 'gpt-4o-mini-2024-07-18', 'system_fingerprint': 'fp_34a54ae93c', 'finish_reason': 'stop', 'logprobs': None}, id='run--b2e7b1ce-0c1c-416b-9fb7-ac227b17e5d3-0', usage_metadata={'input_tokens': 48, 'output_tokens': 11, 'total_tokens': 59})], '__start__': State(query='私の好物は何か覚えてる？', messages=[])}, 'channel_versions': {'__start__': '00000000000000000000000000000005.0.48985031227168063', 'query': '00000000000000000000000000000002.0.14904611070404516', 'messages': '00000000000000000000000000000004.0.7040915404686686', 'start:add_message': '00000000000000000000000000000003.0.8795376776612497', 'add_message': '00000000000000000000000000000004.0.5971514212273011', 'llm_response': '00000000000000000000000000000005.0.7835064904984947'}, 'versions_seen': {'__input__': {}, '__start__': {'__start__': '00000000000000000000000000000001.0.8209554748324828'}, 'add_message': {'start:add_message': '00000000000000000000000000000002.0.8192645135685634'}, 'llm_response': {'add_message': '00000000000000000000000000000003.0.29235782342358696'}}, 'pending_sends': []}, metadata={'source': 'input', 'writes': {'__start__': State(query='私の好物は何か覚えてる？', messages=[])}, 'step': 3, 'parents': {}}, parent_config={'configurable': {'thread_id': 'example-1', 'checkpoint_ns': '', 'checkpoint_id': '1f058239-ef81-6fbd-8002-f6ac02a71591'}}, pending_writes=[])\n",
      "CheckpointTuple(config={'configurable': {'thread_id': 'example-1', 'checkpoint_ns': '', 'checkpoint_id': '1f058239-ef81-6fbd-8002-f6ac02a71591'}}, checkpoint={'v': 1, 'ts': '2025-07-03T15:37:26.264606+00:00', 'id': '1f058239-ef81-6fbd-8002-f6ac02a71591', 'channel_values': {'query': '私の好きなものはずんだ餅です。覚えておいてね。', 'messages': [SystemMessage(content='あなたは最小限の応答をする対話エージェントです。', additional_kwargs={}, response_metadata={}), HumanMessage(content='私の好きなものはずんだ餅です。覚えておいてね。', additional_kwargs={}, response_metadata={}), AIMessage(content='わかりました！ずんだ餅ですね。', additional_kwargs={'refusal': None}, response_metadata={'token_usage': {'completion_tokens': 11, 'prompt_tokens': 48, 'total_tokens': 59, 'completion_tokens_details': {'accepted_prediction_tokens': 0, 'audio_tokens': 0, 'reasoning_tokens': 0, 'rejected_prediction_tokens': 0}, 'prompt_tokens_details': {'audio_tokens': 0, 'cached_tokens': 0}}, 'model_name': 'gpt-4o-mini-2024-07-18', 'system_fingerprint': 'fp_34a54ae93c', 'finish_reason': 'stop', 'logprobs': None}, id='run--b2e7b1ce-0c1c-416b-9fb7-ac227b17e5d3-0', usage_metadata={'input_tokens': 48, 'output_tokens': 11, 'total_tokens': 59})], 'llm_response': 'llm_response'}, 'channel_versions': {'__start__': '00000000000000000000000000000002.0.9243642099591194', 'query': '00000000000000000000000000000002.0.14904611070404516', 'messages': '00000000000000000000000000000004.0.7040915404686686', 'start:add_message': '00000000000000000000000000000003.0.8795376776612497', 'add_message': '00000000000000000000000000000004.0.5971514212273011', 'llm_response': '00000000000000000000000000000004.0.16832225478984864'}, 'versions_seen': {'__input__': {}, '__start__': {'__start__': '00000000000000000000000000000001.0.8209554748324828'}, 'add_message': {'start:add_message': '00000000000000000000000000000002.0.8192645135685634'}, 'llm_response': {'add_message': '00000000000000000000000000000003.0.29235782342358696'}}, 'pending_sends': []}, metadata={'source': 'loop', 'writes': {'llm_response': {'messages': [AIMessage(content='わかりました！ずんだ餅ですね。', additional_kwargs={'refusal': None}, response_metadata={'token_usage': {'completion_tokens': 11, 'prompt_tokens': 48, 'total_tokens': 59, 'completion_tokens_details': {'accepted_prediction_tokens': 0, 'audio_tokens': 0, 'reasoning_tokens': 0, 'rejected_prediction_tokens': 0}, 'prompt_tokens_details': {'audio_tokens': 0, 'cached_tokens': 0}}, 'model_name': 'gpt-4o-mini-2024-07-18', 'system_fingerprint': 'fp_34a54ae93c', 'finish_reason': 'stop', 'logprobs': None}, id='run--b2e7b1ce-0c1c-416b-9fb7-ac227b17e5d3-0', usage_metadata={'input_tokens': 48, 'output_tokens': 11, 'total_tokens': 59})]}}, 'step': 2, 'parents': {}}, parent_config={'configurable': {'thread_id': 'example-1', 'checkpoint_ns': '', 'checkpoint_id': '1f058239-e5f9-6fb0-8001-a8666a2d6555'}}, pending_writes=[])\n",
      "CheckpointTuple(config={'configurable': {'thread_id': 'example-1', 'checkpoint_ns': '', 'checkpoint_id': '1f058239-e5f9-6fb0-8001-a8666a2d6555'}}, checkpoint={'v': 1, 'ts': '2025-07-03T15:37:25.265180+00:00', 'id': '1f058239-e5f9-6fb0-8001-a8666a2d6555', 'channel_values': {'query': '私の好きなものはずんだ餅です。覚えておいてね。', 'messages': [SystemMessage(content='あなたは最小限の応答をする対話エージェントです。', additional_kwargs={}, response_metadata={}), HumanMessage(content='私の好きなものはずんだ餅です。覚えておいてね。', additional_kwargs={}, response_metadata={})], 'add_message': 'add_message'}, 'channel_versions': {'__start__': '00000000000000000000000000000002.0.9243642099591194', 'query': '00000000000000000000000000000002.0.14904611070404516', 'messages': '00000000000000000000000000000003.0.5283824270483254', 'start:add_message': '00000000000000000000000000000003.0.8795376776612497', 'add_message': '00000000000000000000000000000003.0.29235782342358696'}, 'versions_seen': {'__input__': {}, '__start__': {'__start__': '00000000000000000000000000000001.0.8209554748324828'}, 'add_message': {'start:add_message': '00000000000000000000000000000002.0.8192645135685634'}}, 'pending_sends': []}, metadata={'source': 'loop', 'writes': {'add_message': {'messages': [SystemMessage(content='あなたは最小限の応答をする対話エージェントです。', additional_kwargs={}, response_metadata={}), HumanMessage(content='私の好きなものはずんだ餅です。覚えておいてね。', additional_kwargs={}, response_metadata={})]}}, 'step': 1, 'parents': {}}, parent_config={'configurable': {'thread_id': 'example-1', 'checkpoint_ns': '', 'checkpoint_id': '1f058239-e5f1-6ee9-8000-3793f6873372'}}, pending_writes=[])\n",
      "CheckpointTuple(config={'configurable': {'thread_id': 'example-1', 'checkpoint_ns': '', 'checkpoint_id': '1f058239-e5f1-6ee9-8000-3793f6873372'}}, checkpoint={'v': 1, 'ts': '2025-07-03T15:37:25.261874+00:00', 'id': '1f058239-e5f1-6ee9-8000-3793f6873372', 'channel_values': {'query': '私の好きなものはずんだ餅です。覚えておいてね。', 'messages': [], 'start:add_message': '__start__'}, 'channel_versions': {'__start__': '00000000000000000000000000000002.0.9243642099591194', 'query': '00000000000000000000000000000002.0.14904611070404516', 'messages': '00000000000000000000000000000002.0.46891870297593463', 'start:add_message': '00000000000000000000000000000002.0.8192645135685634'}, 'versions_seen': {'__input__': {}, '__start__': {'__start__': '00000000000000000000000000000001.0.8209554748324828'}}, 'pending_sends': []}, metadata={'source': 'loop', 'writes': None, 'step': 0, 'parents': {}}, parent_config={'configurable': {'thread_id': 'example-1', 'checkpoint_ns': '', 'checkpoint_id': '1f058239-e5e9-680f-bfff-ce3b17a3e9c1'}}, pending_writes=[])\n",
      "CheckpointTuple(config={'configurable': {'thread_id': 'example-1', 'checkpoint_ns': '', 'checkpoint_id': '1f058239-e5e9-680f-bfff-ce3b17a3e9c1'}}, checkpoint={'v': 1, 'ts': '2025-07-03T15:37:25.258436+00:00', 'id': '1f058239-e5e9-680f-bfff-ce3b17a3e9c1', 'channel_values': {'__start__': State(query='私の好きなものはずんだ餅です。覚えておいてね。', messages=[])}, 'channel_versions': {'__start__': '00000000000000000000000000000001.0.8209554748324828'}, 'versions_seen': {'__input__': {}}, 'pending_sends': []}, metadata={'source': 'input', 'writes': {'__start__': State(query='私の好きなものはずんだ餅です。覚えておいてね。', messages=[])}, 'step': -1, 'parents': {}}, parent_config=None, pending_writes=[])\n"
     ]
    }
   ],
   "source": [
    "for checkpoint in checkpointer.list(config):\n",
    "    print(checkpoint)"
   ]
  },
  {
   "cell_type": "code",
   "execution_count": 34,
   "id": "f3a6d795",
   "metadata": {},
   "outputs": [
    {
     "name": "stdout",
     "output_type": "stream",
     "text": [
      "チェックポイントデータ:\n",
      "{'channel_values': {'llm_response': 'llm_response',\n",
      "                    'messages': [SystemMessage(content='あなたは最小限の応答をする対話エージェントです。', additional_kwargs={}, response_metadata={}),\n",
      "                                 HumanMessage(content='私の好きなものはずんだ餅です。覚えておいてね。', additional_kwargs={}, response_metadata={}),\n",
      "                                 AIMessage(content='わかりました！ずんだ餅ですね。', additional_kwargs={'refusal': None}, response_metadata={'token_usage': {'completion_tokens': 11, 'prompt_tokens': 48, 'total_tokens': 59, 'completion_tokens_details': {'accepted_prediction_tokens': 0, 'audio_tokens': 0, 'reasoning_tokens': 0, 'rejected_prediction_tokens': 0}, 'prompt_tokens_details': {'audio_tokens': 0, 'cached_tokens': 0}}, 'model_name': 'gpt-4o-mini-2024-07-18', 'system_fingerprint': 'fp_34a54ae93c', 'finish_reason': 'stop', 'logprobs': None}, id='run--b2e7b1ce-0c1c-416b-9fb7-ac227b17e5d3-0', usage_metadata={'input_tokens': 48, 'output_tokens': 11, 'total_tokens': 59}),\n",
      "                                 HumanMessage(content='私の好物は何か覚えてる？', additional_kwargs={}, response_metadata={}),\n",
      "                                 AIMessage(content='はい、ずんだ餅です。', additional_kwargs={'refusal': None}, response_metadata={'token_usage': {'completion_tokens': 9, 'prompt_tokens': 78, 'total_tokens': 87, 'completion_tokens_details': {'accepted_prediction_tokens': 0, 'audio_tokens': 0, 'reasoning_tokens': 0, 'rejected_prediction_tokens': 0}, 'prompt_tokens_details': {'audio_tokens': 0, 'cached_tokens': 0}}, 'model_name': 'gpt-4o-mini-2024-07-18', 'system_fingerprint': 'fp_34a54ae93c', 'finish_reason': 'stop', 'logprobs': None}, id='run--58967438-b7b5-4aae-9b93-c885d6a4c6b4-0', usage_metadata={'input_tokens': 78, 'output_tokens': 9, 'total_tokens': 87})],\n",
      "                    'query': '私の好物は何か覚えてる？'},\n",
      " 'channel_versions': {'__start__': '00000000000000000000000000000006.0.14557345815988643',\n",
      "                      'add_message': '00000000000000000000000000000008.0.7632626126837337',\n",
      "                      'llm_response': '00000000000000000000000000000008.0.03978818803449913',\n",
      "                      'messages': '00000000000000000000000000000008.0.05131448598110089',\n",
      "                      'query': '00000000000000000000000000000006.0.7618663690232689',\n",
      "                      'start:add_message': '00000000000000000000000000000007.0.6073505271475516'},\n",
      " 'id': '1f05823d-8f6a-6166-8006-aade297c1fd3',\n",
      " 'pending_sends': [],\n",
      " 'ts': '2025-07-03T15:39:03.562672+00:00',\n",
      " 'v': 1,\n",
      " 'versions_seen': {'__input__': {},\n",
      "                   '__start__': {'__start__': '00000000000000000000000000000005.0.48985031227168063'},\n",
      "                   'add_message': {'start:add_message': '00000000000000000000000000000006.0.20670788714351562'},\n",
      "                   'llm_response': {'add_message': '00000000000000000000000000000007.0.19240349746844854'}}}\n",
      "\n",
      "メタデータ:\n",
      "{'parents': {},\n",
      " 'source': 'loop',\n",
      " 'step': 6,\n",
      " 'writes': {'llm_response': {'messages': [AIMessage(content='はい、ずんだ餅です。', additional_kwargs={'refusal': None}, response_metadata={'token_usage': {'completion_tokens': 9, 'prompt_tokens': 78, 'total_tokens': 87, 'completion_tokens_details': {'accepted_prediction_tokens': 0, 'audio_tokens': 0, 'reasoning_tokens': 0, 'rejected_prediction_tokens': 0}, 'prompt_tokens_details': {'audio_tokens': 0, 'cached_tokens': 0}}, 'model_name': 'gpt-4o-mini-2024-07-18', 'system_fingerprint': 'fp_34a54ae93c', 'finish_reason': 'stop', 'logprobs': None}, id='run--58967438-b7b5-4aae-9b93-c885d6a4c6b4-0', usage_metadata={'input_tokens': 78, 'output_tokens': 9, 'total_tokens': 87})]}}}\n"
     ]
    }
   ],
   "source": [
    "print_checkpoint_dump(checkpointer, config)"
   ]
  },
  {
   "cell_type": "markdown",
   "id": "af435f65",
   "metadata": {},
   "source": [
    "### thred_idが異なるとステートは保存されていない\n",
    "thred_id毎にステートが保存されている"
   ]
  },
  {
   "cell_type": "code",
   "execution_count": 35,
   "id": "10cec996",
   "metadata": {},
   "outputs": [
    {
     "data": {
      "text/plain": [
       "{'query': '私の好物は何？',\n",
       " 'messages': [SystemMessage(content='あなたは最小限の応答をする対話エージェントです。', additional_kwargs={}, response_metadata={}),\n",
       "  HumanMessage(content='私の好物は何？', additional_kwargs={}, response_metadata={}),\n",
       "  AIMessage(content='わかりません。あなたの好物は何ですか？', additional_kwargs={'refusal': None}, response_metadata={'token_usage': {'completion_tokens': 14, 'prompt_tokens': 36, 'total_tokens': 50, 'completion_tokens_details': {'accepted_prediction_tokens': 0, 'audio_tokens': 0, 'reasoning_tokens': 0, 'rejected_prediction_tokens': 0}, 'prompt_tokens_details': {'audio_tokens': 0, 'cached_tokens': 0}}, 'model_name': 'gpt-4o-mini-2024-07-18', 'system_fingerprint': 'fp_34a54ae93c', 'finish_reason': 'stop', 'logprobs': None}, id='run--516facef-5348-46b1-99da-0ce0ccc50e22-0', usage_metadata={'input_tokens': 36, 'output_tokens': 14, 'total_tokens': 50})]}"
      ]
     },
     "execution_count": 35,
     "metadata": {},
     "output_type": "execute_result"
    }
   ],
   "source": [
    "config = {\"configurable\": {\"thread_id\": \"example-2\"}}\n",
    "user_query = State(query=\"私の好物は何？\")\n",
    "other_thread_response = compiled_graph.invoke(user_query, config)\n",
    "other_thread_response"
   ]
  }
 ],
 "metadata": {
  "kernelspec": {
   "display_name": ".venv",
   "language": "python",
   "name": "python3"
  },
  "language_info": {
   "codemirror_mode": {
    "name": "ipython",
    "version": 3
   },
   "file_extension": ".py",
   "mimetype": "text/x-python",
   "name": "python",
   "nbconvert_exporter": "python",
   "pygments_lexer": "ipython3",
   "version": "3.12.3"
  }
 },
 "nbformat": 4,
 "nbformat_minor": 5
}
