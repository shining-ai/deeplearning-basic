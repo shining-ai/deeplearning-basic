{
 "cells": [
  {
   "cell_type": "code",
   "execution_count": null,
   "id": "69db5d9e",
   "metadata": {},
   "outputs": [],
   "source": [
    "import os\n",
    "os.environ[\"LANGCHAIN_TRACING_V2\"] = \"true\"\n",
    "os.environ[\"LANGCHAIN_ENDPOINT\"] = \"https://api.smith.langchain.com\"\n",
    "os.environ[\"LANGCHAIN_API_KEY\"] = \"xxxx\"\n",
    "os.environ[\"LANGCHAIN_PROJECT\"] = \"agent-book\"\n",
    "\n",
    "os.environ[\"OPENAI_API_KEY\"] = \"xxxx\"\n",
    "\n",
    "os.environ[\"TAVILY_API_KEY\"] = \"xxxx\"\n",
    "\n",
    "os.environ[\"COHERE_API_KEY\"] = \"xxxx\""
   ]
  },
  {
   "cell_type": "code",
   "execution_count": 1,
   "id": "97d1132b",
   "metadata": {},
   "outputs": [
    {
     "name": "stdout",
     "output_type": "stream",
     "text": [
      "Cloning into 'agent-book'...\n",
      "remote: Enumerating objects: 516, done.\u001b[K\n",
      "remote: Counting objects: 100% (122/122), done.\u001b[K\n",
      "remote: Compressing objects: 100% (38/38), done.\u001b[K\n",
      "remote: Total 516 (delta 101), reused 84 (delta 84), pack-reused 394 (from 1)\u001b[K\n",
      "Receiving objects: 100% (516/516), 1.74 MiB | 41.45 MiB/s, done.\n",
      "Resolving deltas: 100% (285/285), done.\n"
     ]
    }
   ],
   "source": [
    "!git clone https://github.com/GenerativeAgents/agent-book.git"
   ]
  },
  {
   "cell_type": "code",
   "execution_count": 5,
   "id": "99abd1e2",
   "metadata": {},
   "outputs": [
    {
     "name": "stdout",
     "output_type": "stream",
     "text": [
      "/work/python_coding/deeplearning-basic/rag/agent-book\n",
      "/work/python_coding/deeplearning-basic/rag/agent-book/chapter10\n"
     ]
    }
   ],
   "source": [
    "\n",
    "%cd agent-book\n",
    "%cd chapter10"
   ]
  },
  {
   "cell_type": "code",
   "execution_count": 1,
   "id": "0efcb528",
   "metadata": {},
   "outputs": [
    {
     "name": "stdout",
     "output_type": "stream",
     "text": [
      "Collecting langchain-core==0.3.0\n",
      "  Using cached langchain_core-0.3.0-py3-none-any.whl.metadata (6.2 kB)\n",
      "Requirement already satisfied: langchain-openai==0.2.0 in /work/python_coding/.venv/lib/python3.12/site-packages (0.2.0)\n",
      "Requirement already satisfied: langgraph==0.2.22 in /work/python_coding/.venv/lib/python3.12/site-packages (0.2.22)\n",
      "Collecting python-dotenv==1.0.1\n",
      "  Downloading python_dotenv-1.0.1-py3-none-any.whl.metadata (23 kB)\n",
      "Requirement already satisfied: pydantic==2.10.6 in /work/python_coding/.venv/lib/python3.12/site-packages (2.10.6)\n",
      "Requirement already satisfied: PyYAML>=5.3 in /work/python_coding/.venv/lib/python3.12/site-packages (from langchain-core==0.3.0) (6.0.2)\n",
      "Requirement already satisfied: jsonpatch<2.0,>=1.33 in /work/python_coding/.venv/lib/python3.12/site-packages (from langchain-core==0.3.0) (1.33)\n",
      "Requirement already satisfied: langsmith<0.2.0,>=0.1.117 in /work/python_coding/.venv/lib/python3.12/site-packages (from langchain-core==0.3.0) (0.1.147)\n",
      "Requirement already satisfied: packaging<25,>=23.2 in /work/python_coding/.venv/lib/python3.12/site-packages (from langchain-core==0.3.0) (24.2)\n",
      "Requirement already satisfied: tenacity!=8.4.0,<9.0.0,>=8.1.0 in /work/python_coding/.venv/lib/python3.12/site-packages (from langchain-core==0.3.0) (8.5.0)\n",
      "Requirement already satisfied: typing-extensions>=4.7 in /work/python_coding/.venv/lib/python3.12/site-packages (from langchain-core==0.3.0) (4.14.0)\n",
      "Requirement already satisfied: annotated-types>=0.6.0 in /work/python_coding/.venv/lib/python3.12/site-packages (from pydantic==2.10.6) (0.7.0)\n",
      "Requirement already satisfied: pydantic-core==2.27.2 in /work/python_coding/.venv/lib/python3.12/site-packages (from pydantic==2.10.6) (2.27.2)\n",
      "Requirement already satisfied: openai<2.0.0,>=1.40.0 in /work/python_coding/.venv/lib/python3.12/site-packages (from langchain-openai==0.2.0) (1.86.0)\n",
      "Requirement already satisfied: tiktoken<1,>=0.7 in /work/python_coding/.venv/lib/python3.12/site-packages (from langchain-openai==0.2.0) (0.9.0)\n",
      "Requirement already satisfied: langgraph-checkpoint<2.0.0,>=1.0.2 in /work/python_coding/.venv/lib/python3.12/site-packages (from langgraph==0.2.22) (1.0.11)\n",
      "Requirement already satisfied: jsonpointer>=1.9 in /work/python_coding/.venv/lib/python3.12/site-packages (from jsonpatch<2.0,>=1.33->langchain-core==0.3.0) (3.0.0)\n",
      "Requirement already satisfied: msgpack<2.0.0,>=1.1.0 in /work/python_coding/.venv/lib/python3.12/site-packages (from langgraph-checkpoint<2.0.0,>=1.0.2->langgraph==0.2.22) (1.1.1)\n",
      "Requirement already satisfied: httpx<1,>=0.23.0 in /work/python_coding/.venv/lib/python3.12/site-packages (from langsmith<0.2.0,>=0.1.117->langchain-core==0.3.0) (0.28.1)\n",
      "Requirement already satisfied: orjson<4.0.0,>=3.9.14 in /work/python_coding/.venv/lib/python3.12/site-packages (from langsmith<0.2.0,>=0.1.117->langchain-core==0.3.0) (3.10.18)\n",
      "Requirement already satisfied: requests<3,>=2 in /work/python_coding/.venv/lib/python3.12/site-packages (from langsmith<0.2.0,>=0.1.117->langchain-core==0.3.0) (2.32.4)\n",
      "Requirement already satisfied: requests-toolbelt<2.0.0,>=1.0.0 in /work/python_coding/.venv/lib/python3.12/site-packages (from langsmith<0.2.0,>=0.1.117->langchain-core==0.3.0) (1.0.0)\n",
      "Requirement already satisfied: anyio in /work/python_coding/.venv/lib/python3.12/site-packages (from httpx<1,>=0.23.0->langsmith<0.2.0,>=0.1.117->langchain-core==0.3.0) (4.9.0)\n",
      "Requirement already satisfied: certifi in /work/python_coding/.venv/lib/python3.12/site-packages (from httpx<1,>=0.23.0->langsmith<0.2.0,>=0.1.117->langchain-core==0.3.0) (2025.6.15)\n",
      "Requirement already satisfied: httpcore==1.* in /work/python_coding/.venv/lib/python3.12/site-packages (from httpx<1,>=0.23.0->langsmith<0.2.0,>=0.1.117->langchain-core==0.3.0) (1.0.9)\n",
      "Requirement already satisfied: idna in /work/python_coding/.venv/lib/python3.12/site-packages (from httpx<1,>=0.23.0->langsmith<0.2.0,>=0.1.117->langchain-core==0.3.0) (3.10)\n",
      "Requirement already satisfied: h11>=0.16 in /work/python_coding/.venv/lib/python3.12/site-packages (from httpcore==1.*->httpx<1,>=0.23.0->langsmith<0.2.0,>=0.1.117->langchain-core==0.3.0) (0.16.0)\n",
      "Requirement already satisfied: distro<2,>=1.7.0 in /work/python_coding/.venv/lib/python3.12/site-packages (from openai<2.0.0,>=1.40.0->langchain-openai==0.2.0) (1.9.0)\n",
      "Requirement already satisfied: jiter<1,>=0.4.0 in /work/python_coding/.venv/lib/python3.12/site-packages (from openai<2.0.0,>=1.40.0->langchain-openai==0.2.0) (0.10.0)\n",
      "Requirement already satisfied: sniffio in /work/python_coding/.venv/lib/python3.12/site-packages (from openai<2.0.0,>=1.40.0->langchain-openai==0.2.0) (1.3.1)\n",
      "Requirement already satisfied: tqdm>4 in /work/python_coding/.venv/lib/python3.12/site-packages (from openai<2.0.0,>=1.40.0->langchain-openai==0.2.0) (4.67.1)\n",
      "Requirement already satisfied: charset_normalizer<4,>=2 in /work/python_coding/.venv/lib/python3.12/site-packages (from requests<3,>=2->langsmith<0.2.0,>=0.1.117->langchain-core==0.3.0) (3.4.2)\n",
      "Requirement already satisfied: urllib3<3,>=1.21.1 in /work/python_coding/.venv/lib/python3.12/site-packages (from requests<3,>=2->langsmith<0.2.0,>=0.1.117->langchain-core==0.3.0) (2.4.0)\n",
      "Requirement already satisfied: regex>=2022.1.18 in /work/python_coding/.venv/lib/python3.12/site-packages (from tiktoken<1,>=0.7->langchain-openai==0.2.0) (2024.11.6)\n",
      "Using cached langchain_core-0.3.0-py3-none-any.whl (405 kB)\n",
      "Downloading python_dotenv-1.0.1-py3-none-any.whl (19 kB)\n",
      "Installing collected packages: python-dotenv, langchain-core\n",
      "\u001b[2K  Attempting uninstall: python-dotenv\n",
      "\u001b[2K    Found existing installation: python-dotenv 1.1.0\n",
      "\u001b[2K    Uninstalling python-dotenv-1.1.0:\n",
      "\u001b[2K      Successfully uninstalled python-dotenv-1.1.0\n",
      "\u001b[2K  Attempting uninstall: langchain-core\n",
      "\u001b[2K    Found existing installation: langchain-core 0.3.63\n",
      "\u001b[2K    Uninstalling langchain-core-0.3.63:\n",
      "\u001b[2K      Successfully uninstalled langchain-core-0.3.63\n",
      "\u001b[2K   \u001b[90m━━━━━━━━━━━━━━━━━━━━━━━━━━━━━━━━━━━━━━━━\u001b[0m \u001b[32m2/2\u001b[0m [langchain-core]m [langchain-core]\n",
      "\u001b[1A\u001b[2K\u001b[31mERROR: pip's dependency resolver does not currently take into account all the packages that are installed. This behaviour is the source of the following dependency conflicts.\n",
      "langchain-community 0.2.12 requires langchain<0.3.0,>=0.2.13, but you have langchain 0.3.0 which is incompatible.\n",
      "langchain-community 0.2.12 requires langchain-core<0.3.0,>=0.2.30, but you have langchain-core 0.3.0 which is incompatible.\n",
      "langchain-text-splitters 0.3.8 requires langchain-core<1.0.0,>=0.3.51, but you have langchain-core 0.3.0 which is incompatible.\n",
      "langchain-chroma 0.1.2 requires langchain-core<0.3,>=0.1.40, but you have langchain-core 0.3.0 which is incompatible.\n",
      "langchain-experimental 0.3.4 requires langchain-community<0.4.0,>=0.3.0, but you have langchain-community 0.2.12 which is incompatible.\n",
      "langchain-experimental 0.3.4 requires langchain-core<0.4.0,>=0.3.28, but you have langchain-core 0.3.0 which is incompatible.\u001b[0m\u001b[31m\n",
      "\u001b[0mSuccessfully installed langchain-core-0.3.0 python-dotenv-1.0.1\n"
     ]
    }
   ],
   "source": [
    "!pip install langchain-core==0.3.0 langchain-openai==0.2.0 langgraph==0.2.22 python-dotenv==1.0.1 pydantic==2.10.6"
   ]
  },
  {
   "cell_type": "code",
   "execution_count": 7,
   "id": "6dcc21d1",
   "metadata": {},
   "outputs": [
    {
     "name": "stdout",
     "output_type": "stream",
     "text": [
      "# 要件文書: スマートフォン向け健康管理アプリ\n",
      "\n",
      "## 1. プロジェクト概要\n",
      "本プロジェクトは、ユーザーが日々の健康状態を効率的に管理できるスマートフォン向け健康管理アプリを開発することを目的としています。忙しい現代人が手軽に健康管理を行えるよう、直感的なインターフェースと豊富な機能を提供します。\n",
      "\n",
      "## 2. 主要機能\n",
      "1. **シンプルで直感的なインターフェース**\n",
      "   - ワンタップで歩数、消費カロリー、睡眠時間を確認可能。\n",
      "   - 大きなボタンと読みやすい文字で操作性を向上。\n",
      "\n",
      "2. **通知機能**\n",
      "   - 長時間座りっぱなしのリマインダー。\n",
      "   - 定期的な水分補給の通知。\n",
      "\n",
      "3. **データの自動同期**\n",
      "   - スマートウォッチやフィットネストラッカーと連携し、運動や睡眠データを自動的に反映。\n",
      "\n",
      "4. **パーソナライズされたアドバイス**\n",
      "   - 過去のデータを基にした健康改善の提案。\n",
      "   - 目標達成に向けた具体的なアクションプラン。\n",
      "\n",
      "5. **食事記録機能**\n",
      "   - 写真を撮るだけでカロリーや栄養素を自動計算。\n",
      "\n",
      "6. **健康診断データの管理**\n",
      "   - 過去の健康診断結果を記録し、健康状態の変化を追跡。\n",
      "\n",
      "7. **コミュニティ機能**\n",
      "   - 仲間と励まし合える機能。\n",
      "   - トレーニング動画やガイドの提供。\n",
      "\n",
      "8. **ゲーミフィケーション**\n",
      "   - 目標達成でバッジを獲得。\n",
      "   - 友達と競争する機能。\n",
      "\n",
      "## 3. 非機能要件\n",
      "1. **プライバシーの保護**\n",
      "   - ユーザーの健康データを安全に管理し、プライバシーを保護。\n",
      "\n",
      "2. **日本語対応**\n",
      "   - アプリ内のすべての表示とサポートを日本語で提供。\n",
      "\n",
      "3. **高い可用性とパフォーマンス**\n",
      "   - アプリがスムーズに動作し、ユーザーの操作に迅速に応答。\n",
      "\n",
      "## 4. 制約条件\n",
      "1. **プラットフォーム**\n",
      "   - iOSおよびAndroidでの動作をサポート。\n",
      "\n",
      "2. **デバイス互換性**\n",
      "   - 最新のスマートフォンおよび主要なフィットネストラッカーとの互換性。\n",
      "\n",
      "## 5. ターゲットユーザー\n",
      "- 忙しいビジネスパーソン（例: Akira Tanaka）\n",
      "- フィットネス愛好者（例: Yuki Sato）\n",
      "- 健康管理初心者（例: Hiroshi Nakamura, Kenji Fujimoto）\n",
      "- 大学生や若年層（例: Mika Yamamoto）\n",
      "\n",
      "## 6. 優先順位\n",
      "1. シンプルで直感的なインターフェース\n",
      "2. データの自動同期\n",
      "3. パーソナライズされたアドバイス\n",
      "4. 通知機能\n",
      "5. コミュニティ機能\n",
      "\n",
      "## 7. リスクと軽減策\n",
      "1. **データプライバシーのリスク**\n",
      "   - データ暗号化と厳格なアクセス制御を実施。\n",
      "\n",
      "2. **技術的な複雑さ**\n",
      "   - ユーザビリティテストを通じて、直感的なデザインを確保。\n",
      "\n",
      "3. **ユーザーの継続利用の低下**\n",
      "   - ゲーミフィケーションとコミュニティ機能でモチベーションを維持。\n",
      "\n",
      "この要件文書は、ユーザーのニーズとインタビュー結果に基づいて、健康管理アプリの開発に必要な要件を網羅しています。\n"
     ]
    }
   ],
   "source": [
    "!python -m documentation_agent.main --task \"スマートフォン向けの健康管理アプリを開発したい\""
   ]
  }
 ],
 "metadata": {
  "kernelspec": {
   "display_name": ".venv",
   "language": "python",
   "name": "python3"
  },
  "language_info": {
   "codemirror_mode": {
    "name": "ipython",
    "version": 3
   },
   "file_extension": ".py",
   "mimetype": "text/x-python",
   "name": "python",
   "nbconvert_exporter": "python",
   "pygments_lexer": "ipython3",
   "version": "3.12.3"
  }
 },
 "nbformat": 4,
 "nbformat_minor": 5
}
