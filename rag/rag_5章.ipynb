{
 "cells": [
  {
   "cell_type": "code",
   "execution_count": 37,
   "id": "76486270",
   "metadata": {},
   "outputs": [],
   "source": [
    "import os\n",
    "os.environ[\"LANGCHAIN_TRACING_V2\"] = \"true\"\n",
    "os.environ[\"LANGCHAIN_ENDPOINT\"] = \"https://api.smith.langchain.com\"\n",
    "os.environ[\"LANGCHAIN_API_KEY\"] = \"xxxx\"\n",
    "os.environ[\"LANGCHAIN_PROJECT\"] = \"agent-book\"\n",
    "\n",
    "os.environ[\"OPENAI_API_KEY\"] = \"xxxx\"\n",
    "\n",
    "os.environ[\"TAVILY_API_KEY\"] = \"xxxx\""
   ]
  },
  {
   "cell_type": "code",
   "execution_count": 3,
   "id": "6cbc3d1b",
   "metadata": {},
   "outputs": [
    {
     "name": "stdout",
     "output_type": "stream",
     "text": [
      "Collecting langchain-core==0.3.0\n",
      "  Using cached langchain_core-0.3.0-py3-none-any.whl.metadata (6.2 kB)\n",
      "Requirement already satisfied: langchain-openai==0.2.0 in /work/python_coding/.venv/lib/python3.12/site-packages (0.2.0)\n",
      "Requirement already satisfied: langchain-community==0.3.0 in /work/python_coding/.venv/lib/python3.12/site-packages (0.3.0)\n",
      "Requirement already satisfied: pydantic==2.10.6 in /work/python_coding/.venv/lib/python3.12/site-packages (2.10.6)\n",
      "Requirement already satisfied: PyYAML>=5.3 in /work/python_coding/.venv/lib/python3.12/site-packages (from langchain-core==0.3.0) (6.0.2)\n",
      "Requirement already satisfied: jsonpatch<2.0,>=1.33 in /work/python_coding/.venv/lib/python3.12/site-packages (from langchain-core==0.3.0) (1.33)\n",
      "Requirement already satisfied: langsmith<0.2.0,>=0.1.117 in /work/python_coding/.venv/lib/python3.12/site-packages (from langchain-core==0.3.0) (0.1.147)\n",
      "Requirement already satisfied: packaging<25,>=23.2 in /work/python_coding/.venv/lib/python3.12/site-packages (from langchain-core==0.3.0) (24.2)\n",
      "Requirement already satisfied: tenacity!=8.4.0,<9.0.0,>=8.1.0 in /work/python_coding/.venv/lib/python3.12/site-packages (from langchain-core==0.3.0) (8.5.0)\n",
      "Requirement already satisfied: typing-extensions>=4.7 in /work/python_coding/.venv/lib/python3.12/site-packages (from langchain-core==0.3.0) (4.14.0)\n",
      "Requirement already satisfied: annotated-types>=0.6.0 in /work/python_coding/.venv/lib/python3.12/site-packages (from pydantic==2.10.6) (0.7.0)\n",
      "Requirement already satisfied: pydantic-core==2.27.2 in /work/python_coding/.venv/lib/python3.12/site-packages (from pydantic==2.10.6) (2.27.2)\n",
      "Requirement already satisfied: openai<2.0.0,>=1.40.0 in /work/python_coding/.venv/lib/python3.12/site-packages (from langchain-openai==0.2.0) (1.86.0)\n",
      "Requirement already satisfied: tiktoken<1,>=0.7 in /work/python_coding/.venv/lib/python3.12/site-packages (from langchain-openai==0.2.0) (0.9.0)\n",
      "Requirement already satisfied: SQLAlchemy<3,>=1.4 in /work/python_coding/.venv/lib/python3.12/site-packages (from langchain-community==0.3.0) (2.0.41)\n",
      "Requirement already satisfied: aiohttp<4.0.0,>=3.8.3 in /work/python_coding/.venv/lib/python3.12/site-packages (from langchain-community==0.3.0) (3.12.13)\n",
      "Requirement already satisfied: dataclasses-json<0.7,>=0.5.7 in /work/python_coding/.venv/lib/python3.12/site-packages (from langchain-community==0.3.0) (0.6.7)\n",
      "Requirement already satisfied: langchain<0.4.0,>=0.3.0 in /work/python_coding/.venv/lib/python3.12/site-packages (from langchain-community==0.3.0) (0.3.25)\n",
      "Requirement already satisfied: numpy<2.0.0,>=1.26.0 in /work/python_coding/.venv/lib/python3.12/site-packages (from langchain-community==0.3.0) (1.26.4)\n",
      "Requirement already satisfied: pydantic-settings<3.0.0,>=2.4.0 in /work/python_coding/.venv/lib/python3.12/site-packages (from langchain-community==0.3.0) (2.9.1)\n",
      "Requirement already satisfied: requests<3,>=2 in /work/python_coding/.venv/lib/python3.12/site-packages (from langchain-community==0.3.0) (2.32.4)\n",
      "Requirement already satisfied: aiohappyeyeballs>=2.5.0 in /work/python_coding/.venv/lib/python3.12/site-packages (from aiohttp<4.0.0,>=3.8.3->langchain-community==0.3.0) (2.6.1)\n",
      "Requirement already satisfied: aiosignal>=1.1.2 in /work/python_coding/.venv/lib/python3.12/site-packages (from aiohttp<4.0.0,>=3.8.3->langchain-community==0.3.0) (1.3.2)\n",
      "Requirement already satisfied: attrs>=17.3.0 in /work/python_coding/.venv/lib/python3.12/site-packages (from aiohttp<4.0.0,>=3.8.3->langchain-community==0.3.0) (25.3.0)\n",
      "Requirement already satisfied: frozenlist>=1.1.1 in /work/python_coding/.venv/lib/python3.12/site-packages (from aiohttp<4.0.0,>=3.8.3->langchain-community==0.3.0) (1.7.0)\n",
      "Requirement already satisfied: multidict<7.0,>=4.5 in /work/python_coding/.venv/lib/python3.12/site-packages (from aiohttp<4.0.0,>=3.8.3->langchain-community==0.3.0) (6.5.0)\n",
      "Requirement already satisfied: propcache>=0.2.0 in /work/python_coding/.venv/lib/python3.12/site-packages (from aiohttp<4.0.0,>=3.8.3->langchain-community==0.3.0) (0.3.2)\n",
      "Requirement already satisfied: yarl<2.0,>=1.17.0 in /work/python_coding/.venv/lib/python3.12/site-packages (from aiohttp<4.0.0,>=3.8.3->langchain-community==0.3.0) (1.20.1)\n",
      "Requirement already satisfied: marshmallow<4.0.0,>=3.18.0 in /work/python_coding/.venv/lib/python3.12/site-packages (from dataclasses-json<0.7,>=0.5.7->langchain-community==0.3.0) (3.26.1)\n",
      "Requirement already satisfied: typing-inspect<1,>=0.4.0 in /work/python_coding/.venv/lib/python3.12/site-packages (from dataclasses-json<0.7,>=0.5.7->langchain-community==0.3.0) (0.9.0)\n",
      "Requirement already satisfied: jsonpointer>=1.9 in /work/python_coding/.venv/lib/python3.12/site-packages (from jsonpatch<2.0,>=1.33->langchain-core==0.3.0) (3.0.0)\n",
      "INFO: pip is looking at multiple versions of langchain to determine which version is compatible with other requirements. This could take a while.\n",
      "Collecting langchain<0.4.0,>=0.3.0 (from langchain-community==0.3.0)\n",
      "  Downloading langchain-0.3.26-py3-none-any.whl.metadata (7.8 kB)\n",
      "  Downloading langchain-0.3.24-py3-none-any.whl.metadata (7.8 kB)\n",
      "  Downloading langchain-0.3.23-py3-none-any.whl.metadata (7.8 kB)\n",
      "  Downloading langchain-0.3.22-py3-none-any.whl.metadata (7.8 kB)\n",
      "  Downloading langchain-0.3.21-py3-none-any.whl.metadata (7.8 kB)\n",
      "  Downloading langchain-0.3.20-py3-none-any.whl.metadata (7.7 kB)\n",
      "  Downloading langchain-0.3.19-py3-none-any.whl.metadata (7.9 kB)\n",
      "INFO: pip is still looking at multiple versions of langchain to determine which version is compatible with other requirements. This could take a while.\n",
      "  Downloading langchain-0.3.18-py3-none-any.whl.metadata (7.8 kB)\n",
      "  Downloading langchain-0.3.17-py3-none-any.whl.metadata (7.1 kB)\n",
      "  Downloading langchain-0.3.16-py3-none-any.whl.metadata (7.1 kB)\n",
      "  Downloading langchain-0.3.15-py3-none-any.whl.metadata (7.1 kB)\n",
      "  Downloading langchain-0.3.14-py3-none-any.whl.metadata (7.1 kB)\n",
      "INFO: This is taking longer than usual. You might need to provide the dependency resolver with stricter constraints to reduce runtime. See https://pip.pypa.io/warnings/backtracking for guidance. If you want to abort this run, press Ctrl + C.\n",
      "  Downloading langchain-0.3.13-py3-none-any.whl.metadata (7.1 kB)\n",
      "  Downloading langchain-0.3.12-py3-none-any.whl.metadata (7.1 kB)\n",
      "  Downloading langchain-0.3.11-py3-none-any.whl.metadata (7.1 kB)\n",
      "  Downloading langchain-0.3.10-py3-none-any.whl.metadata (7.1 kB)\n",
      "  Downloading langchain-0.3.9-py3-none-any.whl.metadata (7.1 kB)\n",
      "  Downloading langchain-0.3.8-py3-none-any.whl.metadata (7.1 kB)\n",
      "  Downloading langchain-0.3.7-py3-none-any.whl.metadata (7.1 kB)\n",
      "  Downloading langchain-0.3.6-py3-none-any.whl.metadata (7.1 kB)\n",
      "  Downloading langchain-0.3.5-py3-none-any.whl.metadata (7.1 kB)\n",
      "  Downloading langchain-0.3.4-py3-none-any.whl.metadata (7.1 kB)\n",
      "  Downloading langchain-0.3.3-py3-none-any.whl.metadata (7.1 kB)\n",
      "  Downloading langchain-0.3.2-py3-none-any.whl.metadata (7.1 kB)\n",
      "  Downloading langchain-0.3.1-py3-none-any.whl.metadata (7.1 kB)\n",
      "  Downloading langchain-0.3.0-py3-none-any.whl.metadata (7.1 kB)\n",
      "Requirement already satisfied: langchain-text-splitters<0.4.0,>=0.3.0 in /work/python_coding/.venv/lib/python3.12/site-packages (from langchain<0.4.0,>=0.3.0->langchain-community==0.3.0) (0.3.0)\n",
      "Requirement already satisfied: httpx<1,>=0.23.0 in /work/python_coding/.venv/lib/python3.12/site-packages (from langsmith<0.2.0,>=0.1.117->langchain-core==0.3.0) (0.28.1)\n",
      "Requirement already satisfied: orjson<4.0.0,>=3.9.14 in /work/python_coding/.venv/lib/python3.12/site-packages (from langsmith<0.2.0,>=0.1.117->langchain-core==0.3.0) (3.10.18)\n",
      "Requirement already satisfied: requests-toolbelt<2.0.0,>=1.0.0 in /work/python_coding/.venv/lib/python3.12/site-packages (from langsmith<0.2.0,>=0.1.117->langchain-core==0.3.0) (1.0.0)\n",
      "Requirement already satisfied: anyio in /work/python_coding/.venv/lib/python3.12/site-packages (from httpx<1,>=0.23.0->langsmith<0.2.0,>=0.1.117->langchain-core==0.3.0) (4.9.0)\n",
      "Requirement already satisfied: certifi in /work/python_coding/.venv/lib/python3.12/site-packages (from httpx<1,>=0.23.0->langsmith<0.2.0,>=0.1.117->langchain-core==0.3.0) (2025.6.15)\n",
      "Requirement already satisfied: httpcore==1.* in /work/python_coding/.venv/lib/python3.12/site-packages (from httpx<1,>=0.23.0->langsmith<0.2.0,>=0.1.117->langchain-core==0.3.0) (1.0.9)\n",
      "Requirement already satisfied: idna in /work/python_coding/.venv/lib/python3.12/site-packages (from httpx<1,>=0.23.0->langsmith<0.2.0,>=0.1.117->langchain-core==0.3.0) (3.10)\n",
      "Requirement already satisfied: h11>=0.16 in /work/python_coding/.venv/lib/python3.12/site-packages (from httpcore==1.*->httpx<1,>=0.23.0->langsmith<0.2.0,>=0.1.117->langchain-core==0.3.0) (0.16.0)\n",
      "Requirement already satisfied: distro<2,>=1.7.0 in /work/python_coding/.venv/lib/python3.12/site-packages (from openai<2.0.0,>=1.40.0->langchain-openai==0.2.0) (1.9.0)\n",
      "Requirement already satisfied: jiter<1,>=0.4.0 in /work/python_coding/.venv/lib/python3.12/site-packages (from openai<2.0.0,>=1.40.0->langchain-openai==0.2.0) (0.10.0)\n",
      "Requirement already satisfied: sniffio in /work/python_coding/.venv/lib/python3.12/site-packages (from openai<2.0.0,>=1.40.0->langchain-openai==0.2.0) (1.3.1)\n",
      "Requirement already satisfied: tqdm>4 in /work/python_coding/.venv/lib/python3.12/site-packages (from openai<2.0.0,>=1.40.0->langchain-openai==0.2.0) (4.67.1)\n",
      "Requirement already satisfied: python-dotenv>=0.21.0 in /work/python_coding/.venv/lib/python3.12/site-packages (from pydantic-settings<3.0.0,>=2.4.0->langchain-community==0.3.0) (1.1.0)\n",
      "Requirement already satisfied: typing-inspection>=0.4.0 in /work/python_coding/.venv/lib/python3.12/site-packages (from pydantic-settings<3.0.0,>=2.4.0->langchain-community==0.3.0) (0.4.1)\n",
      "Requirement already satisfied: charset_normalizer<4,>=2 in /work/python_coding/.venv/lib/python3.12/site-packages (from requests<3,>=2->langchain-community==0.3.0) (3.4.2)\n",
      "Requirement already satisfied: urllib3<3,>=1.21.1 in /work/python_coding/.venv/lib/python3.12/site-packages (from requests<3,>=2->langchain-community==0.3.0) (2.4.0)\n",
      "Requirement already satisfied: greenlet>=1 in /work/python_coding/.venv/lib/python3.12/site-packages (from SQLAlchemy<3,>=1.4->langchain-community==0.3.0) (3.2.3)\n",
      "Requirement already satisfied: regex>=2022.1.18 in /work/python_coding/.venv/lib/python3.12/site-packages (from tiktoken<1,>=0.7->langchain-openai==0.2.0) (2024.11.6)\n",
      "Requirement already satisfied: mypy-extensions>=0.3.0 in /work/python_coding/.venv/lib/python3.12/site-packages (from typing-inspect<1,>=0.4.0->dataclasses-json<0.7,>=0.5.7->langchain-community==0.3.0) (1.1.0)\n",
      "Using cached langchain_core-0.3.0-py3-none-any.whl (405 kB)\n",
      "Downloading langchain-0.3.0-py3-none-any.whl (1.0 MB)\n",
      "\u001b[2K   \u001b[90m━━━━━━━━━━━━━━━━━━━━━━━━━━━━━━━━━━━━━━━━\u001b[0m \u001b[32m1.0/1.0 MB\u001b[0m \u001b[31m39.6 MB/s\u001b[0m eta \u001b[36m0:00:00\u001b[0m\n",
      "\u001b[?25hInstalling collected packages: langchain-core, langchain\n",
      "\u001b[2K  Attempting uninstall: langchain-core\n",
      "\u001b[2K    Found existing installation: langchain-core 0.3.63\n",
      "\u001b[2K    Uninstalling langchain-core-0.3.63:\n",
      "\u001b[2K      Successfully uninstalled langchain-core-0.3.63\n",
      "\u001b[2K  Attempting uninstall: langchain━━━━━━━━━━━━━━━\u001b[0m \u001b[32m0/2\u001b[0m [langchain-core]\n",
      "\u001b[2K    Found existing installation: langchain 0.3.25\u001b[32m0/2\u001b[0m [langchain-core]\n",
      "\u001b[2K    Uninstalling langchain-0.3.25:90m╺\u001b[0m\u001b[90m━━━━━━━━━━━━━━━━━━━\u001b[0m \u001b[32m1/2\u001b[0m [langchain]\n",
      "\u001b[2K      Successfully uninstalled langchain-0.3.25━━━━━━━━━━━━━━━\u001b[0m \u001b[32m1/2\u001b[0m [langchain]\n",
      "\u001b[2K   \u001b[90m━━━━━━━━━━━━━━━━━━━━━━━━━━━━━━━━━━━━━━━━\u001b[0m \u001b[32m2/2\u001b[0m [langchain]/2\u001b[0m [langchain]\n",
      "\u001b[1A\u001b[2KSuccessfully installed langchain-0.3.0 langchain-core-0.3.0\n"
     ]
    }
   ],
   "source": [
    "!pip install langchain-core==0.3.0 langchain-openai==0.2.0 langchain-community==0.3.0 pydantic==2.10.6"
   ]
  },
  {
   "cell_type": "code",
   "execution_count": 4,
   "id": "4f050a54",
   "metadata": {},
   "outputs": [],
   "source": [
    "from langchain_core.output_parsers import StrOutputParser\n",
    "from langchain_core.prompts import ChatPromptTemplate\n",
    "from langchain_openai import ChatOpenAI\n",
    "\n",
    "prompt = ChatPromptTemplate.from_messages(\n",
    "    [\n",
    "        (\"system\", \"ユーザーが入力した料理のレシピを考えてください。\"),\n",
    "        (\"human\", \"{dish}\"),\n",
    "    ]\n",
    ")\n",
    "\n",
    "model = ChatOpenAI(model=\"gpt-4o-mini\", temperature=0)\n",
    "\n",
    "output_parser = StrOutputParser()"
   ]
  },
  {
   "cell_type": "code",
   "execution_count": 5,
   "id": "c32d137f",
   "metadata": {},
   "outputs": [
    {
     "name": "stdout",
     "output_type": "stream",
     "text": [
      "カレーのレシピをご紹介します。シンプルで美味しい基本のカレーを作りましょう。\n",
      "\n",
      "### 材料（4人分）\n",
      "- 鶏肉（もも肉または胸肉）: 400g\n",
      "- 玉ねぎ: 2個\n",
      "- にんじん: 1本\n",
      "- じゃがいも: 2個\n",
      "- カレールー: 1箱（約200g）\n",
      "- 水: 800ml\n",
      "- サラダ油: 大さじ2\n",
      "- 塩: 適量\n",
      "- 胡椒: 適量\n",
      "- お好みでガーリックパウダーや生姜: 適量\n",
      "\n",
      "### 作り方\n",
      "1. **材料の下ごしらえ**:\n",
      "   - 鶏肉は一口大に切り、塩と胡椒で下味をつけます。\n",
      "   - 玉ねぎは薄切り、にんじんは輪切り、じゃがいもは一口大に切ります。\n",
      "\n",
      "2. **炒める**:\n",
      "   - 大きめの鍋にサラダ油を熱し、玉ねぎを中火で炒めます。玉ねぎが透明になるまで炒めます。\n",
      "   - 鶏肉を加え、表面が白くなるまで炒めます。\n",
      "\n",
      "3. **野菜を加える**:\n",
      "   - にんじんとじゃがいもを鍋に加え、全体をよく混ぜます。\n",
      "\n",
      "4. **煮る**:\n",
      "   - 水を加え、強火で煮立たせます。煮立ったら、アクを取り除き、中火にして蓋をし、約15分煮ます。\n",
      "\n",
      "5. **カレールーを加える**:\n",
      "   - カレールーを割り入れ、よく溶かします。さらに10分ほど煮込み、全体がなじんだら火を止めます。\n",
      "\n",
      "6. **味を調える**:\n",
      "   - お好みでガーリックパウダーや生姜を加え、味を調整します。\n",
      "\n",
      "7. **盛り付け**:\n",
      "   - ご飯と一緒に盛り付けて完成です。お好みで福神漬けやらっきょうを添えても美味しいです。\n",
      "\n",
      "### ポイント\n",
      "- 野菜はお好みで、ピーマンやナスなどを加えても良いです。\n",
      "- 辛さを調整したい場合は、カレールーの種類を変えたり、辛口のものを選んでください。\n",
      "\n",
      "美味しいカレーを楽しんでください！\n"
     ]
    }
   ],
   "source": [
    "prompt_value = prompt.invoke({\"dish\": \"カレー\"})\n",
    "ai_message = model.invoke(prompt_value)\n",
    "output = output_parser.invoke(ai_message)\n",
    "\n",
    "print(output)"
   ]
  },
  {
   "cell_type": "code",
   "execution_count": 6,
   "id": "d1465749",
   "metadata": {},
   "outputs": [],
   "source": [
    "chain = prompt | model | output_parser"
   ]
  },
  {
   "cell_type": "markdown",
   "id": "6947be9f",
   "metadata": {},
   "source": [
    "### invokeで実行"
   ]
  },
  {
   "cell_type": "code",
   "execution_count": 7,
   "id": "ba0c3501",
   "metadata": {},
   "outputs": [
    {
     "name": "stdout",
     "output_type": "stream",
     "text": [
      "カレーのレシピをご紹介します。シンプルで美味しい基本のカレーを作りましょう。\n",
      "\n",
      "### 材料（4人分）\n",
      "- 鶏肉（もも肉または胸肉）: 400g\n",
      "- 玉ねぎ: 2個\n",
      "- にんじん: 1本\n",
      "- じゃがいも: 2個\n",
      "- カレールー: 1箱（約200g）\n",
      "- サラダ油: 大さじ2\n",
      "- 水: 800ml\n",
      "- 塩: 適量\n",
      "- 胡椒: 適量\n",
      "- お好みでガーリックパウダーや生姜: 適量\n",
      "\n",
      "### 作り方\n",
      "1. **材料の下ごしらえ**:\n",
      "   - 鶏肉は一口大に切り、塩と胡椒を振っておきます。\n",
      "   - 玉ねぎは薄切り、にんじんは輪切り、じゃがいもは一口大に切ります。\n",
      "\n",
      "2. **炒める**:\n",
      "   - 大きめの鍋にサラダ油を熱し、玉ねぎを中火で炒めます。玉ねぎが透明になるまで炒めます。\n",
      "   - 鶏肉を加え、表面が白くなるまで炒めます。\n",
      "\n",
      "3. **野菜を加える**:\n",
      "   - にんじんとじゃがいもを鍋に加え、全体をよく混ぜます。\n",
      "\n",
      "4. **煮る**:\n",
      "   - 水を加え、強火で煮立たせます。煮立ったら、アクを取り除き、中火にして蓋をし、約15分煮ます。\n",
      "\n",
      "5. **カレールーを加える**:\n",
      "   - 火を止めてカレールーを加え、よく溶かします。再び弱火にし、10分ほど煮込みます。お好みでガーリックパウダーや生姜を加えても良いです。\n",
      "\n",
      "6. **味を調える**:\n",
      "   - 最後に味を見て、必要であれば塩で調整します。\n",
      "\n",
      "7. **盛り付け**:\n",
      "   - ご飯を皿に盛り、その上にカレーをかけて完成です。お好みで福神漬けやらっきょうを添えても美味しいです。\n",
      "\n",
      "### おすすめのトッピング\n",
      "- チーズ\n",
      "- 生卵（温泉卵や目玉焼き）\n",
      "- ほうれん草やブロッコリーのソテー\n",
      "\n",
      "この基本のカレーはアレンジがしやすいので、具材を変えたり、スパイスを追加したりして、自分好みのカレーを楽しんでください！\n"
     ]
    }
   ],
   "source": [
    "output = chain.invoke({\"dish\": \"カレー\"})\n",
    "print(output)"
   ]
  },
  {
   "cell_type": "markdown",
   "id": "648f02bb",
   "metadata": {},
   "source": [
    "### streamで実行"
   ]
  },
  {
   "cell_type": "code",
   "execution_count": 8,
   "id": "2e14e166",
   "metadata": {},
   "outputs": [
    {
     "name": "stdout",
     "output_type": "stream",
     "text": [
      "カレーのレシピをご紹介します。シンプルで美味しい基本のカレーを作りましょう。\n",
      "\n",
      "### 材料（4人分）\n",
      "- 鶏肉（もも肉または胸肉）: 400g\n",
      "- 玉ねぎ: 2個\n",
      "- にんじん: 1本\n",
      "- じゃがいも: 2個\n",
      "- カレールー: 1箱（約200g）\n",
      "- サラダ油: 大さじ2\n",
      "- 水: 800ml\n",
      "- 塩: 適量\n",
      "- 胡椒: 適量\n",
      "- お好みでガーリックパウダーや生姜: 適量\n",
      "\n",
      "### 作り方\n",
      "1. **材料の下ごしらえ**:\n",
      "   - 鶏肉は一口大に切り、塩と胡椒を振っておきます。\n",
      "   - 玉ねぎは薄切り、にんじんは輪切り、じゃがいもは一口大に切ります。\n",
      "\n",
      "2. **炒める**:\n",
      "   - 大きめの鍋にサラダ油を熱し、玉ねぎを中火で炒めます。玉ねぎが透明になるまで炒めます。\n",
      "   - 鶏肉を加え、表面が白くなるまで炒めます。\n",
      "\n",
      "3. **野菜を加える**:\n",
      "   - にんじんとじゃがいもを鍋に加え、全体をよく混ぜます。\n",
      "\n",
      "4. **煮る**:\n",
      "   - 水を加え、強火で煮立たせます。煮立ったら、アクを取り除き、蓋をして中火にし、約15分煮ます。\n",
      "\n",
      "5. **カレールーを加える**:\n",
      "   - 火を止めてカレールーを加え、よく溶かします。再び弱火にし、10分ほど煮込みます。お好みでガーリックパウダーや生姜を加えて風味を調整します。\n",
      "\n",
      "6. **味を調える**:\n",
      "   - 最後に塩で味を調整し、全体がなじむまでさらに5分ほど煮込みます。\n",
      "\n",
      "7. **盛り付け**:\n",
      "   - ご飯と一緒に盛り付けて完成です。お好みで福神漬けやらっきょうを添えても美味しいです。\n",
      "\n",
      "### おすすめのトッピング\n",
      "- 煮卵\n",
      "- チーズ\n",
      "- ほうれん草のソテー\n",
      "\n",
      "この基本のカレーはアレンジがしやすいので、野菜や肉を変えて自分好みのカレーを楽しんでください！"
     ]
    }
   ],
   "source": [
    "chain = prompt | model | output_parser\n",
    "\n",
    "for chunk in chain.stream({\"dish\": \"カレー\"}):\n",
    "    print(chunk, end=\"\", flush=True)"
   ]
  },
  {
   "cell_type": "markdown",
   "id": "93af1ce5",
   "metadata": {},
   "source": [
    "### batchで実行"
   ]
  },
  {
   "cell_type": "code",
   "execution_count": 9,
   "id": "b70ef4db",
   "metadata": {},
   "outputs": [
    {
     "name": "stdout",
     "output_type": "stream",
     "text": [
      "['カレーのレシピをご紹介します。シンプルで美味しい基本のカレーを作りましょう。\\n\\n### 材料（4人分）\\n- 鶏肉（もも肉または胸肉）: 400g\\n- 玉ねぎ: 2個\\n- にんじん: 1本\\n- じゃがいも: 2個\\n- カレールー: 1箱（約200g）\\n- サラダ油: 大さじ2\\n- 水: 800ml\\n- 塩: 適量\\n- 胡椒: 適量\\n- お好みでガーリックパウダーや生姜: 適量\\n\\n### 作り方\\n1. **材料の下ごしらえ**:\\n   - 鶏肉は一口大に切り、塩と胡椒を振っておきます。\\n   - 玉ねぎは薄切り、にんじんは輪切り、じゃがいもは一口大に切ります。\\n\\n2. **炒める**:\\n   - 大きめの鍋にサラダ油を熱し、玉ねぎを中火で炒めます。玉ねぎが透明になるまで炒めます。\\n   - 鶏肉を加え、表面が白くなるまで炒めます。\\n\\n3. **野菜を加える**:\\n   - にんじんとじゃがいもを鍋に加え、全体をよく混ぜます。\\n\\n4. **煮る**:\\n   - 水を加え、強火で煮立たせます。煮立ったら、アクを取り除き、中火にして蓋をし、約15分煮ます。\\n\\n5. **カレールーを加える**:\\n   - カレールーを割り入れ、よく溶かします。さらに10分ほど煮込み、全体がなじんだら火を止めます。\\n\\n6. **味を調える**:\\n   - お好みで塩や胡椒で味を調整します。\\n\\n7. **盛り付け**:\\n   - ご飯と一緒に盛り付けて、お好みで福神漬けやらっきょうを添えて完成です。\\n\\n### おすすめのトッピング\\n- 煮卵\\n- チーズ\\n- ほうれん草のソテー\\n\\nこの基本のカレーは、具材を変えたり、スパイスを追加したりすることでアレンジが可能です。お好みのスタイルで楽しんでください！', 'うどんのレシピをご紹介します。シンプルで美味しい「かけうどん」の作り方です。\\n\\n### 材料（2人分）\\n- うどん（乾麺または生麺）: 2玉\\n- 水: 800ml\\n- だしの素: 大さじ1（または、昆布や鰹節を使って自家製だしを取る）\\n- 醤油: 大さじ2\\n- みりん: 大さじ1\\n- 塩: 少々\\n- トッピング（お好みで）:\\n  - ネギ（小口切り）\\n  - 天かす\\n  - かまぼこ\\n  - ほうれん草や小松菜（茹でておく）\\n  - すりごま\\n\\n### 作り方\\n1. **だしを取る**: 鍋に水を入れ、だしの素を加えて中火にかけます。自家製だしを使う場合は、昆布を水に浸けておき、沸騰直前に昆布を取り出し、鰹節を加えて数分煮出し、こします。\\n\\n2. **つゆを作る**: だしが取れたら、醤油、みりん、塩を加えて味を整えます。軽く煮立たせて、つゆの完成です。\\n\\n3. **うどんを茹でる**: 別の鍋にたっぷりの水を沸かし、うどんをパッケージの指示に従って茹でます。茹で上がったら、冷水でしっかりと洗い、ぬめりを取ります。\\n\\n4. **盛り付け**: 茹でたうどんを器に盛り、熱々のつゆをかけます。\\n\\n5. **トッピング**: お好みのトッピングを加えます。ネギや天かす、かまぼこ、茹でたほうれん草などをのせて、最後にすりごまを振りかけると香ばしさが増します。\\n\\n6. **完成**: すぐに召し上がれ！お好みで七味唐辛子をかけても美味しいです。\\n\\n### アドバイス\\n- うどんの種類によって茹で時間が異なるので、パッケージの指示を確認してください。\\n- つゆはお好みで調整できますので、味見をしながら調整してください。\\n\\n美味しいかけうどんを楽しんでください！']\n"
     ]
    }
   ],
   "source": [
    "chain = prompt | model | output_parser\n",
    "\n",
    "outputs = chain.batch([{\"dish\": \"カレー\"}, {\"dish\": \"うどん\"}])\n",
    "print(outputs)"
   ]
  },
  {
   "cell_type": "markdown",
   "id": "76138835",
   "metadata": {},
   "source": [
    "## LCELでRunnableの連鎖"
   ]
  },
  {
   "cell_type": "code",
   "execution_count": 11,
   "id": "0394e1db",
   "metadata": {},
   "outputs": [],
   "source": [
    "from langchain_core.output_parsers import StrOutputParser\n",
    "from langchain_core.prompts import ChatPromptTemplate\n",
    "from langchain_openai import ChatOpenAI\n",
    "\n",
    "model = ChatOpenAI(model=\"gpt-4o-mini\", temperature=0)\n",
    "\n",
    "output_parser = StrOutputParser()"
   ]
  },
  {
   "cell_type": "code",
   "execution_count": 12,
   "id": "6bb8d476",
   "metadata": {},
   "outputs": [],
   "source": [
    "cot_prompt = ChatPromptTemplate.from_messages(\n",
    "    [\n",
    "        (\"system\", \"ユーザーの質問にステップバイステップで回答してください。\"),\n",
    "        (\"human\", \"{question}\"),\n",
    "    ]\n",
    ")\n",
    "\n",
    "cot_chain = cot_prompt | model | output_parser"
   ]
  },
  {
   "cell_type": "code",
   "execution_count": 13,
   "id": "11c09ba8",
   "metadata": {},
   "outputs": [],
   "source": [
    "summarize_prompt = ChatPromptTemplate.from_messages(\n",
    "    [\n",
    "        (\"system\", \"ステップバイステップで考えた回答から結論だけ抽出してください。\"),\n",
    "        (\"human\", \"{text}\"),\n",
    "    ]\n",
    ")\n",
    "\n",
    "summarize_chain = summarize_prompt | model | output_parser"
   ]
  },
  {
   "cell_type": "code",
   "execution_count": 14,
   "id": "3d92ffe6",
   "metadata": {},
   "outputs": [
    {
     "name": "stdout",
     "output_type": "stream",
     "text": [
      "10 + 2 * 3 の答えは **16** です。\n"
     ]
    }
   ],
   "source": [
    "cot_summarize_chain = cot_chain | summarize_chain\n",
    "output = cot_summarize_chain.invoke({\"question\": \"10 + 2 * 3\"})\n",
    "print(output)"
   ]
  },
  {
   "cell_type": "markdown",
   "id": "d7c67a6a",
   "metadata": {},
   "source": [
    "## 任意の関数を連鎖する"
   ]
  },
  {
   "cell_type": "code",
   "execution_count": 16,
   "id": "457f0cb4",
   "metadata": {},
   "outputs": [],
   "source": [
    "from langchain_core.output_parsers import StrOutputParser\n",
    "from langchain_core.prompts import ChatPromptTemplate\n",
    "from langchain_openai import ChatOpenAI\n",
    "\n",
    "prompt = ChatPromptTemplate.from_messages(\n",
    "    [\n",
    "        (\"system\", \"You are a helpful assistant.\"),\n",
    "        (\"human\", \"{input}\"),\n",
    "    ]\n",
    ")\n",
    "\n",
    "model = ChatOpenAI(model=\"gpt-4o-mini\", temperature=0)\n",
    "\n",
    "output_parser = StrOutputParser()"
   ]
  },
  {
   "cell_type": "code",
   "execution_count": 18,
   "id": "d94ffa63",
   "metadata": {},
   "outputs": [
    {
     "name": "stdout",
     "output_type": "stream",
     "text": [
      "HELLO! HOW CAN I ASSIST YOU TODAY?\n"
     ]
    }
   ],
   "source": [
    "from langchain_core.runnables import chain\n",
    "\n",
    "\n",
    "@chain\n",
    "def upper(text: str) -> str:\n",
    "    return text.upper()\n",
    "\n",
    "\n",
    "chain = prompt | model | output_parser | upper\n",
    "\n",
    "ai_message = chain.invoke({\"input\": \"Hello!\"})\n",
    "print(ai_message)"
   ]
  },
  {
   "cell_type": "markdown",
   "id": "74f47739",
   "metadata": {},
   "source": [
    "### 明示しなくても自動でRunnableへ変換される"
   ]
  },
  {
   "cell_type": "code",
   "execution_count": 19,
   "id": "8e3a564c",
   "metadata": {},
   "outputs": [
    {
     "name": "stdout",
     "output_type": "stream",
     "text": [
      "HELLO! HOW CAN I ASSIST YOU TODAY?\n"
     ]
    }
   ],
   "source": [
    "def upper(text: str) -> str:\n",
    "    return text.upper()\n",
    "\n",
    "chain = prompt | model | output_parser | upper\n",
    "\n",
    "ai_message = chain.invoke({\"input\": \"Hello!\"})\n",
    "print(ai_message)"
   ]
  },
  {
   "cell_type": "markdown",
   "id": "bde04012",
   "metadata": {},
   "source": [
    "## 並列実行"
   ]
  },
  {
   "cell_type": "code",
   "execution_count": 20,
   "id": "b2f1c8c6",
   "metadata": {},
   "outputs": [],
   "source": [
    "from langchain_core.output_parsers import StrOutputParser\n",
    "from langchain_core.prompts import ChatPromptTemplate\n",
    "from langchain_openai import ChatOpenAI\n",
    "\n",
    "model = ChatOpenAI(model=\"gpt-4o-mini\", temperature=0)\n",
    "output_parser = StrOutputParser()"
   ]
  },
  {
   "cell_type": "code",
   "execution_count": 21,
   "id": "1a0b77d5",
   "metadata": {},
   "outputs": [],
   "source": [
    "optimistic_prompt = ChatPromptTemplate.from_messages(\n",
    "    [\n",
    "        (\"system\", \"あなたは楽観主義者です。ユーザーの入力に対して楽観的な意見をください。\"),\n",
    "        (\"human\", \"{topic}\"),\n",
    "    ]\n",
    ")\n",
    "optimistic_chain = optimistic_prompt | model | output_parser"
   ]
  },
  {
   "cell_type": "code",
   "execution_count": 22,
   "id": "40237da9",
   "metadata": {},
   "outputs": [],
   "source": [
    "pessimistic_prompt = ChatPromptTemplate.from_messages(\n",
    "    [\n",
    "        (\"system\", \"あなたは悲観主義者です。ユーザーの入力に対して悲観的な意見をください。\"),\n",
    "        (\"human\", \"{topic}\"),\n",
    "    ]\n",
    ")\n",
    "pessimistic_chain = pessimistic_prompt | model | output_parser"
   ]
  },
  {
   "cell_type": "code",
   "execution_count": 23,
   "id": "e1b5b1a7",
   "metadata": {},
   "outputs": [
    {
     "name": "stdout",
     "output_type": "stream",
     "text": [
      "{'optimistic_opinion': '生成AIの進化は本当に素晴らしいですね！技術が進むことで、私たちの生活がより便利で豊かになる可能性が広がっています。クリエイティブな作業や問題解決の手助けをしてくれるAIが増えてきて、私たちのアイデアを実現するためのパートナーとして活躍しています。\\n'\n",
      "                       '\\n'\n",
      "                       'また、生成AIは教育や医療、エンターテインメントなど、さまざまな分野での革新を促進しています。これにより、より多くの人々が新しい知識や体験にアクセスできるようになり、社会全体が進化していくのです。未来には、AIと人間が協力して、より良い世界を築いていく姿が見られることでしょう！',\n",
      " 'pessimistic_opinion': '生成AIの進化は確かに目覚ましいものがありますが、その一方で多くの懸念も抱えています。技術が進化することで、私たちの仕事が奪われたり、情報の信頼性が低下したりするリスクが高まっています。さらに、AIが生成するコンテンツが人間の創造性を脅かし、私たちの思考や感情に悪影響を及ぼす可能性もあります。結局のところ、便利さの裏には常にリスクが潜んでいるのです。私たちがこの技術をどのように扱うかが、未来における大きな課題となるでしょう。'}\n"
     ]
    }
   ],
   "source": [
    "import pprint\n",
    "from langchain_core.runnables import RunnableParallel\n",
    "\n",
    "parallel_chain = RunnableParallel(\n",
    "    {\n",
    "        \"optimistic_opinion\": optimistic_chain,\n",
    "        \"pessimistic_opinion\": pessimistic_chain,\n",
    "    }\n",
    ")\n",
    "\n",
    "output = parallel_chain.invoke({\"topic\": \"生成AIの進化について\"})\n",
    "pprint.pprint(output)"
   ]
  },
  {
   "cell_type": "markdown",
   "id": "ccfe0c15",
   "metadata": {},
   "source": [
    "### 並列処理の結果をまとめる"
   ]
  },
  {
   "cell_type": "code",
   "execution_count": 24,
   "id": "b721f140",
   "metadata": {},
   "outputs": [],
   "source": [
    "synthesize_prompt = ChatPromptTemplate.from_messages(\n",
    "    [\n",
    "        (\"system\", \"あなたは客観的AIです。2つの意見をまとめてください。\"),\n",
    "        (\"human\", \"楽観的意見: {optimistic_opinion}\\n悲観的意見: {pessimistic_opinion}\"),\n",
    "    ]\n",
    ")"
   ]
  },
  {
   "cell_type": "code",
   "execution_count": 25,
   "id": "f5498478",
   "metadata": {},
   "outputs": [],
   "source": [
    "synthesize_chain = (\n",
    "    {\n",
    "        \"optimistic_opinion\": optimistic_chain,\n",
    "        \"pessimistic_opinion\": pessimistic_chain,\n",
    "    }\n",
    "    | synthesize_prompt\n",
    "    | model\n",
    "    | output_parser\n",
    ")"
   ]
  },
  {
   "cell_type": "code",
   "execution_count": 26,
   "id": "44a1f25e",
   "metadata": {},
   "outputs": [
    {
     "name": "stdout",
     "output_type": "stream",
     "text": [
      "生成AIの進化については、楽観的な意見と悲観的な意見が存在します。楽観的な見方では、生成AIが私たちの生活を便利で豊かにし、クリエイティブな作業や問題解決のパートナーとしての役割を果たすことで、教育や医療、エンターテインメントなどの分野で革新を促進し、社会全体の進化に寄与する可能性が強調されています。\n",
      "\n",
      "一方で、悲観的な見方では、技術の進化が仕事の喪失や情報の信頼性の低下を引き起こすリスクが指摘されており、AIが生成するコンテンツの氾濫が真実と虚偽の区別を難しくし、社会の混乱を招く可能性が懸念されています。\n",
      "\n",
      "このように、生成AIの進化は便利さとリスクの両面を持ち合わせており、未来に向けてそのバランスをどのように取るかが重要な課題となっています。\n"
     ]
    }
   ],
   "source": [
    "output = synthesize_chain.invoke({\"topic\": \"生成AIの進化について\"})\n",
    "print(output)"
   ]
  },
  {
   "cell_type": "markdown",
   "id": "69aca249",
   "metadata": {},
   "source": [
    "## 入力をそのまま出力する"
   ]
  },
  {
   "cell_type": "code",
   "execution_count": 28,
   "id": "8abf5174",
   "metadata": {},
   "outputs": [
    {
     "name": "stdout",
     "output_type": "stream",
     "text": [
      "Collecting tavily-python==0.5.0\n",
      "  Downloading tavily_python-0.5.0-py3-none-any.whl.metadata (11 kB)\n",
      "Requirement already satisfied: requests in /work/python_coding/.venv/lib/python3.12/site-packages (from tavily-python==0.5.0) (2.32.4)\n",
      "Requirement already satisfied: tiktoken>=0.5.1 in /work/python_coding/.venv/lib/python3.12/site-packages (from tavily-python==0.5.0) (0.9.0)\n",
      "Requirement already satisfied: httpx in /work/python_coding/.venv/lib/python3.12/site-packages (from tavily-python==0.5.0) (0.28.1)\n",
      "Requirement already satisfied: regex>=2022.1.18 in /work/python_coding/.venv/lib/python3.12/site-packages (from tiktoken>=0.5.1->tavily-python==0.5.0) (2024.11.6)\n",
      "Requirement already satisfied: charset_normalizer<4,>=2 in /work/python_coding/.venv/lib/python3.12/site-packages (from requests->tavily-python==0.5.0) (3.4.2)\n",
      "Requirement already satisfied: idna<4,>=2.5 in /work/python_coding/.venv/lib/python3.12/site-packages (from requests->tavily-python==0.5.0) (3.10)\n",
      "Requirement already satisfied: urllib3<3,>=1.21.1 in /work/python_coding/.venv/lib/python3.12/site-packages (from requests->tavily-python==0.5.0) (2.4.0)\n",
      "Requirement already satisfied: certifi>=2017.4.17 in /work/python_coding/.venv/lib/python3.12/site-packages (from requests->tavily-python==0.5.0) (2025.6.15)\n",
      "Requirement already satisfied: anyio in /work/python_coding/.venv/lib/python3.12/site-packages (from httpx->tavily-python==0.5.0) (4.9.0)\n",
      "Requirement already satisfied: httpcore==1.* in /work/python_coding/.venv/lib/python3.12/site-packages (from httpx->tavily-python==0.5.0) (1.0.9)\n",
      "Requirement already satisfied: h11>=0.16 in /work/python_coding/.venv/lib/python3.12/site-packages (from httpcore==1.*->httpx->tavily-python==0.5.0) (0.16.0)\n",
      "Requirement already satisfied: sniffio>=1.1 in /work/python_coding/.venv/lib/python3.12/site-packages (from anyio->httpx->tavily-python==0.5.0) (1.3.1)\n",
      "Requirement already satisfied: typing_extensions>=4.5 in /work/python_coding/.venv/lib/python3.12/site-packages (from anyio->httpx->tavily-python==0.5.0) (4.14.0)\n",
      "Downloading tavily_python-0.5.0-py3-none-any.whl (14 kB)\n",
      "Installing collected packages: tavily-python\n",
      "Successfully installed tavily-python-0.5.0\n"
     ]
    }
   ],
   "source": [
    "!pip install tavily-python==0.5.0"
   ]
  },
  {
   "cell_type": "code",
   "execution_count": 29,
   "id": "262662fd",
   "metadata": {},
   "outputs": [],
   "source": [
    "from langchain_core.prompts import ChatPromptTemplate\n",
    "from langchain_openai import ChatOpenAI\n",
    "\n",
    "prompt = ChatPromptTemplate.from_template('''\\\n",
    "以下の文脈だけを踏まえて質問に回答してください。\n",
    "\n",
    "文脈: \"\"\"\n",
    "{context}\n",
    "\"\"\"\n",
    "\n",
    "質問: {question}\n",
    "''')\n",
    "\n",
    "model = ChatOpenAI(model_name=\"gpt-4o-mini\", temperature=0)"
   ]
  },
  {
   "cell_type": "code",
   "execution_count": 30,
   "id": "97286e06",
   "metadata": {},
   "outputs": [],
   "source": [
    "from langchain_community.retrievers import TavilySearchAPIRetriever\n",
    "\n",
    "retriever = TavilySearchAPIRetriever(k=3)"
   ]
  },
  {
   "cell_type": "code",
   "execution_count": 31,
   "id": "db63c99d",
   "metadata": {},
   "outputs": [
    {
     "name": "stdout",
     "output_type": "stream",
     "text": [
      "東京の今日、5月29日(木)の天気は「曇のち雨」となっています。昼頃から所々で雨雲が湧き、夜には広く雨が降る予報です。気温は最高23℃、最低17℃の予想です。\n"
     ]
    }
   ],
   "source": [
    "from langchain_core.runnables import RunnablePassthrough\n",
    "\n",
    "chain = (\n",
    "    {\"context\": retriever, \"question\": RunnablePassthrough()}\n",
    "    | prompt\n",
    "    | model\n",
    "    | StrOutputParser()\n",
    ")\n",
    "\n",
    "output = chain.invoke(\"東京の今日の天気は？\")\n",
    "print(output)"
   ]
  },
  {
   "cell_type": "markdown",
   "id": "06369898",
   "metadata": {},
   "source": [
    "### 途中の出力(retriever)も確認する"
   ]
  },
  {
   "cell_type": "code",
   "execution_count": 32,
   "id": "8aec5d47",
   "metadata": {},
   "outputs": [
    {
     "name": "stdout",
     "output_type": "stream",
     "text": [
      "{'answer': '東京の今日、5月29日(木)の天気は「曇のち雨」となっています。昼頃から所々で雨雲が湧き、夜には広く雨が降る予報です。気温は最高23℃、最低17℃の予想です。',\n",
      " 'context': [Document(metadata={'title': '東京都の天気 - 日本気象協会 tenki.jp', 'source': 'https://tenki.jp/forecast/3/16/', 'score': 0.7803451, 'images': []}, page_content='# tenki.jp 雨雲レーダー) 天気図 PM2.5分布予測 地震情報 日直予報士 熱中症情報 東京都の天気 ### 05月29日(木) 東京都の天気 曇のち雨 曇のち雨 曇のち雨 曇のち雨 曇のち雨 曇のち雨 曇のち雨 曇のち雨 晴時々曇 曇のち雨 曇のち雨 曇のち雨 曇のち雨 曇のち雨 最新の天気履歴 渋谷区 曇のち雨 豊島区 曇のち雨 江東区 曇のち雨 港区 曇のち雨 大田区 曇のち雨 府中市 曇のち雨 奥多摩町 曇のち雨 関東・甲信 ### 気象予報士のポイント解説(日直予報士) newマーク 関東甲信\\u3000今日29日は天気下り坂\\u3000昼頃から所々で雨雲が湧く\\u3000夜は広く雨に 関東甲信\\u3000今日29日は天気下り坂\\u3000昼頃から所々で雨雲が湧く\\u3000夜は広く雨に newマーク 今日29日は気圧が低下\\u3000沖縄や九州から近畿は影響度「大」の所も\\u3000頭痛など注意 今日29日は気圧が低下\\u3000沖縄や九州から近畿は影響度「大」の所も\\u3000頭痛など注意 今日29日\\u3000九州から関東は次第に雨\\u3000東北と北海道は晴れて気温上昇\\u3000真夏日も 今日29日\\u3000九州から関東は次第に雨\\u3000東北と北海道は晴れて気温上昇\\u3000真夏日も ### 東京都各地の天気 #### 東京23区 #### 多摩 #### 伊豆諸島北部(大島) #### 伊豆諸島南部(八丈島) #### 小笠原諸島(父島) ### おすすめ記事 LINEの友達追加 ### 天気ガイド 雨雲 ### 注目の情報 アプリに便利なサブスクプラン開始 「tenki.jpライト」なら現在地の雨雲接近通知が受け取れる！ 新サービス「気圧予報」 気圧変化を確認して、頭痛やめまい、倦怠感といった症状に備えましょう。 X（旧Twitter） tenki.jpの公式X（旧Twitter） 最新の気象・防災情報や、生活に役立つ情報を毎日リアルタイムに配信中！ 天気予報 観測 防災情報 天気図 指数情報 レジャー天気 季節特集 天気ニュース X(旧：Twitter) Youtube Facebook Instagram LINEの友達追加 tenki.jp tenki.jp tenki.jp 登山天気 tenki.jp 登山天気 全国のコンテンツ tenki.jpトップ 天気予報 観測 防災情報 天気図'),\n",
      "             Document(metadata={'title': '東京（東京）の天気 - Yahoo!天気・災害 - Yahoo! JAPAN', 'source': 'https://weather.yahoo.co.jp/weather/jp/13/4410.html', 'score': 0.70336664, 'images': []}, page_content='2025年5月29日 4時00分発表 | 5月29日(木)  曇り曇り   * *23*℃[-2] * *17*℃[0]  |  |  |  |  |  | | --- | --- | --- | --- | --- | | 時間 | 0-6 | 6-12 | 12-18 | 18-24 | | 降水 | 0％ | 0％ | 10％ | 20％ |   風：  東の風後南東の風  波：  0.5メートル | 5月30日(金)  雨時々曇雨時々曇   * *19*℃[-4] * *15*℃[-2]  |  |  |  |  |  | | --- | --- | --- | --- | --- | | 時間 | 0-6 | 6-12 | 12-18 | 18-24 | | 降水 | 90％ | 100％ | 70％ | 50％ |   風：  北の風２３区西部では北の風やや強く  波：  0.5メートル後1.5メートル | 2025年5月28日 18時00分 発表 2025年5月29日 2時00分発表 | 天気 | 曇時々晴  曇時々晴 | 曇時々晴  曇時々晴 | 曇時々晴  曇時々晴 | 曇一時雨  曇一時雨 | 曇時々晴  曇時々晴 | 曇時々晴  曇時々晴 | 曇時々晴 曇時々晴 曇時々晴 曇一時雨 曇時々晴 曇時々晴 2025年5月29日 4時00分 発表 | Facebook | | Twitter | | Facebook Twitter'),\n",
      "             Document(metadata={'title': '東京の天気予報 - ウェザーニュース', 'source': 'https://weathernews.jp/onebox/tenki/tokyo/', 'score': 0.6778372, 'images': []}, page_content='{{item.cityname}} {{item.high}} {{item.low}} è\\x87ªç\\x84¶ã\\x83»å\\xad£ç¯\\x80ã\\x83»ã\\x83¬ã\\x82¸ã\\x83£ã\\x83¼æ\\x83\\x85å ± æ¢\\x85é\\x9b¨æ\\x83\\x85å ± è\\x8a±ç²\\x89é£\\x9bæ\\x95£æ\\x83\\x85å ± å\\x9c°é\\x9c\\x87æ\\x83\\x85å ± å\\x8f°é¢¨æ\\x83\\x85å ± é\\x95·æ\\x9c\\x9fäº\\x88å ± å\\x8f°é¢¨æ\\x83\\x85å ± å\\x9c°é\\x9c\\x87æ\\x83\\x85å ± æ´¥æ³¢æ\\x83\\x85å ± ç\\x81«å±±æ\\x83\\x85å ± æ¸\\x9bç\\x81½æ\\x83\\x85å ± é\\x81¿é\\x9b£æ\\x83\\x85å ± ã\\x81\\x95ã\\x81\\x8fã\\x82\\x89é\\x96\\x8bè\\x8a±æ\\x83\\x85å ± ã\\x82¹ã\\x82\\xadã\\x83¼ï¼\\x86ã\\x82¹ã\\x83\\x8eã\\x83\\x9cæ\\x83\\x85å ± è\\x8a±ç\\x81«å¤©æ°\\x97 Ch. ã\\x81»ã\\x81\\x9fã\\x82\\x8bæ\\x83\\x85å ± ã\\x81\\x82ã\\x81\\x98ã\\x81\\x95ã\\x81\\x84æ\\x83\\x85å ± æ\\x98\\x9fç©ºæ\\x83\\x85å ± å\\x88\\x9dæ\\x97¥ã\\x81®å\\x87ºæ\\x83\\x85å ± å\\x88\\x9dè©£æ\\x83\\x85å ± ç´\\x85è\\x91\\x89æ\\x83\\x85å ± ã\\x82¤ã\\x83«ã\\x83\\x9fã\\x83\\x8dã\\x83¼ã\\x82·ã\\x83§ã\\x83³æ\\x83\\x85å ± è\\x8a±ç²\\x89é£\\x9bæ\\x95£æ\\x83\\x85å ± å¤©æ°\\x97ç\\x97\\x9bäº\\x88å ± ç\\x86±ä¸\\xadç\\x97\\x87äº\\x88å ± ç´«å¤\\x96ç·\\x9aäº\\x88å ± æ\\x9c\\x8dè£\\x85äº\\x88å ± ã\\x81\\x8aæ´\\x97æ¿¯æ\\x83\\x85å ± Labs Ch. # æ\\x9d±äº¬ã\\x81®å¤©æ°\\x97äº\\x88å ± ## {{pref\\\\_jp}}{{cityname}}ã\\x81®1æ\\x99\\x82é\\x96\\x93æ¯\\x8eã\\x81®å¤©æ°\\x97 {{daily.date}}æ\\x97¥{{daily.youbi\\\\_str}} {{hourly.time}} {{hourly.prec}} {{hourly.temp}} {{hourly.wndspd}} ## {{pref\\\\_jp}}{{cityname}}ã\\x81®é\\x80±é\\x96\\x93å¤©æ°\\x97äº\\x88å ±ï¼\\x8810æ\\x97¥é\\x96\\x93ï¼\\x89 {{item.date}}   {{item.youbi\\\\_str}} {{item.high}} {{item.low}} {{item.pop}} ## å¸\\x82å\\x8cºç\\x94ºæ\\x9d\\x91å\\x88¥ã\\x81®å¤©æ°\\x97äº\\x88å ± {{point.rank}} ({{point.pref}}) ({{point.dateRecord}}) ## å\\x90\\x84ã\\x82¨ã\\x83ªã\\x82¢ã\\x81®å¤©æ°\\x97äº\\x88å ± {{point.rank}} ({{point.pref}}) ({{point.dateRecord}}) ### è\\x87ªç\\x84¶ã\\x83»å\\xad£ç¯\\x80ã\\x83»ã\\x83¬ã\\x82¸ã\\x83£ã\\x83¼æ\\x83\\x85å ±')],\n",
      " 'question': '東京の今日の天気は？'}\n"
     ]
    }
   ],
   "source": [
    "import pprint\n",
    "\n",
    "chain = {\n",
    "    \"question\": RunnablePassthrough(),\n",
    "    \"context\": retriever,\n",
    "} | RunnablePassthrough.assign(answer=prompt | model | StrOutputParser())\n",
    "\n",
    "output = chain.invoke(\"東京の今日の天気は？\")\n",
    "pprint.pprint(output)"
   ]
  },
  {
   "cell_type": "code",
   "execution_count": 33,
   "id": "b85930fb",
   "metadata": {},
   "outputs": [],
   "source": [
    "from langchain_core.runnables import RunnableParallel\n",
    "\n",
    "chain = RunnableParallel(\n",
    "    {\n",
    "        \"question\": RunnablePassthrough(),\n",
    "        \"context\": retriever,\n",
    "    }\n",
    ").assign(answer=prompt | model | StrOutputParser())"
   ]
  },
  {
   "cell_type": "code",
   "execution_count": 34,
   "id": "a208af15",
   "metadata": {},
   "outputs": [
    {
     "name": "stdout",
     "output_type": "stream",
     "text": [
      "{'question': '東京の今日の天気は？', 'context': [Document(metadata={'title': '東京都の天気 - 日本気象協会 tenki.jp', 'source': 'https://tenki.jp/forecast/3/16/', 'score': 0.7803451, 'images': []}, page_content='# tenki.jp 雨雲レーダー) 天気図 PM2.5分布予測 地震情報 日直予報士 熱中症情報 東京都の天気 ### 05月29日(木) 東京都の天気 曇のち雨 曇のち雨 曇のち雨 曇のち雨 曇のち雨 曇のち雨 曇のち雨 曇のち雨 晴時々曇 曇のち雨 曇のち雨 曇のち雨 曇のち雨 曇のち雨 最新の天気履歴 渋谷区 曇のち雨 豊島区 曇のち雨 江東区 曇のち雨 港区 曇のち雨 大田区 曇のち雨 府中市 曇のち雨 奥多摩町 曇のち雨 関東・甲信 ### 気象予報士のポイント解説(日直予報士) newマーク 関東甲信\\u3000今日29日は天気下り坂\\u3000昼頃から所々で雨雲が湧く\\u3000夜は広く雨に 関東甲信\\u3000今日29日は天気下り坂\\u3000昼頃から所々で雨雲が湧く\\u3000夜は広く雨に newマーク 今日29日は気圧が低下\\u3000沖縄や九州から近畿は影響度「大」の所も\\u3000頭痛など注意 今日29日は気圧が低下\\u3000沖縄や九州から近畿は影響度「大」の所も\\u3000頭痛など注意 今日29日\\u3000九州から関東は次第に雨\\u3000東北と北海道は晴れて気温上昇\\u3000真夏日も 今日29日\\u3000九州から関東は次第に雨\\u3000東北と北海道は晴れて気温上昇\\u3000真夏日も ### 東京都各地の天気 #### 東京23区 #### 多摩 #### 伊豆諸島北部(大島) #### 伊豆諸島南部(八丈島) #### 小笠原諸島(父島) ### おすすめ記事 LINEの友達追加 ### 天気ガイド 雨雲 ### 注目の情報 アプリに便利なサブスクプラン開始 「tenki.jpライト」なら現在地の雨雲接近通知が受け取れる！ 新サービス「気圧予報」 気圧変化を確認して、頭痛やめまい、倦怠感といった症状に備えましょう。 X（旧Twitter） tenki.jpの公式X（旧Twitter） 最新の気象・防災情報や、生活に役立つ情報を毎日リアルタイムに配信中！ 天気予報 観測 防災情報 天気図 指数情報 レジャー天気 季節特集 天気ニュース X(旧：Twitter) Youtube Facebook Instagram LINEの友達追加 tenki.jp tenki.jp tenki.jp 登山天気 tenki.jp 登山天気 全国のコンテンツ tenki.jpトップ 天気予報 観測 防災情報 天気図'), Document(metadata={'title': '東京（東京）の天気 - Yahoo!天気・災害 - Yahoo! JAPAN', 'source': 'https://weather.yahoo.co.jp/weather/jp/13/4410.html', 'score': 0.70336664, 'images': []}, page_content='2025年5月29日 4時00分発表 | 5月29日(木)  曇り曇り   * *23*℃[-2] * *17*℃[0]  |  |  |  |  |  | | --- | --- | --- | --- | --- | | 時間 | 0-6 | 6-12 | 12-18 | 18-24 | | 降水 | 0％ | 0％ | 10％ | 20％ |   風：  東の風後南東の風  波：  0.5メートル | 5月30日(金)  雨時々曇雨時々曇   * *19*℃[-4] * *15*℃[-2]  |  |  |  |  |  | | --- | --- | --- | --- | --- | | 時間 | 0-6 | 6-12 | 12-18 | 18-24 | | 降水 | 90％ | 100％ | 70％ | 50％ |   風：  北の風２３区西部では北の風やや強く  波：  0.5メートル後1.5メートル | 2025年5月28日 18時00分 発表 2025年5月29日 2時00分発表 | 天気 | 曇時々晴  曇時々晴 | 曇時々晴  曇時々晴 | 曇時々晴  曇時々晴 | 曇一時雨  曇一時雨 | 曇時々晴  曇時々晴 | 曇時々晴  曇時々晴 | 曇時々晴 曇時々晴 曇時々晴 曇一時雨 曇時々晴 曇時々晴 2025年5月29日 4時00分 発表 | Facebook | | Twitter | | Facebook Twitter'), Document(metadata={'title': '東京の天気予報 - ウェザーニュース', 'source': 'https://weathernews.jp/onebox/tenki/tokyo/', 'score': 0.6778372, 'images': []}, page_content='{{item.cityname}} {{item.high}} {{item.low}} è\\x87ªç\\x84¶ã\\x83»å\\xad£ç¯\\x80ã\\x83»ã\\x83¬ã\\x82¸ã\\x83£ã\\x83¼æ\\x83\\x85å ± æ¢\\x85é\\x9b¨æ\\x83\\x85å ± è\\x8a±ç²\\x89é£\\x9bæ\\x95£æ\\x83\\x85å ± å\\x9c°é\\x9c\\x87æ\\x83\\x85å ± å\\x8f°é¢¨æ\\x83\\x85å ± é\\x95·æ\\x9c\\x9fäº\\x88å ± å\\x8f°é¢¨æ\\x83\\x85å ± å\\x9c°é\\x9c\\x87æ\\x83\\x85å ± æ´¥æ³¢æ\\x83\\x85å ± ç\\x81«å±±æ\\x83\\x85å ± æ¸\\x9bç\\x81½æ\\x83\\x85å ± é\\x81¿é\\x9b£æ\\x83\\x85å ± ã\\x81\\x95ã\\x81\\x8fã\\x82\\x89é\\x96\\x8bè\\x8a±æ\\x83\\x85å ± ã\\x82¹ã\\x82\\xadã\\x83¼ï¼\\x86ã\\x82¹ã\\x83\\x8eã\\x83\\x9cæ\\x83\\x85å ± è\\x8a±ç\\x81«å¤©æ°\\x97 Ch. ã\\x81»ã\\x81\\x9fã\\x82\\x8bæ\\x83\\x85å ± ã\\x81\\x82ã\\x81\\x98ã\\x81\\x95ã\\x81\\x84æ\\x83\\x85å ± æ\\x98\\x9fç©ºæ\\x83\\x85å ± å\\x88\\x9dæ\\x97¥ã\\x81®å\\x87ºæ\\x83\\x85å ± å\\x88\\x9dè©£æ\\x83\\x85å ± ç´\\x85è\\x91\\x89æ\\x83\\x85å ± ã\\x82¤ã\\x83«ã\\x83\\x9fã\\x83\\x8dã\\x83¼ã\\x82·ã\\x83§ã\\x83³æ\\x83\\x85å ± è\\x8a±ç²\\x89é£\\x9bæ\\x95£æ\\x83\\x85å ± å¤©æ°\\x97ç\\x97\\x9bäº\\x88å ± ç\\x86±ä¸\\xadç\\x97\\x87äº\\x88å ± ç´«å¤\\x96ç·\\x9aäº\\x88å ± æ\\x9c\\x8dè£\\x85äº\\x88å ± ã\\x81\\x8aæ´\\x97æ¿¯æ\\x83\\x85å ± Labs Ch. # æ\\x9d±äº¬ã\\x81®å¤©æ°\\x97äº\\x88å ± ## {{pref\\\\_jp}}{{cityname}}ã\\x81®1æ\\x99\\x82é\\x96\\x93æ¯\\x8eã\\x81®å¤©æ°\\x97 {{daily.date}}æ\\x97¥{{daily.youbi\\\\_str}} {{hourly.time}} {{hourly.prec}} {{hourly.temp}} {{hourly.wndspd}} ## {{pref\\\\_jp}}{{cityname}}ã\\x81®é\\x80±é\\x96\\x93å¤©æ°\\x97äº\\x88å ±ï¼\\x8810æ\\x97¥é\\x96\\x93ï¼\\x89 {{item.date}}   {{item.youbi\\\\_str}} {{item.high}} {{item.low}} {{item.pop}} ## å¸\\x82å\\x8cºç\\x94ºæ\\x9d\\x91å\\x88¥ã\\x81®å¤©æ°\\x97äº\\x88å ± {{point.rank}} ({{point.pref}}) ({{point.dateRecord}}) ## å\\x90\\x84ã\\x82¨ã\\x83ªã\\x82¢ã\\x81®å¤©æ°\\x97äº\\x88å ± {{point.rank}} ({{point.pref}}) ({{point.dateRecord}}) ### è\\x87ªç\\x84¶ã\\x83»å\\xad£ç¯\\x80ã\\x83»ã\\x83¬ã\\x82¸ã\\x83£ã\\x83¼æ\\x83\\x85å ±')], 'answer': '東京の今日、5月29日(木)の天気は「曇のち雨」となっています。昼頃から所々で雨雲が湧き、夜には広く雨が降る予報です。気温は最高23℃、最低17℃の予想です。'}\n"
     ]
    }
   ],
   "source": [
    "output = chain.invoke(\"東京の今日の天気は？\")\n",
    "print(output)"
   ]
  },
  {
   "cell_type": "code",
   "execution_count": 36,
   "id": "f9499443",
   "metadata": {},
   "outputs": [
    {
     "name": "stdout",
     "output_type": "stream",
     "text": [
      "{'answer': '東京の今日、5月29日(木)の天気は「曇のち雨」となっています。昼頃から所々で雨雲が湧き、夜には広く雨が降る予報です。気温は最高23℃、最低17℃の予想です。',\n",
      " 'context': [Document(metadata={'title': '東京都の天気 - 日本気象協会 tenki.jp', 'source': 'https://tenki.jp/forecast/3/16/', 'score': 0.7803451, 'images': []}, page_content='# tenki.jp 雨雲レーダー) 天気図 PM2.5分布予測 地震情報 日直予報士 熱中症情報 東京都の天気 ### 05月29日(木) 東京都の天気 曇のち雨 曇のち雨 曇のち雨 曇のち雨 曇のち雨 曇のち雨 曇のち雨 曇のち雨 晴時々曇 曇のち雨 曇のち雨 曇のち雨 曇のち雨 曇のち雨 最新の天気履歴 渋谷区 曇のち雨 豊島区 曇のち雨 江東区 曇のち雨 港区 曇のち雨 大田区 曇のち雨 府中市 曇のち雨 奥多摩町 曇のち雨 関東・甲信 ### 気象予報士のポイント解説(日直予報士) newマーク 関東甲信\\u3000今日29日は天気下り坂\\u3000昼頃から所々で雨雲が湧く\\u3000夜は広く雨に 関東甲信\\u3000今日29日は天気下り坂\\u3000昼頃から所々で雨雲が湧く\\u3000夜は広く雨に newマーク 今日29日は気圧が低下\\u3000沖縄や九州から近畿は影響度「大」の所も\\u3000頭痛など注意 今日29日は気圧が低下\\u3000沖縄や九州から近畿は影響度「大」の所も\\u3000頭痛など注意 今日29日\\u3000九州から関東は次第に雨\\u3000東北と北海道は晴れて気温上昇\\u3000真夏日も 今日29日\\u3000九州から関東は次第に雨\\u3000東北と北海道は晴れて気温上昇\\u3000真夏日も ### 東京都各地の天気 #### 東京23区 #### 多摩 #### 伊豆諸島北部(大島) #### 伊豆諸島南部(八丈島) #### 小笠原諸島(父島) ### おすすめ記事 LINEの友達追加 ### 天気ガイド 雨雲 ### 注目の情報 アプリに便利なサブスクプラン開始 「tenki.jpライト」なら現在地の雨雲接近通知が受け取れる！ 新サービス「気圧予報」 気圧変化を確認して、頭痛やめまい、倦怠感といった症状に備えましょう。 X（旧Twitter） tenki.jpの公式X（旧Twitter） 最新の気象・防災情報や、生活に役立つ情報を毎日リアルタイムに配信中！ 天気予報 観測 防災情報 天気図 指数情報 レジャー天気 季節特集 天気ニュース X(旧：Twitter) Youtube Facebook Instagram LINEの友達追加 tenki.jp tenki.jp tenki.jp 登山天気 tenki.jp 登山天気 全国のコンテンツ tenki.jpトップ 天気予報 観測 防災情報 天気図'),\n",
      "             Document(metadata={'title': '東京（東京）の天気 - Yahoo!天気・災害 - Yahoo! JAPAN', 'source': 'https://weather.yahoo.co.jp/weather/jp/13/4410.html', 'score': 0.70336664, 'images': []}, page_content='2025年5月29日 4時00分発表 | 5月29日(木)  曇り曇り   * *23*℃[-2] * *17*℃[0]  |  |  |  |  |  | | --- | --- | --- | --- | --- | | 時間 | 0-6 | 6-12 | 12-18 | 18-24 | | 降水 | 0％ | 0％ | 10％ | 20％ |   風：  東の風後南東の風  波：  0.5メートル | 5月30日(金)  雨時々曇雨時々曇   * *19*℃[-4] * *15*℃[-2]  |  |  |  |  |  | | --- | --- | --- | --- | --- | | 時間 | 0-6 | 6-12 | 12-18 | 18-24 | | 降水 | 90％ | 100％ | 70％ | 50％ |   風：  北の風２３区西部では北の風やや強く  波：  0.5メートル後1.5メートル | 2025年5月28日 18時00分 発表 2025年5月29日 2時00分発表 | 天気 | 曇時々晴  曇時々晴 | 曇時々晴  曇時々晴 | 曇時々晴  曇時々晴 | 曇一時雨  曇一時雨 | 曇時々晴  曇時々晴 | 曇時々晴  曇時々晴 | 曇時々晴 曇時々晴 曇時々晴 曇一時雨 曇時々晴 曇時々晴 2025年5月29日 4時00分 発表 | Facebook | | Twitter | | Facebook Twitter'),\n",
      "             Document(metadata={'title': '東京の天気予報 - ウェザーニュース', 'source': 'https://weathernews.jp/onebox/tenki/tokyo/', 'score': 0.6778372, 'images': []}, page_content='{{item.cityname}} {{item.high}} {{item.low}} è\\x87ªç\\x84¶ã\\x83»å\\xad£ç¯\\x80ã\\x83»ã\\x83¬ã\\x82¸ã\\x83£ã\\x83¼æ\\x83\\x85å ± æ¢\\x85é\\x9b¨æ\\x83\\x85å ± è\\x8a±ç²\\x89é£\\x9bæ\\x95£æ\\x83\\x85å ± å\\x9c°é\\x9c\\x87æ\\x83\\x85å ± å\\x8f°é¢¨æ\\x83\\x85å ± é\\x95·æ\\x9c\\x9fäº\\x88å ± å\\x8f°é¢¨æ\\x83\\x85å ± å\\x9c°é\\x9c\\x87æ\\x83\\x85å ± æ´¥æ³¢æ\\x83\\x85å ± ç\\x81«å±±æ\\x83\\x85å ± æ¸\\x9bç\\x81½æ\\x83\\x85å ± é\\x81¿é\\x9b£æ\\x83\\x85å ± ã\\x81\\x95ã\\x81\\x8fã\\x82\\x89é\\x96\\x8bè\\x8a±æ\\x83\\x85å ± ã\\x82¹ã\\x82\\xadã\\x83¼ï¼\\x86ã\\x82¹ã\\x83\\x8eã\\x83\\x9cæ\\x83\\x85å ± è\\x8a±ç\\x81«å¤©æ°\\x97 Ch. ã\\x81»ã\\x81\\x9fã\\x82\\x8bæ\\x83\\x85å ± ã\\x81\\x82ã\\x81\\x98ã\\x81\\x95ã\\x81\\x84æ\\x83\\x85å ± æ\\x98\\x9fç©ºæ\\x83\\x85å ± å\\x88\\x9dæ\\x97¥ã\\x81®å\\x87ºæ\\x83\\x85å ± å\\x88\\x9dè©£æ\\x83\\x85å ± ç´\\x85è\\x91\\x89æ\\x83\\x85å ± ã\\x82¤ã\\x83«ã\\x83\\x9fã\\x83\\x8dã\\x83¼ã\\x82·ã\\x83§ã\\x83³æ\\x83\\x85å ± è\\x8a±ç²\\x89é£\\x9bæ\\x95£æ\\x83\\x85å ± å¤©æ°\\x97ç\\x97\\x9bäº\\x88å ± ç\\x86±ä¸\\xadç\\x97\\x87äº\\x88å ± ç´«å¤\\x96ç·\\x9aäº\\x88å ± æ\\x9c\\x8dè£\\x85äº\\x88å ± ã\\x81\\x8aæ´\\x97æ¿¯æ\\x83\\x85å ± Labs Ch. # æ\\x9d±äº¬ã\\x81®å¤©æ°\\x97äº\\x88å ± ## {{pref\\\\_jp}}{{cityname}}ã\\x81®1æ\\x99\\x82é\\x96\\x93æ¯\\x8eã\\x81®å¤©æ°\\x97 {{daily.date}}æ\\x97¥{{daily.youbi\\\\_str}} {{hourly.time}} {{hourly.prec}} {{hourly.temp}} {{hourly.wndspd}} ## {{pref\\\\_jp}}{{cityname}}ã\\x81®é\\x80±é\\x96\\x93å¤©æ°\\x97äº\\x88å ±ï¼\\x8810æ\\x97¥é\\x96\\x93ï¼\\x89 {{item.date}}   {{item.youbi\\\\_str}} {{item.high}} {{item.low}} {{item.pop}} ## å¸\\x82å\\x8cºç\\x94ºæ\\x9d\\x91å\\x88¥ã\\x81®å¤©æ°\\x97äº\\x88å ± {{point.rank}} ({{point.pref}}) ({{point.dateRecord}}) ## å\\x90\\x84ã\\x82¨ã\\x83ªã\\x82¢ã\\x81®å¤©æ°\\x97äº\\x88å ± {{point.rank}} ({{point.pref}}) ({{point.dateRecord}}) ### è\\x87ªç\\x84¶ã\\x83»å\\xad£ç¯\\x80ã\\x83»ã\\x83¬ã\\x82¸ã\\x83£ã\\x83¼æ\\x83\\x85å ±')],\n",
      " 'question': '東京の今日の天気は？'}\n"
     ]
    }
   ],
   "source": [
    "pprint.pprint(output)"
   ]
  },
  {
   "cell_type": "code",
   "execution_count": null,
   "id": "e0ac88d2",
   "metadata": {},
   "outputs": [],
   "source": []
  }
 ],
 "metadata": {
  "kernelspec": {
   "display_name": ".venv",
   "language": "python",
   "name": "python3"
  },
  "language_info": {
   "codemirror_mode": {
    "name": "ipython",
    "version": 3
   },
   "file_extension": ".py",
   "mimetype": "text/x-python",
   "name": "python",
   "nbconvert_exporter": "python",
   "pygments_lexer": "ipython3",
   "version": "3.12.3"
  }
 },
 "nbformat": 4,
 "nbformat_minor": 5
}
